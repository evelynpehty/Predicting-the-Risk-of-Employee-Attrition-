{
 "cells": [
  {
   "cell_type": "markdown",
   "id": "944764d5",
   "metadata": {},
   "source": [
    "# Predicting the Risk of Employees’ Attrition with Classification Models\n",
    "\n",
    "By: Evelyn Peh Ting Yu, Koh Pei Ling, Song Yu Xiang, Wong Jie Peng, Guo Peng Yuan"
   ]
  },
  {
   "cell_type": "markdown",
   "id": "6e021bd4",
   "metadata": {},
   "source": [
    "The US department of labour mentioned that “it could cost up to 11k in direct training expenses and lost productivity to replace an experienced employee earning an annual salary of $33,000.” This statement itself implies that employee attrition is costly. When an employee leaves the organization, the company is not only losing its valuable employees, but the company also loses on the amount that it has spent to recruit and select those employees and to train them for their respective jobs. On the other hand, the organization needs to invest more and more in recruitment, training, and development of new staff to fill up their vacant positions. Due to these reasons, every organization wants to control the attrition rate and retain its employees through more satisfactory company policies and work environments. \n",
    "\n",
    "This project, therefore, aims to predict the likelihood of an employee leaving the company by understanding the main drivers of employee churn. Such information can be valuable in helping management take possible actions to potentially retain these employees thereby reducing the high cost incurred in employee turnover. "
   ]
  },
  {
   "cell_type": "markdown",
   "id": "7f1bc8f3",
   "metadata": {},
   "source": [
    "### 1. Import Libraries"
   ]
  },
  {
   "cell_type": "code",
   "execution_count": 4,
   "id": "dc853a11",
   "metadata": {},
   "outputs": [],
   "source": [
    "import pandas as pd\n",
    "import numpy as np\n",
    "import matplotlib.pyplot as plt\n",
    "import seaborn as sns\n",
    "\n",
    "from sklearn.model_selection import train_test_split\n",
    "from sklearn.model_selection import GridSearchCV\n",
    "from sklearn.model_selection import cross_val_score\n",
    "from sklearn.model_selection import KFold\n",
    "\n",
    "from sklearn.metrics import confusion_matrix\n",
    "from sklearn.metrics import classification_report\n",
    "from sklearn.metrics import accuracy_score\n",
    "from sklearn.metrics import make_scorer\n",
    "from sklearn.metrics import f1_score,precision_score,recall_score,accuracy_score\n",
    "\n",
    "from sklearn.preprocessing import StandardScaler, LabelEncoder\n",
    "from sklearn.feature_selection import RFECV\n",
    "from sklearn.model_selection import StratifiedKFold\n",
    "\n",
    "#model\n",
    "from sklearn import tree\n",
    "from sklearn.linear_model import LogisticRegression\n",
    "from sklearn.tree import DecisionTreeClassifier\n",
    "from sklearn.ensemble import RandomForestClassifier\n",
    "from sklearn.naive_bayes import GaussianNB\n",
    "from sklearn.neighbors import KNeighborsClassifier\n",
    "from sklearn.ensemble import BaggingClassifier\n",
    "from sklearn.ensemble import AdaBoostClassifier\n",
    "from sklearn.ensemble import GradientBoostingClassifier\n",
    "from sklearn.ensemble import ExtraTreesClassifier\n",
    "from sklearn.ensemble import VotingClassifier\n",
    "from sklearn.svm import SVC\n",
    "from xgboost import XGBClassifier # pip install xgboost\n",
    "\n",
    "from imblearn.over_sampling import SMOTE # !pip install imblearn\n",
    "\n",
    "#PyTorch\n",
    "import torch.nn as nn\n",
    "import torch\n",
    "\n",
    "#Save and Load Model\n",
    "import joblib\n",
    "import pickle\n",
    "\n",
    "import warnings\n",
    "warnings.filterwarnings('ignore')"
   ]
  },
  {
   "cell_type": "markdown",
   "id": "c463aa15",
   "metadata": {},
   "source": [
    "<hr>"
   ]
  },
  {
   "cell_type": "markdown",
   "id": "a40b6ec2",
   "metadata": {},
   "source": [
    "### 2. Import Dataset\n",
    "\n",
    "https://www.kaggle.com/datasets/pavansubhasht/ibm-hr-analytics-attrition-dataset\n",
    "\n",
    "<b>35 attributes, 1460 observations</b> <br><br>\n",
    "<b>Attributes:</b> <br>\n",
    "<b>Dependent Variables:</b> Attrition <br>\n",
    "<b>Independent Variables:</b>\n",
    "<ul>\n",
    "    <li><b><i>Basic Information (6 attributes)</i></b>: Age, Education, Education Field, Gender, Marital Status, Distance From Home\n",
    "    <li><b><i>Work Information (8 attributes)</i></b>: Department, Job Role, Job Level, Over Time, Business Travel, Performance Rating, Stock Option Level,\n",
    "          Job Involvement\n",
    "    <li><b><i>Satisfaction (4 attributes)</i></b>: Work-Life Balance, Job Satisfaction, Relationship Satisfaction, Enviroment Satisfaction\n",
    "    <li><b><i>Salary Related (5 attributes)</i></b>: Monthly Income, Monthly Rate, Daily Rate, Hourly Rate, Percent Salary Hike\n",
    "    <li><b><i>Time Related (7 attributes)</i></b>: Total Working Years, Training Time Last Year, Years At Company, Years In Current Role, Years Since Last Promotion, \n",
    "           Years With Current Manager, Num Companies Worked\n",
    "</ul>"
   ]
  },
  {
   "cell_type": "code",
   "execution_count": 5,
   "id": "306ca9d2",
   "metadata": {
    "scrolled": true
   },
   "outputs": [
    {
     "data": {
      "text/plain": [
       "(1470, 35)"
      ]
     },
     "execution_count": 5,
     "metadata": {},
     "output_type": "execute_result"
    }
   ],
   "source": [
    "df = pd.read_csv(\"dataset.csv\") \n",
    "df.shape #1470 rows and 35 columns"
   ]
  },
  {
   "cell_type": "code",
   "execution_count": 6,
   "id": "fc841dc2",
   "metadata": {
    "scrolled": true
   },
   "outputs": [
    {
     "data": {
      "text/html": [
       "<div>\n",
       "<style scoped>\n",
       "    .dataframe tbody tr th:only-of-type {\n",
       "        vertical-align: middle;\n",
       "    }\n",
       "\n",
       "    .dataframe tbody tr th {\n",
       "        vertical-align: top;\n",
       "    }\n",
       "\n",
       "    .dataframe thead th {\n",
       "        text-align: right;\n",
       "    }\n",
       "</style>\n",
       "<table border=\"1\" class=\"dataframe\">\n",
       "  <thead>\n",
       "    <tr style=\"text-align: right;\">\n",
       "      <th></th>\n",
       "      <th>Age</th>\n",
       "      <th>Attrition</th>\n",
       "      <th>BusinessTravel</th>\n",
       "      <th>DailyRate</th>\n",
       "      <th>Department</th>\n",
       "      <th>DistanceFromHome</th>\n",
       "      <th>Education</th>\n",
       "      <th>EducationField</th>\n",
       "      <th>EmployeeCount</th>\n",
       "      <th>EmployeeNumber</th>\n",
       "      <th>...</th>\n",
       "      <th>RelationshipSatisfaction</th>\n",
       "      <th>StandardHours</th>\n",
       "      <th>StockOptionLevel</th>\n",
       "      <th>TotalWorkingYears</th>\n",
       "      <th>TrainingTimesLastYear</th>\n",
       "      <th>WorkLifeBalance</th>\n",
       "      <th>YearsAtCompany</th>\n",
       "      <th>YearsInCurrentRole</th>\n",
       "      <th>YearsSinceLastPromotion</th>\n",
       "      <th>YearsWithCurrManager</th>\n",
       "    </tr>\n",
       "  </thead>\n",
       "  <tbody>\n",
       "    <tr>\n",
       "      <th>0</th>\n",
       "      <td>41</td>\n",
       "      <td>Yes</td>\n",
       "      <td>Travel_Rarely</td>\n",
       "      <td>1102</td>\n",
       "      <td>Sales</td>\n",
       "      <td>1</td>\n",
       "      <td>2</td>\n",
       "      <td>Life Sciences</td>\n",
       "      <td>1</td>\n",
       "      <td>1</td>\n",
       "      <td>...</td>\n",
       "      <td>1</td>\n",
       "      <td>80</td>\n",
       "      <td>0</td>\n",
       "      <td>8</td>\n",
       "      <td>0</td>\n",
       "      <td>1</td>\n",
       "      <td>6</td>\n",
       "      <td>4</td>\n",
       "      <td>0</td>\n",
       "      <td>5</td>\n",
       "    </tr>\n",
       "    <tr>\n",
       "      <th>1</th>\n",
       "      <td>49</td>\n",
       "      <td>No</td>\n",
       "      <td>Travel_Frequently</td>\n",
       "      <td>279</td>\n",
       "      <td>Research &amp; Development</td>\n",
       "      <td>8</td>\n",
       "      <td>1</td>\n",
       "      <td>Life Sciences</td>\n",
       "      <td>1</td>\n",
       "      <td>2</td>\n",
       "      <td>...</td>\n",
       "      <td>4</td>\n",
       "      <td>80</td>\n",
       "      <td>1</td>\n",
       "      <td>10</td>\n",
       "      <td>3</td>\n",
       "      <td>3</td>\n",
       "      <td>10</td>\n",
       "      <td>7</td>\n",
       "      <td>1</td>\n",
       "      <td>7</td>\n",
       "    </tr>\n",
       "    <tr>\n",
       "      <th>2</th>\n",
       "      <td>37</td>\n",
       "      <td>Yes</td>\n",
       "      <td>Travel_Rarely</td>\n",
       "      <td>1373</td>\n",
       "      <td>Research &amp; Development</td>\n",
       "      <td>2</td>\n",
       "      <td>2</td>\n",
       "      <td>Other</td>\n",
       "      <td>1</td>\n",
       "      <td>4</td>\n",
       "      <td>...</td>\n",
       "      <td>2</td>\n",
       "      <td>80</td>\n",
       "      <td>0</td>\n",
       "      <td>7</td>\n",
       "      <td>3</td>\n",
       "      <td>3</td>\n",
       "      <td>0</td>\n",
       "      <td>0</td>\n",
       "      <td>0</td>\n",
       "      <td>0</td>\n",
       "    </tr>\n",
       "    <tr>\n",
       "      <th>3</th>\n",
       "      <td>33</td>\n",
       "      <td>No</td>\n",
       "      <td>Travel_Frequently</td>\n",
       "      <td>1392</td>\n",
       "      <td>Research &amp; Development</td>\n",
       "      <td>3</td>\n",
       "      <td>4</td>\n",
       "      <td>Life Sciences</td>\n",
       "      <td>1</td>\n",
       "      <td>5</td>\n",
       "      <td>...</td>\n",
       "      <td>3</td>\n",
       "      <td>80</td>\n",
       "      <td>0</td>\n",
       "      <td>8</td>\n",
       "      <td>3</td>\n",
       "      <td>3</td>\n",
       "      <td>8</td>\n",
       "      <td>7</td>\n",
       "      <td>3</td>\n",
       "      <td>0</td>\n",
       "    </tr>\n",
       "    <tr>\n",
       "      <th>4</th>\n",
       "      <td>27</td>\n",
       "      <td>No</td>\n",
       "      <td>Travel_Rarely</td>\n",
       "      <td>591</td>\n",
       "      <td>Research &amp; Development</td>\n",
       "      <td>2</td>\n",
       "      <td>1</td>\n",
       "      <td>Medical</td>\n",
       "      <td>1</td>\n",
       "      <td>7</td>\n",
       "      <td>...</td>\n",
       "      <td>4</td>\n",
       "      <td>80</td>\n",
       "      <td>1</td>\n",
       "      <td>6</td>\n",
       "      <td>3</td>\n",
       "      <td>3</td>\n",
       "      <td>2</td>\n",
       "      <td>2</td>\n",
       "      <td>2</td>\n",
       "      <td>2</td>\n",
       "    </tr>\n",
       "  </tbody>\n",
       "</table>\n",
       "<p>5 rows × 35 columns</p>\n",
       "</div>"
      ],
      "text/plain": [
       "   Age Attrition     BusinessTravel  DailyRate              Department  \\\n",
       "0   41       Yes      Travel_Rarely       1102                   Sales   \n",
       "1   49        No  Travel_Frequently        279  Research & Development   \n",
       "2   37       Yes      Travel_Rarely       1373  Research & Development   \n",
       "3   33        No  Travel_Frequently       1392  Research & Development   \n",
       "4   27        No      Travel_Rarely        591  Research & Development   \n",
       "\n",
       "   DistanceFromHome  Education EducationField  EmployeeCount  EmployeeNumber  \\\n",
       "0                 1          2  Life Sciences              1               1   \n",
       "1                 8          1  Life Sciences              1               2   \n",
       "2                 2          2          Other              1               4   \n",
       "3                 3          4  Life Sciences              1               5   \n",
       "4                 2          1        Medical              1               7   \n",
       "\n",
       "   ...  RelationshipSatisfaction StandardHours  StockOptionLevel  \\\n",
       "0  ...                         1            80                 0   \n",
       "1  ...                         4            80                 1   \n",
       "2  ...                         2            80                 0   \n",
       "3  ...                         3            80                 0   \n",
       "4  ...                         4            80                 1   \n",
       "\n",
       "   TotalWorkingYears  TrainingTimesLastYear WorkLifeBalance  YearsAtCompany  \\\n",
       "0                  8                      0               1               6   \n",
       "1                 10                      3               3              10   \n",
       "2                  7                      3               3               0   \n",
       "3                  8                      3               3               8   \n",
       "4                  6                      3               3               2   \n",
       "\n",
       "  YearsInCurrentRole  YearsSinceLastPromotion  YearsWithCurrManager  \n",
       "0                  4                        0                     5  \n",
       "1                  7                        1                     7  \n",
       "2                  0                        0                     0  \n",
       "3                  7                        3                     0  \n",
       "4                  2                        2                     2  \n",
       "\n",
       "[5 rows x 35 columns]"
      ]
     },
     "execution_count": 6,
     "metadata": {},
     "output_type": "execute_result"
    }
   ],
   "source": [
    "df.head() #top 5 records, ensure data loaded properly"
   ]
  },
  {
   "cell_type": "markdown",
   "id": "62009e55",
   "metadata": {},
   "source": [
    "<hr>"
   ]
  },
  {
   "cell_type": "markdown",
   "id": "45b81f93",
   "metadata": {},
   "source": [
    "### 3. Exploratory Data Analysis (EDA)"
   ]
  },
  {
   "cell_type": "markdown",
   "id": "0230a6c7",
   "metadata": {},
   "source": [
    "refer to \"Project - Exploratory Data Analysis\" Notebook"
   ]
  },
  {
   "cell_type": "markdown",
   "id": "17c22ae3",
   "metadata": {},
   "source": [
    "<hr>"
   ]
  },
  {
   "cell_type": "markdown",
   "id": "02b967b1",
   "metadata": {},
   "source": [
    "### 4. Feature Pre-processing"
   ]
  },
  {
   "cell_type": "markdown",
   "id": "1882d992",
   "metadata": {},
   "source": [
    "###### Dropping columns with constant value and identifier columns"
   ]
  },
  {
   "cell_type": "code",
   "execution_count": 7,
   "id": "ea5f3b88",
   "metadata": {},
   "outputs": [],
   "source": [
    "col_to_drop = ['EmployeeCount', 'Over18', 'StandardHours', 'EmployeeNumber']"
   ]
  },
  {
   "cell_type": "code",
   "execution_count": 8,
   "id": "f70af3f1",
   "metadata": {},
   "outputs": [],
   "source": [
    "df.drop(columns=col_to_drop, inplace=True) "
   ]
  },
  {
   "cell_type": "code",
   "execution_count": 9,
   "id": "cc90510b",
   "metadata": {},
   "outputs": [
    {
     "data": {
      "text/plain": [
       "(1470, 31)"
      ]
     },
     "execution_count": 9,
     "metadata": {},
     "output_type": "execute_result"
    }
   ],
   "source": [
    "df.shape #35 - 4 = 31 remaining cols "
   ]
  },
  {
   "cell_type": "markdown",
   "id": "18ab74c3",
   "metadata": {},
   "source": [
    "###### Encoding the categorical type data \n"
   ]
  },
  {
   "cell_type": "code",
   "execution_count": 10,
   "id": "9fb69946",
   "metadata": {},
   "outputs": [],
   "source": [
    "le = LabelEncoder()"
   ]
  },
  {
   "cell_type": "code",
   "execution_count": 11,
   "id": "298b942e",
   "metadata": {},
   "outputs": [
    {
     "name": "stdout",
     "output_type": "stream",
     "text": [
      "3 columns were label encoded.\n"
     ]
    }
   ],
   "source": [
    "# Label Encoding will be used for columns with 2 or less unique values\n",
    "le_count = 0\n",
    "for col in df.columns[1:]:\n",
    "    if df[col].dtype == 'object':\n",
    "        if len(list(df[col].unique())) <= 2:\n",
    "            le.fit(df[col])\n",
    "            df[col] = le.transform(df[col])\n",
    "            le_count += 1\n",
    "print('{} columns were label encoded.'.format(le_count))"
   ]
  },
  {
   "cell_type": "code",
   "execution_count": 12,
   "id": "48d821e4",
   "metadata": {},
   "outputs": [],
   "source": [
    "# convert rest of categorical variable into dummy\n",
    "df = pd.get_dummies(df, drop_first=True)"
   ]
  },
  {
   "cell_type": "markdown",
   "id": "2c13150e",
   "metadata": {},
   "source": [
    "###### Standardisation"
   ]
  },
  {
   "cell_type": "code",
   "execution_count": 13,
   "id": "e9cbd470",
   "metadata": {
    "scrolled": true
   },
   "outputs": [
    {
     "data": {
      "text/html": [
       "<div>\n",
       "<style scoped>\n",
       "    .dataframe tbody tr th:only-of-type {\n",
       "        vertical-align: middle;\n",
       "    }\n",
       "\n",
       "    .dataframe tbody tr th {\n",
       "        vertical-align: top;\n",
       "    }\n",
       "\n",
       "    .dataframe thead th {\n",
       "        text-align: right;\n",
       "    }\n",
       "</style>\n",
       "<table border=\"1\" class=\"dataframe\">\n",
       "  <thead>\n",
       "    <tr style=\"text-align: right;\">\n",
       "      <th></th>\n",
       "      <th>Age</th>\n",
       "      <th>Attrition</th>\n",
       "      <th>DailyRate</th>\n",
       "      <th>DistanceFromHome</th>\n",
       "      <th>Education</th>\n",
       "      <th>EnvironmentSatisfaction</th>\n",
       "      <th>Gender</th>\n",
       "      <th>HourlyRate</th>\n",
       "      <th>JobInvolvement</th>\n",
       "      <th>JobLevel</th>\n",
       "      <th>...</th>\n",
       "      <th>JobRole_Human Resources</th>\n",
       "      <th>JobRole_Laboratory Technician</th>\n",
       "      <th>JobRole_Manager</th>\n",
       "      <th>JobRole_Manufacturing Director</th>\n",
       "      <th>JobRole_Research Director</th>\n",
       "      <th>JobRole_Research Scientist</th>\n",
       "      <th>JobRole_Sales Executive</th>\n",
       "      <th>JobRole_Sales Representative</th>\n",
       "      <th>MaritalStatus_Married</th>\n",
       "      <th>MaritalStatus_Single</th>\n",
       "    </tr>\n",
       "  </thead>\n",
       "  <tbody>\n",
       "    <tr>\n",
       "      <th>0</th>\n",
       "      <td>2.738095</td>\n",
       "      <td>1.0</td>\n",
       "      <td>3.579098</td>\n",
       "      <td>0.000000</td>\n",
       "      <td>1.25</td>\n",
       "      <td>1.666667</td>\n",
       "      <td>0.0</td>\n",
       "      <td>4.571429</td>\n",
       "      <td>3.333333</td>\n",
       "      <td>1.25</td>\n",
       "      <td>...</td>\n",
       "      <td>0.0</td>\n",
       "      <td>0.0</td>\n",
       "      <td>0.0</td>\n",
       "      <td>0.0</td>\n",
       "      <td>0.0</td>\n",
       "      <td>0.0</td>\n",
       "      <td>5.0</td>\n",
       "      <td>0.0</td>\n",
       "      <td>0.0</td>\n",
       "      <td>5.0</td>\n",
       "    </tr>\n",
       "    <tr>\n",
       "      <th>1</th>\n",
       "      <td>3.690476</td>\n",
       "      <td>0.0</td>\n",
       "      <td>0.633500</td>\n",
       "      <td>1.250000</td>\n",
       "      <td>0.00</td>\n",
       "      <td>3.333333</td>\n",
       "      <td>5.0</td>\n",
       "      <td>2.214286</td>\n",
       "      <td>1.666667</td>\n",
       "      <td>1.25</td>\n",
       "      <td>...</td>\n",
       "      <td>0.0</td>\n",
       "      <td>0.0</td>\n",
       "      <td>0.0</td>\n",
       "      <td>0.0</td>\n",
       "      <td>0.0</td>\n",
       "      <td>5.0</td>\n",
       "      <td>0.0</td>\n",
       "      <td>0.0</td>\n",
       "      <td>5.0</td>\n",
       "      <td>0.0</td>\n",
       "    </tr>\n",
       "    <tr>\n",
       "      <th>2</th>\n",
       "      <td>2.261905</td>\n",
       "      <td>1.0</td>\n",
       "      <td>4.549034</td>\n",
       "      <td>0.178571</td>\n",
       "      <td>1.25</td>\n",
       "      <td>5.000000</td>\n",
       "      <td>5.0</td>\n",
       "      <td>4.428571</td>\n",
       "      <td>1.666667</td>\n",
       "      <td>0.00</td>\n",
       "      <td>...</td>\n",
       "      <td>0.0</td>\n",
       "      <td>5.0</td>\n",
       "      <td>0.0</td>\n",
       "      <td>0.0</td>\n",
       "      <td>0.0</td>\n",
       "      <td>0.0</td>\n",
       "      <td>0.0</td>\n",
       "      <td>0.0</td>\n",
       "      <td>0.0</td>\n",
       "      <td>5.0</td>\n",
       "    </tr>\n",
       "    <tr>\n",
       "      <th>3</th>\n",
       "      <td>1.785714</td>\n",
       "      <td>0.0</td>\n",
       "      <td>4.617037</td>\n",
       "      <td>0.357143</td>\n",
       "      <td>3.75</td>\n",
       "      <td>5.000000</td>\n",
       "      <td>0.0</td>\n",
       "      <td>1.857143</td>\n",
       "      <td>3.333333</td>\n",
       "      <td>0.00</td>\n",
       "      <td>...</td>\n",
       "      <td>0.0</td>\n",
       "      <td>0.0</td>\n",
       "      <td>0.0</td>\n",
       "      <td>0.0</td>\n",
       "      <td>0.0</td>\n",
       "      <td>5.0</td>\n",
       "      <td>0.0</td>\n",
       "      <td>0.0</td>\n",
       "      <td>5.0</td>\n",
       "      <td>0.0</td>\n",
       "    </tr>\n",
       "    <tr>\n",
       "      <th>4</th>\n",
       "      <td>1.071429</td>\n",
       "      <td>0.0</td>\n",
       "      <td>1.750179</td>\n",
       "      <td>0.178571</td>\n",
       "      <td>0.00</td>\n",
       "      <td>0.000000</td>\n",
       "      <td>5.0</td>\n",
       "      <td>0.714286</td>\n",
       "      <td>3.333333</td>\n",
       "      <td>0.00</td>\n",
       "      <td>...</td>\n",
       "      <td>0.0</td>\n",
       "      <td>5.0</td>\n",
       "      <td>0.0</td>\n",
       "      <td>0.0</td>\n",
       "      <td>0.0</td>\n",
       "      <td>0.0</td>\n",
       "      <td>0.0</td>\n",
       "      <td>0.0</td>\n",
       "      <td>5.0</td>\n",
       "      <td>0.0</td>\n",
       "    </tr>\n",
       "  </tbody>\n",
       "</table>\n",
       "<p>5 rows × 45 columns</p>\n",
       "</div>"
      ],
      "text/plain": [
       "        Age  Attrition  DailyRate  DistanceFromHome  Education  \\\n",
       "0  2.738095        1.0   3.579098          0.000000       1.25   \n",
       "1  3.690476        0.0   0.633500          1.250000       0.00   \n",
       "2  2.261905        1.0   4.549034          0.178571       1.25   \n",
       "3  1.785714        0.0   4.617037          0.357143       3.75   \n",
       "4  1.071429        0.0   1.750179          0.178571       0.00   \n",
       "\n",
       "   EnvironmentSatisfaction  Gender  HourlyRate  JobInvolvement  JobLevel  ...  \\\n",
       "0                 1.666667     0.0    4.571429        3.333333      1.25  ...   \n",
       "1                 3.333333     5.0    2.214286        1.666667      1.25  ...   \n",
       "2                 5.000000     5.0    4.428571        1.666667      0.00  ...   \n",
       "3                 5.000000     0.0    1.857143        3.333333      0.00  ...   \n",
       "4                 0.000000     5.0    0.714286        3.333333      0.00  ...   \n",
       "\n",
       "   JobRole_Human Resources  JobRole_Laboratory Technician  JobRole_Manager  \\\n",
       "0                      0.0                            0.0              0.0   \n",
       "1                      0.0                            0.0              0.0   \n",
       "2                      0.0                            5.0              0.0   \n",
       "3                      0.0                            0.0              0.0   \n",
       "4                      0.0                            5.0              0.0   \n",
       "\n",
       "   JobRole_Manufacturing Director  JobRole_Research Director  \\\n",
       "0                             0.0                        0.0   \n",
       "1                             0.0                        0.0   \n",
       "2                             0.0                        0.0   \n",
       "3                             0.0                        0.0   \n",
       "4                             0.0                        0.0   \n",
       "\n",
       "   JobRole_Research Scientist  JobRole_Sales Executive  \\\n",
       "0                         0.0                      5.0   \n",
       "1                         5.0                      0.0   \n",
       "2                         0.0                      0.0   \n",
       "3                         5.0                      0.0   \n",
       "4                         0.0                      0.0   \n",
       "\n",
       "   JobRole_Sales Representative  MaritalStatus_Married  MaritalStatus_Single  \n",
       "0                           0.0                    0.0                   5.0  \n",
       "1                           0.0                    5.0                   0.0  \n",
       "2                           0.0                    0.0                   5.0  \n",
       "3                           0.0                    5.0                   0.0  \n",
       "4                           0.0                    5.0                   0.0  \n",
       "\n",
       "[5 rows x 45 columns]"
      ]
     },
     "execution_count": 13,
     "metadata": {},
     "output_type": "execute_result"
    }
   ],
   "source": [
    "# import MinMaxScaler\n",
    "from sklearn.preprocessing import MinMaxScaler\n",
    "scaler = MinMaxScaler(feature_range=(0, 5))\n",
    "HR_col = list(df.columns)\n",
    "HR_col.remove('Attrition')\n",
    "for col in HR_col:\n",
    "    df[col] = df[col].astype(float)\n",
    "    df[[col]] = scaler.fit_transform(df[[col]])\n",
    "df['Attrition'] = pd.to_numeric(df['Attrition'], downcast='float')\n",
    "df.head()"
   ]
  },
  {
   "cell_type": "code",
   "execution_count": 14,
   "id": "f7c8a6be",
   "metadata": {},
   "outputs": [
    {
     "name": "stdout",
     "output_type": "stream",
     "text": [
      "<class 'pandas.core.frame.DataFrame'>\n",
      "RangeIndex: 1470 entries, 0 to 1469\n",
      "Data columns (total 45 columns):\n",
      " #   Column                             Non-Null Count  Dtype  \n",
      "---  ------                             --------------  -----  \n",
      " 0   Age                                1470 non-null   float64\n",
      " 1   Attrition                          1470 non-null   float32\n",
      " 2   DailyRate                          1470 non-null   float64\n",
      " 3   DistanceFromHome                   1470 non-null   float64\n",
      " 4   Education                          1470 non-null   float64\n",
      " 5   EnvironmentSatisfaction            1470 non-null   float64\n",
      " 6   Gender                             1470 non-null   float64\n",
      " 7   HourlyRate                         1470 non-null   float64\n",
      " 8   JobInvolvement                     1470 non-null   float64\n",
      " 9   JobLevel                           1470 non-null   float64\n",
      " 10  JobSatisfaction                    1470 non-null   float64\n",
      " 11  MonthlyIncome                      1470 non-null   float64\n",
      " 12  MonthlyRate                        1470 non-null   float64\n",
      " 13  NumCompaniesWorked                 1470 non-null   float64\n",
      " 14  OverTime                           1470 non-null   float64\n",
      " 15  PercentSalaryHike                  1470 non-null   float64\n",
      " 16  PerformanceRating                  1470 non-null   float64\n",
      " 17  RelationshipSatisfaction           1470 non-null   float64\n",
      " 18  StockOptionLevel                   1470 non-null   float64\n",
      " 19  TotalWorkingYears                  1470 non-null   float64\n",
      " 20  TrainingTimesLastYear              1470 non-null   float64\n",
      " 21  WorkLifeBalance                    1470 non-null   float64\n",
      " 22  YearsAtCompany                     1470 non-null   float64\n",
      " 23  YearsInCurrentRole                 1470 non-null   float64\n",
      " 24  YearsSinceLastPromotion            1470 non-null   float64\n",
      " 25  YearsWithCurrManager               1470 non-null   float64\n",
      " 26  BusinessTravel_Travel_Frequently   1470 non-null   float64\n",
      " 27  BusinessTravel_Travel_Rarely       1470 non-null   float64\n",
      " 28  Department_Research & Development  1470 non-null   float64\n",
      " 29  Department_Sales                   1470 non-null   float64\n",
      " 30  EducationField_Life Sciences       1470 non-null   float64\n",
      " 31  EducationField_Marketing           1470 non-null   float64\n",
      " 32  EducationField_Medical             1470 non-null   float64\n",
      " 33  EducationField_Other               1470 non-null   float64\n",
      " 34  EducationField_Technical Degree    1470 non-null   float64\n",
      " 35  JobRole_Human Resources            1470 non-null   float64\n",
      " 36  JobRole_Laboratory Technician      1470 non-null   float64\n",
      " 37  JobRole_Manager                    1470 non-null   float64\n",
      " 38  JobRole_Manufacturing Director     1470 non-null   float64\n",
      " 39  JobRole_Research Director          1470 non-null   float64\n",
      " 40  JobRole_Research Scientist         1470 non-null   float64\n",
      " 41  JobRole_Sales Executive            1470 non-null   float64\n",
      " 42  JobRole_Sales Representative       1470 non-null   float64\n",
      " 43  MaritalStatus_Married              1470 non-null   float64\n",
      " 44  MaritalStatus_Single               1470 non-null   float64\n",
      "dtypes: float32(1), float64(44)\n",
      "memory usage: 511.2 KB\n"
     ]
    }
   ],
   "source": [
    "df.info()"
   ]
  },
  {
   "cell_type": "code",
   "execution_count": 15,
   "id": "e58a3313",
   "metadata": {},
   "outputs": [],
   "source": [
    "# Separate input features and target\n",
    "y = df[\"Attrition\"]\n",
    "X = df.loc[:, df.columns != 'Attrition']"
   ]
  },
  {
   "cell_type": "markdown",
   "id": "9d565f5c",
   "metadata": {},
   "source": [
    "<hr>"
   ]
  },
  {
   "cell_type": "code",
   "execution_count": 16,
   "id": "8a158bb0",
   "metadata": {},
   "outputs": [],
   "source": [
    "# setting up testing and training sets\n",
    "original_X_train, original_X_test, y_train, y_test = train_test_split(X, y, test_size=0.25, random_state=123)\n"
   ]
  },
  {
   "cell_type": "markdown",
   "id": "7bd85bdc",
   "metadata": {},
   "source": [
    "### 5. Handling imbalance data with SMOTE"
   ]
  },
  {
   "cell_type": "code",
   "execution_count": 17,
   "id": "1f80f1eb",
   "metadata": {
    "scrolled": true
   },
   "outputs": [],
   "source": [
    "# setting up testing and training sets\n",
    "X_train, X_test, y_train, y_test = train_test_split(X, y, test_size=0.25, random_state=123)\n",
    "\n",
    "\n",
    "sm = SMOTE(random_state = 0)\n",
    "X_train, y_train = sm.fit_resample(X_train, y_train)"
   ]
  },
  {
   "cell_type": "code",
   "execution_count": 18,
   "id": "686c79ae",
   "metadata": {
    "scrolled": false
   },
   "outputs": [
    {
     "data": {
      "text/plain": [
       "0.0    913\n",
       "1.0    913\n",
       "Name: Attrition, dtype: int64"
      ]
     },
     "execution_count": 18,
     "metadata": {},
     "output_type": "execute_result"
    }
   ],
   "source": [
    "y_train.value_counts()"
   ]
  },
  {
   "cell_type": "markdown",
   "id": "50e9e312",
   "metadata": {},
   "source": [
    "<hr>"
   ]
  },
  {
   "cell_type": "markdown",
   "id": "d718f4fc",
   "metadata": {},
   "source": [
    "### 6. Handling imbalance data with GAN"
   ]
  },
  {
   "cell_type": "markdown",
   "id": "e1ac5b89",
   "metadata": {},
   "source": [
    "https://realpython.com/generative-adversarial-networks/"
   ]
  },
  {
   "cell_type": "code",
   "execution_count": 19,
   "id": "bd8999f0",
   "metadata": {},
   "outputs": [],
   "source": [
    "# setting up testing and training sets\n",
    "X_gantrain, X_gantest, y_gantrain, y_gantest = train_test_split(X, y, test_size=0.25, random_state=123)"
   ]
  },
  {
   "cell_type": "code",
   "execution_count": 20,
   "id": "75da683f",
   "metadata": {},
   "outputs": [],
   "source": [
    "process = X_gantrain.copy()\n",
    "process['target'] = y_gantrain.copy()"
   ]
  },
  {
   "cell_type": "code",
   "execution_count": 21,
   "id": "9dba97df",
   "metadata": {
    "scrolled": false
   },
   "outputs": [
    {
     "data": {
      "text/plain": [
       "0.0    913\n",
       "1.0    189\n",
       "Name: target, dtype: int64"
      ]
     },
     "execution_count": 21,
     "metadata": {},
     "output_type": "execute_result"
    }
   ],
   "source": [
    "process.target.value_counts()"
   ]
  },
  {
   "cell_type": "code",
   "execution_count": 22,
   "id": "3be54419",
   "metadata": {
    "scrolled": true
   },
   "outputs": [
    {
     "name": "stdout",
     "output_type": "stream",
     "text": [
      "Have to generate 724 record of attrition = 1 to balance data\n"
     ]
    }
   ],
   "source": [
    "X_forgenerate = process.query(\"target == 1\").iloc[:,:-1].values\n",
    "X_forgenerate = torch.tensor(X_forgenerate).type(torch.FloatTensor)\n",
    "\n",
    "X_non_attrition = process.query('target == 0').iloc[:,:-1].values #without target col\n",
    "n_generate = X_non_attrition.shape[0] - X_forgenerate.shape[0]\n",
    "\n",
    "print(f'Have to generate {n_generate} record of attrition = 1 to balance data')"
   ]
  },
  {
   "cell_type": "code",
   "execution_count": 83,
   "id": "2656be01",
   "metadata": {},
   "outputs": [],
   "source": [
    "#implmentation of generator\n",
    "G = nn.Sequential(                     \n",
    "    nn.Linear(28, 128),            \n",
    "    nn.ReLU(),\n",
    "    nn.Linear(128, 44), \n",
    ")\n",
    "\n",
    "#implementation of discriminator\n",
    "D = nn.Sequential(                     \n",
    "    nn.Linear(44, 128),     \n",
    "    nn.ReLU(),\n",
    "    nn.Dropout(0.3),\n",
    "    nn.Linear(128, 64),\n",
    "    nn.ReLU(),\n",
    "    nn.Dropout(0.3),\n",
    "    nn.Linear(64, 1),\n",
    "    nn.Sigmoid()\n",
    ")\n"
   ]
  },
  {
   "cell_type": "code",
   "execution_count": 88,
   "id": "9eaf8d89",
   "metadata": {},
   "outputs": [
    {
     "ename": "RuntimeError",
     "evalue": "Trying to backward through the graph a second time (or directly access saved tensors after they have already been freed). Saved intermediate values of the graph are freed when you call .backward() or autograd.grad(). Specify retain_graph=True if you need to backward through the graph a second time or if you need to access saved tensors after calling backward.",
     "output_type": "error",
     "traceback": [
      "\u001b[1;31m---------------------------------------------------------------------------\u001b[0m",
      "\u001b[1;31mRuntimeError\u001b[0m                              Traceback (most recent call last)",
      "Input \u001b[1;32mIn [88]\u001b[0m, in \u001b[0;36m<cell line: 10>\u001b[1;34m()\u001b[0m\n\u001b[0;32m     29\u001b[0m \u001b[38;5;66;03m# loss\u001b[39;00m\n\u001b[0;32m     30\u001b[0m D_loss \u001b[38;5;241m=\u001b[39m \u001b[38;5;241m-\u001b[39m torch\u001b[38;5;241m.\u001b[39mmean(torch\u001b[38;5;241m.\u001b[39mlog(output_discriminator) \u001b[38;5;241m+\u001b[39m torch\u001b[38;5;241m.\u001b[39mlog(\u001b[38;5;241m1.\u001b[39m \u001b[38;5;241m-\u001b[39m output_discriminator_generated))\n\u001b[1;32m---> 31\u001b[0m \u001b[43mD_loss\u001b[49m\u001b[38;5;241;43m.\u001b[39;49m\u001b[43mbackward\u001b[49m\u001b[43m(\u001b[49m\u001b[43mretain_graph\u001b[49m\u001b[38;5;241;43m=\u001b[39;49m\u001b[38;5;28;43;01mTrue\u001b[39;49;00m\u001b[43m)\u001b[49m\n\u001b[0;32m     32\u001b[0m opt_D\u001b[38;5;241m.\u001b[39mstep()\n\u001b[0;32m     34\u001b[0m output_discriminator_generated  \u001b[38;5;241m=\u001b[39m D(G_paintings\u001b[38;5;241m.\u001b[39mdetach())\n",
      "File \u001b[1;32m~\\AppData\\Roaming\\Python\\Python39\\site-packages\\torch\\_tensor.py:396\u001b[0m, in \u001b[0;36mTensor.backward\u001b[1;34m(self, gradient, retain_graph, create_graph, inputs)\u001b[0m\n\u001b[0;32m    387\u001b[0m \u001b[38;5;28;01mif\u001b[39;00m has_torch_function_unary(\u001b[38;5;28mself\u001b[39m):\n\u001b[0;32m    388\u001b[0m     \u001b[38;5;28;01mreturn\u001b[39;00m handle_torch_function(\n\u001b[0;32m    389\u001b[0m         Tensor\u001b[38;5;241m.\u001b[39mbackward,\n\u001b[0;32m    390\u001b[0m         (\u001b[38;5;28mself\u001b[39m,),\n\u001b[1;32m   (...)\u001b[0m\n\u001b[0;32m    394\u001b[0m         create_graph\u001b[38;5;241m=\u001b[39mcreate_graph,\n\u001b[0;32m    395\u001b[0m         inputs\u001b[38;5;241m=\u001b[39minputs)\n\u001b[1;32m--> 396\u001b[0m \u001b[43mtorch\u001b[49m\u001b[38;5;241;43m.\u001b[39;49m\u001b[43mautograd\u001b[49m\u001b[38;5;241;43m.\u001b[39;49m\u001b[43mbackward\u001b[49m\u001b[43m(\u001b[49m\u001b[38;5;28;43mself\u001b[39;49m\u001b[43m,\u001b[49m\u001b[43m \u001b[49m\u001b[43mgradient\u001b[49m\u001b[43m,\u001b[49m\u001b[43m \u001b[49m\u001b[43mretain_graph\u001b[49m\u001b[43m,\u001b[49m\u001b[43m \u001b[49m\u001b[43mcreate_graph\u001b[49m\u001b[43m,\u001b[49m\u001b[43m \u001b[49m\u001b[43minputs\u001b[49m\u001b[38;5;241;43m=\u001b[39;49m\u001b[43minputs\u001b[49m\u001b[43m)\u001b[49m\n",
      "File \u001b[1;32m~\\AppData\\Roaming\\Python\\Python39\\site-packages\\torch\\autograd\\__init__.py:173\u001b[0m, in \u001b[0;36mbackward\u001b[1;34m(tensors, grad_tensors, retain_graph, create_graph, grad_variables, inputs)\u001b[0m\n\u001b[0;32m    168\u001b[0m     retain_graph \u001b[38;5;241m=\u001b[39m create_graph\n\u001b[0;32m    170\u001b[0m \u001b[38;5;66;03m# The reason we repeat same the comment below is that\u001b[39;00m\n\u001b[0;32m    171\u001b[0m \u001b[38;5;66;03m# some Python versions print out the first line of a multi-line function\u001b[39;00m\n\u001b[0;32m    172\u001b[0m \u001b[38;5;66;03m# calls in the traceback and some print out the last line\u001b[39;00m\n\u001b[1;32m--> 173\u001b[0m \u001b[43mVariable\u001b[49m\u001b[38;5;241;43m.\u001b[39;49m\u001b[43m_execution_engine\u001b[49m\u001b[38;5;241;43m.\u001b[39;49m\u001b[43mrun_backward\u001b[49m\u001b[43m(\u001b[49m\u001b[43m  \u001b[49m\u001b[38;5;66;43;03m# Calls into the C++ engine to run the backward pass\u001b[39;49;00m\n\u001b[0;32m    174\u001b[0m \u001b[43m    \u001b[49m\u001b[43mtensors\u001b[49m\u001b[43m,\u001b[49m\u001b[43m \u001b[49m\u001b[43mgrad_tensors_\u001b[49m\u001b[43m,\u001b[49m\u001b[43m \u001b[49m\u001b[43mretain_graph\u001b[49m\u001b[43m,\u001b[49m\u001b[43m \u001b[49m\u001b[43mcreate_graph\u001b[49m\u001b[43m,\u001b[49m\u001b[43m \u001b[49m\u001b[43minputs\u001b[49m\u001b[43m,\u001b[49m\n\u001b[0;32m    175\u001b[0m \u001b[43m    \u001b[49m\u001b[43mallow_unreachable\u001b[49m\u001b[38;5;241;43m=\u001b[39;49m\u001b[38;5;28;43;01mTrue\u001b[39;49;00m\u001b[43m,\u001b[49m\u001b[43m \u001b[49m\u001b[43maccumulate_grad\u001b[49m\u001b[38;5;241;43m=\u001b[39;49m\u001b[38;5;28;43;01mTrue\u001b[39;49;00m\u001b[43m)\u001b[49m\n",
      "\u001b[1;31mRuntimeError\u001b[0m: Trying to backward through the graph a second time (or directly access saved tensors after they have already been freed). Saved intermediate values of the graph are freed when you call .backward() or autograd.grad(). Specify retain_graph=True if you need to backward through the graph a second time or if you need to access saved tensors after calling backward."
     ]
    }
   ],
   "source": [
    "#Before training the models, need to set up some parameters to use during training:\n",
    "BATCH_SIZE = 50\n",
    "lr = 0.001                   \n",
    "\n",
    "# optimizator\n",
    "opt_D = torch.optim.Adam(D.parameters(),lr=lr)\n",
    "opt_G = torch.optim.Adam(G.parameters(),lr=lr)\n",
    "num_epochs = 3000\n",
    "\n",
    "for step in range(num_epochs):\n",
    "    #Randomly select real samples of defined batch size with label 1\n",
    "    chosen_data = np.random.choice((X_forgenerate.shape[0]),size=(BATCH_SIZE),replace=False)\n",
    "    artist_paintings = X_forgenerate[chosen_data,:]\n",
    "    \n",
    "    # Training the discriminator\n",
    "    D.zero_grad()\n",
    "    output_discriminator  = D(artist_paintings)\n",
    "    \n",
    "    # Generate fake samples using generators\n",
    "    G.zero_grad()        \n",
    "    generated_samples  = G(torch.randn(BATCH_SIZE, 28, requires_grad=True))                  \n",
    "    output_discriminator_generated = D(generated_samples ) \n",
    "    \n",
    "    # loss\n",
    "    G_loss = torch.mean(torch.log(1. - output_discriminator_generated ))\n",
    "    G_loss.backward()\n",
    "    opt_G.step()\n",
    "    \n",
    "    output_discriminator_generated  = D(G_paintings.detach())\n",
    "    \n",
    "    # loss\n",
    "    D_loss = - torch.mean(torch.log(output_discriminator) + torch.log(1. - output_discriminator_generated))\n",
    "    D_loss.backward(retain_graph=True)\n",
    "    opt_D.step()\n",
    "    \n",
    "    \n",
    "    "
   ]
  },
  {
   "cell_type": "code",
   "execution_count": 89,
   "id": "72bb9777",
   "metadata": {
    "scrolled": true
   },
   "outputs": [
    {
     "name": "stdout",
     "output_type": "stream",
     "text": [
      "(1826, 44) (1826,)\n"
     ]
    }
   ],
   "source": [
    "#GAN fake data\n",
    "fake_data = G(torch.randn(n_generate,28)).detach().numpy()\n",
    "\n",
    "X_default = pd.DataFrame(np.concatenate([X_forgenerate,fake_data]))\n",
    "X_default['target'] = 1\n",
    "\n",
    "X_non_attrition = pd.DataFrame(X_non_attrition)\n",
    "X_non_attrition['target'] = 0\n",
    "train_data_gan = pd.concat([X_default,X_non_attrition])\n",
    "\n",
    "X_gan = train_data_gan.iloc[:,:-1]\n",
    "y_gan = train_data_gan.iloc[:,-1]\n",
    "\n",
    "print(X_gan.shape,y_gan.shape)"
   ]
  },
  {
   "cell_type": "code",
   "execution_count": 90,
   "id": "eb25a22b",
   "metadata": {},
   "outputs": [
    {
     "name": "stdout",
     "output_type": "stream",
     "text": [
      "<class 'pandas.core.frame.DataFrame'>\n",
      "Int64Index: 1826 entries, 0 to 912\n",
      "Data columns (total 44 columns):\n",
      " #   Column  Non-Null Count  Dtype  \n",
      "---  ------  --------------  -----  \n",
      " 0   0       1826 non-null   float64\n",
      " 1   1       1826 non-null   float64\n",
      " 2   2       1826 non-null   float64\n",
      " 3   3       1826 non-null   float64\n",
      " 4   4       1826 non-null   float64\n",
      " 5   5       1826 non-null   float64\n",
      " 6   6       1826 non-null   float64\n",
      " 7   7       1826 non-null   float64\n",
      " 8   8       1826 non-null   float64\n",
      " 9   9       1826 non-null   float64\n",
      " 10  10      1826 non-null   float64\n",
      " 11  11      1826 non-null   float64\n",
      " 12  12      1826 non-null   float64\n",
      " 13  13      1826 non-null   float64\n",
      " 14  14      1826 non-null   float64\n",
      " 15  15      1826 non-null   float64\n",
      " 16  16      1826 non-null   float64\n",
      " 17  17      1826 non-null   float64\n",
      " 18  18      1826 non-null   float64\n",
      " 19  19      1826 non-null   float64\n",
      " 20  20      1826 non-null   float64\n",
      " 21  21      1826 non-null   float64\n",
      " 22  22      1826 non-null   float64\n",
      " 23  23      1826 non-null   float64\n",
      " 24  24      1826 non-null   float64\n",
      " 25  25      1826 non-null   float64\n",
      " 26  26      1826 non-null   float64\n",
      " 27  27      1826 non-null   float64\n",
      " 28  28      1826 non-null   float64\n",
      " 29  29      1826 non-null   float64\n",
      " 30  30      1826 non-null   float64\n",
      " 31  31      1826 non-null   float64\n",
      " 32  32      1826 non-null   float64\n",
      " 33  33      1826 non-null   float64\n",
      " 34  34      1826 non-null   float64\n",
      " 35  35      1826 non-null   float64\n",
      " 36  36      1826 non-null   float64\n",
      " 37  37      1826 non-null   float64\n",
      " 38  38      1826 non-null   float64\n",
      " 39  39      1826 non-null   float64\n",
      " 40  40      1826 non-null   float64\n",
      " 41  41      1826 non-null   float64\n",
      " 42  42      1826 non-null   float64\n",
      " 43  43      1826 non-null   float64\n",
      "dtypes: float64(44)\n",
      "memory usage: 642.0 KB\n"
     ]
    }
   ],
   "source": [
    "X_gan.info()"
   ]
  },
  {
   "cell_type": "markdown",
   "id": "f75d1006",
   "metadata": {},
   "source": [
    "<hr>"
   ]
  },
  {
   "cell_type": "markdown",
   "id": "72f375f2",
   "metadata": {},
   "source": [
    "### 7. Testing SMOTE and GAN on Baseline Modelling"
   ]
  },
  {
   "cell_type": "code",
   "execution_count": 91,
   "id": "4d97d85b",
   "metadata": {},
   "outputs": [],
   "source": [
    "# set table to table to populate with performance results\n",
    "col = ['Algorithm','Train Accuracy Mean','Test Accuracy', 'Recall']\n",
    "\n",
    "def runmodel(Xtrain, ytrain):\n",
    "    train_acc_results = []\n",
    "    test_acc_results = []\n",
    "    names = []\n",
    "    \n",
    "    df_results = pd.DataFrame(columns=col)\n",
    "    \n",
    "    i = 0\n",
    "    # evaluate each model using cross-validation\n",
    "    for name, model in models:\n",
    "        kfold = KFold(n_splits=10)  # 10-fold cross-validation\n",
    "\n",
    "        # cv accuracy scoring\n",
    "        cv_acc_results = cross_val_score(model, Xtrain, ytrain, cv=kfold, scoring='accuracy')\n",
    "        train_acc_results.append(cv_acc_results)\n",
    "\n",
    "        #test accuracy scoring\n",
    "        model.fit(Xtrain,ytrain)\n",
    "        \n",
    "        #y_train_pred = model.predict(Xtrain) \n",
    "        #train_accuracy = accuracy_score(ytrain, y_train_pred)\n",
    "        #test_acc_results.append(train_accuracy)\n",
    "        \n",
    "        pred = model.predict(X_test)\n",
    "        test_accuracy = accuracy_score(y_test, pred)\n",
    "        test_acc_results.append(test_accuracy)\n",
    "        \n",
    "        #Confusion Matrix\n",
    "        cm = confusion_matrix(pred,y_test)\n",
    "        tn = cm[0][0]\n",
    "        fn = cm[1][0]\n",
    "        fp = cm[0][1]\n",
    "        tp = cm[1][1]\n",
    "        precision = round(tp/(tp+fp),4)\n",
    "        recall = round(tp/(tp+fn),4)\n",
    "        f1 = round((2*precision*recall)/(precision + recall),4)\n",
    "\n",
    "        names.append(name)\n",
    "        df_results.loc[i] = [name, round(cv_acc_results.mean()*100, 2), round(test_accuracy*100,2), round(recall*100,2)]\n",
    "\n",
    "        i += 1\n",
    "        \n",
    "    return df_results"
   ]
  },
  {
   "cell_type": "code",
   "execution_count": 75,
   "id": "2756b3b8",
   "metadata": {},
   "outputs": [],
   "source": [
    "# selection of algorithms to consider and set performance measure\n",
    "models = []\n",
    "models.append(('Logistic Regression', LogisticRegression(random_state=345)))\n",
    "models.append(('Random Forest', RandomForestClassifier(random_state=345)))\n",
    "models.append(('SVM', SVC(probability=True)))\n",
    "models.append(('KNN', KNeighborsClassifier()))\n",
    "models.append(('Decision Tree Classifier',DecisionTreeClassifier(random_state=345)))\n",
    "models.append(('Gaussian NB', GaussianNB()))\n",
    "models.append(('Adaboost', AdaBoostClassifier(random_state=345)))\n",
    "models.append((\"Gradientboost\", GradientBoostingClassifier(random_state=345)))\n",
    "models.append((\"BaggingClassifier\", BaggingClassifier(random_state=345)))\n",
    "models.append((\"ExtremeGradientBoost\", XGBClassifier(random_state=345)))\n",
    "models.append((\"ExtraTreesClassifier\", ExtraTreesClassifier(random_state=345)))"
   ]
  },
  {
   "cell_type": "markdown",
   "id": "af1613a6",
   "metadata": {},
   "source": [
    "###### original"
   ]
  },
  {
   "cell_type": "code",
   "execution_count": 63,
   "id": "3c8e5e89",
   "metadata": {},
   "outputs": [],
   "source": [
    "original_result = runmodel(original_X_train, original_y_train)"
   ]
  },
  {
   "cell_type": "code",
   "execution_count": 64,
   "id": "d5504de7",
   "metadata": {},
   "outputs": [
    {
     "data": {
      "text/html": [
       "<div>\n",
       "<style scoped>\n",
       "    .dataframe tbody tr th:only-of-type {\n",
       "        vertical-align: middle;\n",
       "    }\n",
       "\n",
       "    .dataframe tbody tr th {\n",
       "        vertical-align: top;\n",
       "    }\n",
       "\n",
       "    .dataframe thead th {\n",
       "        text-align: right;\n",
       "    }\n",
       "</style>\n",
       "<table border=\"1\" class=\"dataframe\">\n",
       "  <thead>\n",
       "    <tr style=\"text-align: right;\">\n",
       "      <th></th>\n",
       "      <th>Algorithm</th>\n",
       "      <th>Train Accuracy Mean</th>\n",
       "      <th>Test Accuracy</th>\n",
       "      <th>Recall</th>\n",
       "    </tr>\n",
       "  </thead>\n",
       "  <tbody>\n",
       "    <tr>\n",
       "      <th>0</th>\n",
       "      <td>Logistic Regression</td>\n",
       "      <td>86.84</td>\n",
       "      <td>91.30</td>\n",
       "      <td>72.22</td>\n",
       "    </tr>\n",
       "    <tr>\n",
       "      <th>2</th>\n",
       "      <td>SVM</td>\n",
       "      <td>85.48</td>\n",
       "      <td>91.03</td>\n",
       "      <td>94.12</td>\n",
       "    </tr>\n",
       "    <tr>\n",
       "      <th>6</th>\n",
       "      <td>Adaboost</td>\n",
       "      <td>85.48</td>\n",
       "      <td>90.49</td>\n",
       "      <td>69.70</td>\n",
       "    </tr>\n",
       "    <tr>\n",
       "      <th>1</th>\n",
       "      <td>Random Forest</td>\n",
       "      <td>84.57</td>\n",
       "      <td>90.22</td>\n",
       "      <td>92.86</td>\n",
       "    </tr>\n",
       "    <tr>\n",
       "      <th>7</th>\n",
       "      <td>Gradientboost</td>\n",
       "      <td>84.66</td>\n",
       "      <td>90.22</td>\n",
       "      <td>75.00</td>\n",
       "    </tr>\n",
       "    <tr>\n",
       "      <th>10</th>\n",
       "      <td>ExtraTreesClassifier</td>\n",
       "      <td>85.02</td>\n",
       "      <td>89.95</td>\n",
       "      <td>100.00</td>\n",
       "    </tr>\n",
       "    <tr>\n",
       "      <th>9</th>\n",
       "      <td>ExtremeGradientBoost</td>\n",
       "      <td>85.48</td>\n",
       "      <td>89.67</td>\n",
       "      <td>65.62</td>\n",
       "    </tr>\n",
       "    <tr>\n",
       "      <th>3</th>\n",
       "      <td>KNN</td>\n",
       "      <td>83.66</td>\n",
       "      <td>87.23</td>\n",
       "      <td>52.94</td>\n",
       "    </tr>\n",
       "    <tr>\n",
       "      <th>8</th>\n",
       "      <td>BaggingClassifier</td>\n",
       "      <td>84.93</td>\n",
       "      <td>87.23</td>\n",
       "      <td>51.61</td>\n",
       "    </tr>\n",
       "    <tr>\n",
       "      <th>4</th>\n",
       "      <td>Decision Tree Classifier</td>\n",
       "      <td>76.58</td>\n",
       "      <td>77.72</td>\n",
       "      <td>24.24</td>\n",
       "    </tr>\n",
       "    <tr>\n",
       "      <th>5</th>\n",
       "      <td>Gaussian NB</td>\n",
       "      <td>61.70</td>\n",
       "      <td>64.95</td>\n",
       "      <td>24.20</td>\n",
       "    </tr>\n",
       "  </tbody>\n",
       "</table>\n",
       "</div>"
      ],
      "text/plain": [
       "                   Algorithm  Train Accuracy Mean  Test Accuracy  Recall\n",
       "0        Logistic Regression                86.84          91.30   72.22\n",
       "2                        SVM                85.48          91.03   94.12\n",
       "6                   Adaboost                85.48          90.49   69.70\n",
       "1              Random Forest                84.57          90.22   92.86\n",
       "7              Gradientboost                84.66          90.22   75.00\n",
       "10      ExtraTreesClassifier                85.02          89.95  100.00\n",
       "9       ExtremeGradientBoost                85.48          89.67   65.62\n",
       "3                        KNN                83.66          87.23   52.94\n",
       "8          BaggingClassifier                84.93          87.23   51.61\n",
       "4   Decision Tree Classifier                76.58          77.72   24.24\n",
       "5                Gaussian NB                61.70          64.95   24.20"
      ]
     },
     "execution_count": 64,
     "metadata": {},
     "output_type": "execute_result"
    }
   ],
   "source": [
    "original_result.sort_values(by=['Test Accuracy', 'Recall'], ascending=False)"
   ]
  },
  {
   "cell_type": "markdown",
   "id": "d20534f4",
   "metadata": {},
   "source": [
    "###### GAN"
   ]
  },
  {
   "cell_type": "code",
   "execution_count": 76,
   "id": "558b425f",
   "metadata": {},
   "outputs": [],
   "source": [
    "gan_result = runmodel(X_gan, y_gan)"
   ]
  },
  {
   "cell_type": "code",
   "execution_count": 77,
   "id": "51328f09",
   "metadata": {},
   "outputs": [
    {
     "data": {
      "text/html": [
       "<div>\n",
       "<style scoped>\n",
       "    .dataframe tbody tr th:only-of-type {\n",
       "        vertical-align: middle;\n",
       "    }\n",
       "\n",
       "    .dataframe tbody tr th {\n",
       "        vertical-align: top;\n",
       "    }\n",
       "\n",
       "    .dataframe thead th {\n",
       "        text-align: right;\n",
       "    }\n",
       "</style>\n",
       "<table border=\"1\" class=\"dataframe\">\n",
       "  <thead>\n",
       "    <tr style=\"text-align: right;\">\n",
       "      <th></th>\n",
       "      <th>Algorithm</th>\n",
       "      <th>Train Accuracy Mean</th>\n",
       "      <th>Test Accuracy</th>\n",
       "      <th>Recall</th>\n",
       "    </tr>\n",
       "  </thead>\n",
       "  <tbody>\n",
       "    <tr>\n",
       "      <th>2</th>\n",
       "      <td>SVM</td>\n",
       "      <td>88.57</td>\n",
       "      <td>90.76</td>\n",
       "      <td>88.89</td>\n",
       "    </tr>\n",
       "    <tr>\n",
       "      <th>9</th>\n",
       "      <td>ExtremeGradientBoost</td>\n",
       "      <td>86.98</td>\n",
       "      <td>90.76</td>\n",
       "      <td>79.17</td>\n",
       "    </tr>\n",
       "    <tr>\n",
       "      <th>10</th>\n",
       "      <td>ExtraTreesClassifier</td>\n",
       "      <td>88.90</td>\n",
       "      <td>90.22</td>\n",
       "      <td>100.00</td>\n",
       "    </tr>\n",
       "    <tr>\n",
       "      <th>7</th>\n",
       "      <td>Gradientboost</td>\n",
       "      <td>87.80</td>\n",
       "      <td>90.22</td>\n",
       "      <td>73.08</td>\n",
       "    </tr>\n",
       "    <tr>\n",
       "      <th>0</th>\n",
       "      <td>Logistic Regression</td>\n",
       "      <td>87.53</td>\n",
       "      <td>90.22</td>\n",
       "      <td>65.79</td>\n",
       "    </tr>\n",
       "    <tr>\n",
       "      <th>1</th>\n",
       "      <td>Random Forest</td>\n",
       "      <td>88.96</td>\n",
       "      <td>89.95</td>\n",
       "      <td>86.67</td>\n",
       "    </tr>\n",
       "    <tr>\n",
       "      <th>8</th>\n",
       "      <td>BaggingClassifier</td>\n",
       "      <td>87.75</td>\n",
       "      <td>87.50</td>\n",
       "      <td>55.56</td>\n",
       "    </tr>\n",
       "    <tr>\n",
       "      <th>3</th>\n",
       "      <td>KNN</td>\n",
       "      <td>87.58</td>\n",
       "      <td>87.23</td>\n",
       "      <td>52.94</td>\n",
       "    </tr>\n",
       "    <tr>\n",
       "      <th>5</th>\n",
       "      <td>Gaussian NB</td>\n",
       "      <td>89.56</td>\n",
       "      <td>86.96</td>\n",
       "      <td>NaN</td>\n",
       "    </tr>\n",
       "    <tr>\n",
       "      <th>6</th>\n",
       "      <td>Adaboost</td>\n",
       "      <td>86.98</td>\n",
       "      <td>86.41</td>\n",
       "      <td>47.83</td>\n",
       "    </tr>\n",
       "    <tr>\n",
       "      <th>4</th>\n",
       "      <td>Decision Tree Classifier</td>\n",
       "      <td>81.27</td>\n",
       "      <td>81.25</td>\n",
       "      <td>33.85</td>\n",
       "    </tr>\n",
       "  </tbody>\n",
       "</table>\n",
       "</div>"
      ],
      "text/plain": [
       "                   Algorithm  Train Accuracy Mean  Test Accuracy  Recall\n",
       "2                        SVM                88.57          90.76   88.89\n",
       "9       ExtremeGradientBoost                86.98          90.76   79.17\n",
       "10      ExtraTreesClassifier                88.90          90.22  100.00\n",
       "7              Gradientboost                87.80          90.22   73.08\n",
       "0        Logistic Regression                87.53          90.22   65.79\n",
       "1              Random Forest                88.96          89.95   86.67\n",
       "8          BaggingClassifier                87.75          87.50   55.56\n",
       "3                        KNN                87.58          87.23   52.94\n",
       "5                Gaussian NB                89.56          86.96     NaN\n",
       "6                   Adaboost                86.98          86.41   47.83\n",
       "4   Decision Tree Classifier                81.27          81.25   33.85"
      ]
     },
     "execution_count": 77,
     "metadata": {},
     "output_type": "execute_result"
    }
   ],
   "source": [
    "gan_result.sort_values(by=['Test Accuracy', 'Recall'], ascending=False)"
   ]
  },
  {
   "cell_type": "markdown",
   "id": "990f4510",
   "metadata": {},
   "source": [
    "###### SMOTE"
   ]
  },
  {
   "cell_type": "code",
   "execution_count": 67,
   "id": "535cd3ba",
   "metadata": {},
   "outputs": [],
   "source": [
    "smote_result = runmodel(X_train, y_train)"
   ]
  },
  {
   "cell_type": "code",
   "execution_count": 68,
   "id": "3be04d38",
   "metadata": {},
   "outputs": [
    {
     "data": {
      "text/html": [
       "<div>\n",
       "<style scoped>\n",
       "    .dataframe tbody tr th:only-of-type {\n",
       "        vertical-align: middle;\n",
       "    }\n",
       "\n",
       "    .dataframe tbody tr th {\n",
       "        vertical-align: top;\n",
       "    }\n",
       "\n",
       "    .dataframe thead th {\n",
       "        text-align: right;\n",
       "    }\n",
       "</style>\n",
       "<table border=\"1\" class=\"dataframe\">\n",
       "  <thead>\n",
       "    <tr style=\"text-align: right;\">\n",
       "      <th></th>\n",
       "      <th>Algorithm</th>\n",
       "      <th>Train Accuracy Mean</th>\n",
       "      <th>Test Accuracy</th>\n",
       "      <th>Recall</th>\n",
       "    </tr>\n",
       "  </thead>\n",
       "  <tbody>\n",
       "    <tr>\n",
       "      <th>7</th>\n",
       "      <td>Gradientboost</td>\n",
       "      <td>91.42</td>\n",
       "      <td>90.76</td>\n",
       "      <td>75.00</td>\n",
       "    </tr>\n",
       "    <tr>\n",
       "      <th>10</th>\n",
       "      <td>ExtraTreesClassifier</td>\n",
       "      <td>96.56</td>\n",
       "      <td>90.22</td>\n",
       "      <td>75.00</td>\n",
       "    </tr>\n",
       "    <tr>\n",
       "      <th>1</th>\n",
       "      <td>Random Forest</td>\n",
       "      <td>93.88</td>\n",
       "      <td>88.86</td>\n",
       "      <td>65.22</td>\n",
       "    </tr>\n",
       "    <tr>\n",
       "      <th>9</th>\n",
       "      <td>ExtremeGradientBoost</td>\n",
       "      <td>92.73</td>\n",
       "      <td>88.04</td>\n",
       "      <td>55.26</td>\n",
       "    </tr>\n",
       "    <tr>\n",
       "      <th>8</th>\n",
       "      <td>BaggingClassifier</td>\n",
       "      <td>90.87</td>\n",
       "      <td>86.96</td>\n",
       "      <td>50.00</td>\n",
       "    </tr>\n",
       "    <tr>\n",
       "      <th>6</th>\n",
       "      <td>Adaboost</td>\n",
       "      <td>89.23</td>\n",
       "      <td>85.33</td>\n",
       "      <td>44.83</td>\n",
       "    </tr>\n",
       "    <tr>\n",
       "      <th>2</th>\n",
       "      <td>SVM</td>\n",
       "      <td>90.59</td>\n",
       "      <td>81.79</td>\n",
       "      <td>36.99</td>\n",
       "    </tr>\n",
       "    <tr>\n",
       "      <th>4</th>\n",
       "      <td>Decision Tree Classifier</td>\n",
       "      <td>85.34</td>\n",
       "      <td>79.08</td>\n",
       "      <td>31.65</td>\n",
       "    </tr>\n",
       "    <tr>\n",
       "      <th>0</th>\n",
       "      <td>Logistic Regression</td>\n",
       "      <td>76.07</td>\n",
       "      <td>74.73</td>\n",
       "      <td>30.43</td>\n",
       "    </tr>\n",
       "    <tr>\n",
       "      <th>3</th>\n",
       "      <td>KNN</td>\n",
       "      <td>79.94</td>\n",
       "      <td>60.60</td>\n",
       "      <td>18.71</td>\n",
       "    </tr>\n",
       "    <tr>\n",
       "      <th>5</th>\n",
       "      <td>Gaussian NB</td>\n",
       "      <td>63.96</td>\n",
       "      <td>48.37</td>\n",
       "      <td>18.02</td>\n",
       "    </tr>\n",
       "  </tbody>\n",
       "</table>\n",
       "</div>"
      ],
      "text/plain": [
       "                   Algorithm  Train Accuracy Mean  Test Accuracy  Recall\n",
       "7              Gradientboost                91.42          90.76   75.00\n",
       "10      ExtraTreesClassifier                96.56          90.22   75.00\n",
       "1              Random Forest                93.88          88.86   65.22\n",
       "9       ExtremeGradientBoost                92.73          88.04   55.26\n",
       "8          BaggingClassifier                90.87          86.96   50.00\n",
       "6                   Adaboost                89.23          85.33   44.83\n",
       "2                        SVM                90.59          81.79   36.99\n",
       "4   Decision Tree Classifier                85.34          79.08   31.65\n",
       "0        Logistic Regression                76.07          74.73   30.43\n",
       "3                        KNN                79.94          60.60   18.71\n",
       "5                Gaussian NB                63.96          48.37   18.02"
      ]
     },
     "execution_count": 68,
     "metadata": {},
     "output_type": "execute_result"
    }
   ],
   "source": [
    "smote_result.sort_values(by=['Test Accuracy', 'Recall'], ascending=False)"
   ]
  },
  {
   "cell_type": "markdown",
   "id": "5da49878",
   "metadata": {},
   "source": [
    "#### Analysis"
   ]
  },
  {
   "cell_type": "markdown",
   "id": "f676a0cc",
   "metadata": {},
   "source": [
    "> "
   ]
  },
  {
   "cell_type": "markdown",
   "id": "951856ff",
   "metadata": {},
   "source": [
    "<hr>"
   ]
  },
  {
   "cell_type": "markdown",
   "id": "cb67ffd1",
   "metadata": {},
   "source": [
    "### 8. Feature Selection"
   ]
  },
  {
   "cell_type": "code",
   "execution_count": null,
   "id": "682eb72f",
   "metadata": {},
   "outputs": [],
   "source": [
    "# selection of algorithms to consider and set performance measure\n",
    "fs_models = []\n",
    "fs_models.append(('Logistic Regression', LogisticRegression(random_state=345)))\n",
    "fs_models.append(('Random Forest', RandomForestClassifier(random_state=345)))\n",
    "fs_models.append(('SVM', SVC(probability=True)))\n",
    "fs_models.append(('KNN', KNeighborsClassifier()))\n",
    "fs_models.append(('Decision Tree Classifier',DecisionTreeClassifier(random_state=345)))\n",
    "fs_models.append(('Gaussian NB', GaussianNB()))\n",
    "fs_models.append(('Adaboost', AdaBoostClassifier(random_state=345)))\n",
    "fs_models.append((\"Gradientboost\", GradientBoostingClassifier(random_state=345)))\n",
    "fs_models.append((\"BaggingClassifier\", BaggingClassifier(random_state=345)))\n",
    "fs_models.append((\"ExtremeGradientBoost\", XGBClassifier(random_state=345)))\n",
    "fs_models.append((\"ExtraTreesClassifier\", ExtraTreesClassifier(random_state=345)))"
   ]
  },
  {
   "cell_type": "code",
   "execution_count": null,
   "id": "34c15dee",
   "metadata": {},
   "outputs": [],
   "source": [
    "def feature_selection_model(model, xtrain,ytrain, xtest):\n",
    "    \n",
    "    rfecv = RFECV(estimator=model, cv=StratifiedKFold(10, random_state=123, shuffle=True), scoring=\"accuracy\")\n",
    "    rfecv.fit(xtrain, ytrain)\n",
    "    \n",
    "    return xtrain.iloc[:, rfecv.support_], xtest.iloc[:, rfecv.support_]"
   ]
  },
  {
   "cell_type": "code",
   "execution_count": null,
   "id": "571283d7",
   "metadata": {},
   "outputs": [],
   "source": [
    "# set table to table to populate with performance results\n",
    "col = ['Algorithm','Train Accuracy Mean', 'Test Accuracy', \"Recall\"]\n",
    "\n",
    "def runfsmodel(X_train_importance, y_train_importance, x_test_importance):\n",
    "    train_acc_results = []\n",
    "    test_acc_results = []\n",
    "    names = []\n",
    "    \n",
    "    df_results = pd.DataFrame(columns=col)\n",
    "    \n",
    "    i = 0\n",
    "    # evaluate each model using cross-validation\n",
    "    for name, model in fs_models:\n",
    "        kfold = KFold(n_splits=10)  # 10-fold cross-validation\n",
    "\n",
    "        # cv accuracy scoring\n",
    "        cv_acc_results = cross_val_score(model, X_train_importance, y_train_importance, cv=kfold, scoring='accuracy')\n",
    "        train_acc_results.append(cv_acc_results)\n",
    "\n",
    "        #test accuracy scoring\n",
    "        model.fit(X_train_importance,y_train_importance)\n",
    "        pred = model.predict(x_test_importance)\n",
    "        test_accuracy = accuracy_score(y_test, pred)\n",
    "        test_acc_results.append(test_accuracy)\n",
    "\n",
    "        #Confusion Matrix\n",
    "        cm = confusion_matrix(pred,y_test)\n",
    "        tn = cm[0][0]\n",
    "        fn = cm[1][0]\n",
    "        fp = cm[0][1]\n",
    "        tp = cm[1][1]\n",
    "        precision = round(tp/(tp+fp),4)\n",
    "        recall = round(tp/(tp+fn),4)\n",
    "        f1 = round((2*precision*recall)/(precision + recall),4)\n",
    "\n",
    "        names.append(name)\n",
    "        df_results.loc[i] = [name, round(cv_acc_results.mean()*100, 2), round(test_accuracy*100,2), round(recall*100,2)]\n",
    "\n",
    "        i += 1\n",
    "        \n",
    "    return df_results"
   ]
  },
  {
   "cell_type": "markdown",
   "id": "ed1e77c9",
   "metadata": {},
   "source": [
    "###### Logistic Regression\n"
   ]
  },
  {
   "cell_type": "code",
   "execution_count": null,
   "id": "20cde245",
   "metadata": {},
   "outputs": [],
   "source": [
    "base_lr_model = fs_models[0][1]"
   ]
  },
  {
   "cell_type": "code",
   "execution_count": null,
   "id": "70cad415",
   "metadata": {},
   "outputs": [],
   "source": [
    "LR_fs = feature_selection_model(base_lr_model, X_train, y_train, X_test)\n",
    "LR_X_train_importance = LR_fs[0]\n",
    "LR_X_test_importance = LR_fs[1]\n",
    "\n",
    "print(f'Number of columns selected: {LR_X_train_importance.shape[1]}')"
   ]
  },
  {
   "cell_type": "code",
   "execution_count": null,
   "id": "ae1e6aa7",
   "metadata": {},
   "outputs": [],
   "source": [
    "LR_fs_result = runfsmodel(LR_X_train_importance, y_train, LR_X_test_importance)"
   ]
  },
  {
   "cell_type": "code",
   "execution_count": null,
   "id": "bd0b46d6",
   "metadata": {},
   "outputs": [],
   "source": [
    "LR_fs_result.sort_values(by=['Test Accuracy', 'Recall'], ascending=False)"
   ]
  },
  {
   "cell_type": "markdown",
   "id": "53bc0657",
   "metadata": {},
   "source": [
    "###### Decision Tree"
   ]
  },
  {
   "cell_type": "code",
   "execution_count": null,
   "id": "8fa4c434",
   "metadata": {},
   "outputs": [],
   "source": [
    "base_dt_model = fs_models[4][1]"
   ]
  },
  {
   "cell_type": "code",
   "execution_count": null,
   "id": "d38e0263",
   "metadata": {},
   "outputs": [],
   "source": [
    "DT_fs = feature_selection_model(base_dt_model, X_train, y_train, X_test)\n",
    "DT_X_train_importance = DT_fs[0]\n",
    "DT_X_test_importance = DT_fs[1]\n",
    "\n",
    "print(f'Number of columns selected: {DT_X_train_importance.shape[1]}')"
   ]
  },
  {
   "cell_type": "code",
   "execution_count": null,
   "id": "a6a22f61",
   "metadata": {},
   "outputs": [],
   "source": [
    "DT_fs_result = runfsmodel(DT_X_train_importance, y_train, DT_X_test_importance)"
   ]
  },
  {
   "cell_type": "code",
   "execution_count": null,
   "id": "4cce3917",
   "metadata": {},
   "outputs": [],
   "source": [
    "DT_fs_result.sort_values(by=['Test Accuracy', 'Recall'], ascending=False)"
   ]
  },
  {
   "cell_type": "markdown",
   "id": "fcb930e4",
   "metadata": {},
   "source": [
    "###### Random Forest"
   ]
  },
  {
   "cell_type": "code",
   "execution_count": null,
   "id": "b733a2cb",
   "metadata": {},
   "outputs": [],
   "source": [
    "base_rf_model = fs_models[1][1]"
   ]
  },
  {
   "cell_type": "code",
   "execution_count": null,
   "id": "07c9a6a4",
   "metadata": {},
   "outputs": [],
   "source": [
    "RF_fs = feature_selection_model(base_rf_model, X_train, y_train, X_test)\n",
    "RF_X_train_importance = RF_fs[0]\n",
    "RF_X_test_importance = RF_fs[1]\n",
    "\n",
    "print(f'Number of columns selected: {RF_X_train_importance.shape[1]}')"
   ]
  },
  {
   "cell_type": "code",
   "execution_count": null,
   "id": "0c008823",
   "metadata": {},
   "outputs": [],
   "source": [
    "RF_fs_result = runfsmodel(RF_X_train_importance, y_train, RF_X_test_importance)"
   ]
  },
  {
   "cell_type": "code",
   "execution_count": null,
   "id": "7350dcec",
   "metadata": {},
   "outputs": [],
   "source": [
    "RF_fs_result.sort_values(by=['Test Accuracy', 'Recall'], ascending=False)"
   ]
  },
  {
   "cell_type": "markdown",
   "id": "9131217a",
   "metadata": {},
   "source": [
    "#### Analysis"
   ]
  },
  {
   "cell_type": "markdown",
   "id": "76f5a731",
   "metadata": {},
   "source": [
    ">"
   ]
  },
  {
   "cell_type": "markdown",
   "id": "c8bdabda",
   "metadata": {},
   "source": [
    "<hr>"
   ]
  },
  {
   "cell_type": "markdown",
   "id": "070cecd2",
   "metadata": {},
   "source": [
    "## 9. Top 3 Model Tuning"
   ]
  },
  {
   "cell_type": "code",
   "execution_count": null,
   "id": "2a136243",
   "metadata": {},
   "outputs": [],
   "source": [
    "col = [\"Accuracy_Score\",\"Recall\"]\n",
    "df_performance = pd.DataFrame(columns=col)"
   ]
  },
  {
   "cell_type": "code",
   "execution_count": null,
   "id": "171c961b",
   "metadata": {},
   "outputs": [],
   "source": [
    "#To evaluate performances of all the models\n",
    "def performance(name, p, ytest):\n",
    "    \n",
    "    accuracy = np.round(accuracy_score(p,ytest),4)\n",
    "    \n",
    "    cm = confusion_matrix(p,ytest)\n",
    "    tn = cm[0][0]\n",
    "    fn = cm[1][0]\n",
    "    fp = cm[0][1]\n",
    "    tp = cm[1][1]\n",
    "    precision = round(tp/(tp+fp),4)\n",
    "    recall = round(tp/(tp+fn),4)\n",
    "    f1 = round((2*precision*recall)/(precision + recall),4)\n",
    "    \n",
    "    df_performance.loc[name] = [round(accuracy*100,2),round(recall*100,2)]\n"
   ]
  },
  {
   "cell_type": "markdown",
   "id": "70ec9ba3",
   "metadata": {},
   "source": [
    "###### 1. Gradient Boosting"
   ]
  },
  {
   "cell_type": "code",
   "execution_count": null,
   "id": "f41f43a2",
   "metadata": {},
   "outputs": [],
   "source": [
    "gb_params = {\n",
    "    'n_estimators':[100,200, 300],\n",
    "    'learning_rate': [0.1,0.2,0.3],\n",
    "    \"max_leaf_nodes\": [2, 5, 10, 20, 50, 100],\n",
    "    \"random_state\": [345]\n",
    "}\n"
   ]
  },
  {
   "cell_type": "markdown",
   "id": "e0459d00",
   "metadata": {},
   "source": [
    "performance gridserach on original train dataset"
   ]
  },
  {
   "cell_type": "code",
   "execution_count": null,
   "id": "0df62d58",
   "metadata": {},
   "outputs": [],
   "source": [
    "gb_gs = GridSearchCV(GradientBoostingClassifier(),gb_params, scoring=make_scorer(accuracy_score),cv=5)\n",
    "gb_gs.fit(X_train, y_train)"
   ]
  },
  {
   "cell_type": "code",
   "execution_count": null,
   "id": "aa8bfc98",
   "metadata": {
    "scrolled": true
   },
   "outputs": [],
   "source": [
    "print(f'Best Params: {gb_gs.best_params_}')\n",
    "print(f'Best Estimator: {gb_gs.best_estimator_}')\n",
    "print(f'Best Score: {gb_gs.best_score_}')"
   ]
  },
  {
   "cell_type": "code",
   "execution_count": null,
   "id": "e802867c",
   "metadata": {},
   "outputs": [],
   "source": [
    "y_pred_gb = gb_gs.predict(X_test)\n",
    "\n",
    "performance(\"GradientBoosting_Tuned\",y_pred_gb, y_test)"
   ]
  },
  {
   "cell_type": "markdown",
   "id": "25489d7f",
   "metadata": {},
   "source": [
    "perform gridsearch on feature selection train dataset "
   ]
  },
  {
   "cell_type": "code",
   "execution_count": null,
   "id": "069085d1",
   "metadata": {},
   "outputs": [],
   "source": [
    "gb_gs_fs = GridSearchCV(GradientBoostingClassifier(),gb_params, scoring=make_scorer(accuracy_score),cv=5)\n",
    "gb_gs_fs.fit(RF_X_train_importance, y_train)"
   ]
  },
  {
   "cell_type": "code",
   "execution_count": null,
   "id": "d39d3eb8",
   "metadata": {},
   "outputs": [],
   "source": [
    "print(f'Best Params: {gb_gs_fs.best_params_}')\n",
    "print(f'Best Estimator: {gb_gs_fs.best_estimator_}')\n",
    "print(f'Best Score: {gb_gs_fs.best_score_}')"
   ]
  },
  {
   "cell_type": "code",
   "execution_count": null,
   "id": "ab6c224d",
   "metadata": {},
   "outputs": [],
   "source": [
    "y_important_pred = gb_gs_fs.predict(RF_X_test_importance)"
   ]
  },
  {
   "cell_type": "code",
   "execution_count": null,
   "id": "caca652e",
   "metadata": {},
   "outputs": [],
   "source": [
    "\n",
    "performance(\"GradientBoosting_FS_Tuned\", y_important_pred, y_test)"
   ]
  },
  {
   "cell_type": "code",
   "execution_count": null,
   "id": "1f1a7125",
   "metadata": {},
   "outputs": [],
   "source": [
    "df_performance.head()"
   ]
  },
  {
   "cell_type": "markdown",
   "id": "7486702d",
   "metadata": {},
   "source": [
    "###### Analysis"
   ]
  },
  {
   "cell_type": "markdown",
   "id": "21fb5747",
   "metadata": {},
   "source": [
    ">"
   ]
  },
  {
   "cell_type": "markdown",
   "id": "1b4ad64c",
   "metadata": {},
   "source": [
    "###### 2. ExtraTreesClassifier"
   ]
  },
  {
   "cell_type": "code",
   "execution_count": null,
   "id": "8b043324",
   "metadata": {},
   "outputs": [],
   "source": [
    "et_params = {\"max_depth\": [None,2,6,10],\n",
    "             'max_features':[\"sqrt\", \"log2\", None],\n",
    "             \"n_estimators\": [100,300,500],\n",
    "             \"criterion\": [\"gini\", \"entropy\", \"log_loss\"],\n",
    "             \"random_state\": [345]\n",
    "            }"
   ]
  },
  {
   "cell_type": "markdown",
   "id": "17e1deed",
   "metadata": {},
   "source": [
    "performance gridsearch on original train dataset"
   ]
  },
  {
   "cell_type": "code",
   "execution_count": null,
   "id": "b0b424d9",
   "metadata": {},
   "outputs": [],
   "source": [
    "et_gs = GridSearchCV(ExtraTreesClassifier(),et_params, scoring=make_scorer(accuracy_score),cv=5)\n",
    "et_gs.fit(X_train, y_train)"
   ]
  },
  {
   "cell_type": "code",
   "execution_count": null,
   "id": "4a280ae0",
   "metadata": {},
   "outputs": [],
   "source": [
    "print(f'Best Params: {et_gs.best_params_}')\n",
    "print(f'Best Estimator: {et_gs.best_estimator_}')\n",
    "print(f'Best Score: {et_gs.best_score_}')"
   ]
  },
  {
   "cell_type": "code",
   "execution_count": null,
   "id": "de8bbf0e",
   "metadata": {},
   "outputs": [],
   "source": [
    "y_pred_et = et_gs.predict(X_test)\n",
    "\n",
    "performance(\"ExtraTreeClassifier_Tuned\",y_pred_et, y_test)"
   ]
  },
  {
   "cell_type": "markdown",
   "id": "5ed77fb1",
   "metadata": {},
   "source": [
    "perform gridsearch on feature selection train dataset"
   ]
  },
  {
   "cell_type": "code",
   "execution_count": null,
   "id": "934d946a",
   "metadata": {},
   "outputs": [],
   "source": [
    "et_gs_fs = GridSearchCV(ExtraTreesClassifier(),et_params, scoring=make_scorer(accuracy_score),cv=5)\n",
    "et_gs_fs.fit(RF_X_train_importance, y_train)"
   ]
  },
  {
   "cell_type": "code",
   "execution_count": null,
   "id": "36f3cf80",
   "metadata": {},
   "outputs": [],
   "source": [
    "print(f'Best Params: {et_gs_fs.best_params_}')\n",
    "print(f'Best Estimator: {et_gs_fs.best_estimator_}')\n",
    "print(f'Best Score: {et_gs_fs.best_score_}')"
   ]
  },
  {
   "cell_type": "code",
   "execution_count": null,
   "id": "2b30cfc1",
   "metadata": {},
   "outputs": [],
   "source": [
    "y_important_pred = et_gs_fs.predict(RF_X_test_importance)"
   ]
  },
  {
   "cell_type": "code",
   "execution_count": null,
   "id": "2cb6b40a",
   "metadata": {},
   "outputs": [],
   "source": [
    "performance(\"ExtraTreeClassifier_FS_Tuned\", y_important_pred, y_test)"
   ]
  },
  {
   "cell_type": "code",
   "execution_count": null,
   "id": "e096cb36",
   "metadata": {},
   "outputs": [],
   "source": [
    "df_performance.head()"
   ]
  },
  {
   "cell_type": "markdown",
   "id": "93dfc82c",
   "metadata": {},
   "source": [
    "###### 3. Random Forest"
   ]
  },
  {
   "cell_type": "code",
   "execution_count": null,
   "id": "4f2637eb",
   "metadata": {},
   "outputs": [],
   "source": [
    "rf_params={\n",
    "        'n_estimators':[100, 300, 500],\n",
    "        'criterion':['gini','entropy'],\n",
    "        'max_depth':[None, 3,5,7],\n",
    "        'max_features':[\"sqrt\", \"log2\", None],\n",
    "        \"random_state\": [345]\n",
    "       }"
   ]
  },
  {
   "cell_type": "code",
   "execution_count": null,
   "id": "71025b0e",
   "metadata": {},
   "outputs": [],
   "source": [
    "rf_gs=GridSearchCV(RandomForestClassifier(),rf_params,scoring=make_scorer(accuracy_score),cv=5)\n",
    "rf_gs.fit(X_train, y_train)"
   ]
  },
  {
   "cell_type": "code",
   "execution_count": null,
   "id": "a9af32c5",
   "metadata": {
    "scrolled": true
   },
   "outputs": [],
   "source": [
    "print(f'Best Params: {rf_gs.best_params_}')\n",
    "print(f'Best Estimator: {rf_gs.best_estimator_}')\n",
    "print(f'Best Score: {rf_gs.best_score_}')"
   ]
  },
  {
   "cell_type": "code",
   "execution_count": null,
   "id": "9788ce64",
   "metadata": {},
   "outputs": [],
   "source": [
    "y_pred_rf = rf_gs.predict(X_test)\n",
    "\n",
    "performance(\"RandomForest_Tuned\",y_pred_rf, y_test)"
   ]
  },
  {
   "cell_type": "markdown",
   "id": "88f25340",
   "metadata": {},
   "source": [
    "perform gridsearch on feature selection train dataset"
   ]
  },
  {
   "cell_type": "code",
   "execution_count": null,
   "id": "7d7957a4",
   "metadata": {
    "scrolled": false
   },
   "outputs": [],
   "source": [
    "rf_gs_fs=GridSearchCV(RandomForestClassifier(),rf_params,scoring=make_scorer(accuracy_score),cv=5)\n",
    "rf_gs_fs.fit(RF_X_train_importance, y_train)"
   ]
  },
  {
   "cell_type": "code",
   "execution_count": null,
   "id": "1727aebe",
   "metadata": {},
   "outputs": [],
   "source": [
    "print(f'Best Params: {rf_gs_fs.best_params_}')\n",
    "print(f'Best Estimator: {rf_gs_fs.best_estimator_}')\n",
    "print(f'Best Score: {rf_gs_fs.best_score_}')"
   ]
  },
  {
   "cell_type": "code",
   "execution_count": null,
   "id": "07293904",
   "metadata": {
    "scrolled": false
   },
   "outputs": [],
   "source": [
    "y_important_pred = rf_gs_fs.predict(RF_X_test_importance)"
   ]
  },
  {
   "cell_type": "code",
   "execution_count": null,
   "id": "7baa83df",
   "metadata": {},
   "outputs": [],
   "source": [
    "performance(\"RandomForest_FS_Tuned\", y_important_pred, y_test)"
   ]
  },
  {
   "cell_type": "code",
   "execution_count": null,
   "id": "f175c1a5",
   "metadata": {
    "scrolled": true
   },
   "outputs": [],
   "source": [
    "df_performance.head(6)"
   ]
  },
  {
   "cell_type": "markdown",
   "id": "852b20f0",
   "metadata": {},
   "source": [
    "### 10. Final Evaluation"
   ]
  },
  {
   "cell_type": "code",
   "execution_count": null,
   "id": "69bbcef8",
   "metadata": {},
   "outputs": [],
   "source": [
    "rename_index={'Gradientboost': 'Gradientboost_Baseline','ExtraTreesClassifier': 'ExtraTreesClassifier_Baseline','Random Forest': 'RandomForest_Baseline' }"
   ]
  },
  {
   "cell_type": "code",
   "execution_count": null,
   "id": "fd55e488",
   "metadata": {},
   "outputs": [],
   "source": [
    "smote_baseline = smote_result.sort_values(by=['Test Accuracy', 'Recall'], ascending=False).iloc[:3].set_index(['Algorithm']).drop(['Train Accuracy Mean'], axis=1)"
   ]
  },
  {
   "cell_type": "code",
   "execution_count": null,
   "id": "b894f8e2",
   "metadata": {},
   "outputs": [],
   "source": [
    "smote_baseline.rename(columns={'Test Accuracy': 'Accuracy_Score'},index = rename_index, inplace=True)"
   ]
  },
  {
   "cell_type": "code",
   "execution_count": null,
   "id": "3a4b0022",
   "metadata": {},
   "outputs": [],
   "source": [
    "rename_index={'Gradientboost': 'Gradientboost_FS_Baseline','ExtraTreesClassifier': 'ExtraTreesClassifier_FS_Baseline','Random Forest': 'RandomForest_FS_Baseline' }"
   ]
  },
  {
   "cell_type": "code",
   "execution_count": null,
   "id": "0514aaf9",
   "metadata": {
    "scrolled": true
   },
   "outputs": [],
   "source": [
    "df_rs_result = RF_fs_result.sort_values(by=['Test Accuracy', 'Recall'], ascending=False).iloc[:3].set_index(['Algorithm']).drop(['Train Accuracy Mean'], axis=1)"
   ]
  },
  {
   "cell_type": "code",
   "execution_count": null,
   "id": "5999606f",
   "metadata": {},
   "outputs": [],
   "source": [
    "df_rs_result.rename(columns={'Test Accuracy': 'Accuracy_Score'}, index = rename_index, inplace=True)"
   ]
  },
  {
   "cell_type": "code",
   "execution_count": null,
   "id": "7e467794",
   "metadata": {
    "scrolled": true
   },
   "outputs": [],
   "source": [
    "pd.concat([df_performance, smote_baseline,df_rs_result]).sort_index()"
   ]
  },
  {
   "cell_type": "markdown",
   "id": "3bd2a56e",
   "metadata": {},
   "source": [
    "<hr>"
   ]
  },
  {
   "cell_type": "markdown",
   "id": "a6e40e91",
   "metadata": {},
   "source": [
    "### 11. Save Model"
   ]
  },
  {
   "cell_type": "code",
   "execution_count": null,
   "id": "ef081938",
   "metadata": {},
   "outputs": [],
   "source": [
    "#baseline model w original dataset\n",
    "filename_gb_baseline = 'finalized_baseline_gbmodel.joblib'\n",
    "filename_et_baseline = 'finalized_baseline_etmodel.joblib'\n",
    "filename_rf_baseline = 'finalized_baseline_rfmodel.joblib'\n",
    "\n",
    "#baseline model w fs dataset\n",
    "filename_gb_fs_baseline = 'finalized_baseline_fs_gbmodel.joblib'\n",
    "filename_et_fs_baseline = 'finalized_baseline_fs_etmodel.joblib'\n",
    "filename_rf_fs_baseline = 'finalized_baseline_fs_rfmodel.joblib'\n",
    "\n",
    "#tuned w original datset\n",
    "filename_gb = 'finalized_tuned_gbmodel.joblib'\n",
    "filename_et = 'finalized_tuned_etmodel.joblib'\n",
    "filename_rf = 'finalized_tuned_rfmodel.joblib'\n",
    "\n",
    "#tuned w fs dataset\n",
    "filename_gb_fs = 'finalized_tunedfs_gbmodel.joblib'\n",
    "filename_et_fs = 'finalized_tunedfs_etmodel.joblib'\n",
    "filename_rf_fs = 'finalized_tunedfs_rfmodel.joblib'\n"
   ]
  },
  {
   "cell_type": "code",
   "execution_count": null,
   "id": "5958e382",
   "metadata": {},
   "outputs": [],
   "source": [
    "joblib.dump(models[7][1], filename_gb_baseline)\n",
    "joblib.dump(models[10][1], filename_et_baseline)\n",
    "joblib.dump(models[1][1], filename_rf_baseline)\n",
    "\n",
    "joblib.dump(fs_models[7][1], filename_gb_fs_baseline)\n",
    "joblib.dump(fs_models[10][1], filename_et_fs_baseline)\n",
    "joblib.dump(fs_models[1][1], filename_rf_fs_baseline)\n",
    "\n",
    "joblib.dump(gb_gs.best_estimator_, filename_gb)\n",
    "joblib.dump(et_gs.best_estimator_, filename_et)\n",
    "joblib.dump(rf_gs.best_estimator_, filename_rf)\n",
    "\n",
    "joblib.dump(gb_gs_fs.best_estimator_, filename_gb_fs)\n",
    "joblib.dump(et_gs_fs.best_estimator_, filename_et_fs)\n",
    "joblib.dump(rf_gs_fs.best_estimator_, filename_rf_fs)"
   ]
  },
  {
   "cell_type": "markdown",
   "id": "5312df5a",
   "metadata": {},
   "source": [
    "###### baseline w original dataset"
   ]
  },
  {
   "cell_type": "code",
   "execution_count": null,
   "id": "4160d597",
   "metadata": {},
   "outputs": [],
   "source": [
    "gb = joblib.load(filename_gb_baseline)\n",
    "et = joblib.load(filename_et_baseline)\n",
    "rf = joblib.load(filename_rf_baseline)"
   ]
  },
  {
   "cell_type": "markdown",
   "id": "7dc0e4e1",
   "metadata": {},
   "source": [
    "###### baseline w fs dataset"
   ]
  },
  {
   "cell_type": "code",
   "execution_count": null,
   "id": "99eb75c1",
   "metadata": {},
   "outputs": [],
   "source": [
    "gb_fs = joblib.load(filename_gb_fs_baseline)\n",
    "et_fs = joblib.load(filename_et_fs_baseline)\n",
    "rf_fs = joblib.load(filename_rf_fs_baseline)"
   ]
  },
  {
   "cell_type": "markdown",
   "id": "2ff8adbb",
   "metadata": {},
   "source": [
    "##### tuned w original dataset"
   ]
  },
  {
   "cell_type": "code",
   "execution_count": null,
   "id": "3eb49c25",
   "metadata": {},
   "outputs": [],
   "source": [
    "gb_gs = joblib.load(filename_gb)\n",
    "et_gs = joblib.load(filename_et)\n",
    "rf_gs = joblib.load(filename_rf)"
   ]
  },
  {
   "cell_type": "markdown",
   "id": "14af752e",
   "metadata": {},
   "source": [
    "###### tuned w fs dataset"
   ]
  },
  {
   "cell_type": "code",
   "execution_count": null,
   "id": "52401ea7",
   "metadata": {},
   "outputs": [],
   "source": [
    "gb_gs_fs = joblib.load(filename_gb_fs)\n",
    "et_gs_fs = joblib.load(filename_et_fs)\n",
    "rf_gs_fs = joblib.load(filename_rf_fs)"
   ]
  },
  {
   "cell_type": "markdown",
   "id": "6ea20c60",
   "metadata": {},
   "source": [
    "<hr>"
   ]
  },
  {
   "cell_type": "markdown",
   "id": "e8b1bce8",
   "metadata": {},
   "source": [
    "### 12. Voting Classifier"
   ]
  },
  {
   "cell_type": "code",
   "execution_count": null,
   "id": "60a0028e",
   "metadata": {},
   "outputs": [],
   "source": [
    "# group / ensemble of best models\n",
    "estimator = []\n",
    "\n",
    "estimator.append(('gb', gb))\n",
    "estimator.append(('et', et))\n",
    "estimator.append(('rf', rf))\n",
    "estimator.append(('gb_gs', gb_gs))\n",
    "estimator.append(('et_gs', et_gs))\n",
    "estimator.append(('rf_gs', rf_gs))\n",
    "\n",
    "# Voting Classifier with hard voting\n",
    "vot_hard = VotingClassifier(estimators = estimator, voting ='hard')\n",
    "vot_hard.fit(X_train, y_train)\n",
    "y_pred = vot_hard.predict(X_test)\n",
    "\n",
    "# using accuracy_score metric to predict accuracy\n",
    "score = accuracy_score(y_test, y_pred)\n",
    "\n",
    "cm = confusion_matrix(y_pred,y_test)\n",
    "\n",
    "tn = cm[0][0]\n",
    "fn = cm[1][0]\n",
    "fp = cm[0][1]\n",
    "tp = cm[1][1]\n",
    "\n",
    "recall = round(tp/(tp+fn),4)\n",
    "\n",
    "print(f'Accuracy Score: {round(score*100,2)}%')\n",
    "print(f'Recall: {recall}')"
   ]
  },
  {
   "cell_type": "code",
   "execution_count": null,
   "id": "a3caa92f",
   "metadata": {},
   "outputs": [],
   "source": [
    "# group / ensemble of best models\n",
    "estimator = []\n",
    "\n",
    "estimator.append(('gb_fs', gb_fs))\n",
    "estimator.append(('et_fs', et_fs))\n",
    "estimator.append(('rf_fs', rf_fs))\n",
    "estimator.append(('gb_gs_fs', gb_gs_fs))\n",
    "estimator.append(('et_gs_fs', et_gs_fs))\n",
    "estimator.append(('rf_gs_fs', rf_gs_fs))\n",
    "\n",
    "# Voting Classifier with hard voting\n",
    "vot_hard = VotingClassifier(estimators = estimator, voting ='hard')\n",
    "vot_hard.fit(RF_X_train_importance, y_train)\n",
    "y_pred = vot_hard.predict(RF_X_test_importance)\n",
    "\n",
    "# using accuracy_score metric to predict accuracy\n",
    "score = accuracy_score(y_test, y_pred)\n",
    "print(f'Accuracy Score:  {round(score*100,2)}%')\n",
    "\n",
    "cm = confusion_matrix(y_pred,y_test)\n",
    "tn = cm[0][0]\n",
    "fn = cm[1][0]\n",
    "fp = cm[0][1]\n",
    "tp = cm[1][1]\n",
    "\n",
    "recall = round(tp/(tp+fn),4)\n",
    "print(f'Recall: {recall}')"
   ]
  }
 ],
 "metadata": {
  "kernelspec": {
   "display_name": "Python 3 (ipykernel)",
   "language": "python",
   "name": "python3"
  },
  "language_info": {
   "codemirror_mode": {
    "name": "ipython",
    "version": 3
   },
   "file_extension": ".py",
   "mimetype": "text/x-python",
   "name": "python",
   "nbconvert_exporter": "python",
   "pygments_lexer": "ipython3",
   "version": "3.9.12"
  },
  "vscode": {
   "interpreter": {
    "hash": "be9c48b7f3984ad819d14f6f9e9ad00f762af4dd73407fbdba0e95c704d060ea"
   }
  }
 },
 "nbformat": 4,
 "nbformat_minor": 5
}
