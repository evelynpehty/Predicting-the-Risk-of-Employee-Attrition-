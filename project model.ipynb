{
 "cells": [
  {
   "cell_type": "markdown",
   "id": "944764d5",
   "metadata": {},
   "source": [
    "# Predicting the Risk of Employee's Attrition"
   ]
  },
  {
   "cell_type": "markdown",
   "id": "3e40a1bc",
   "metadata": {},
   "source": [
    "### Team Overview\n",
    "1. Evelyn Peh Ting Yu\n",
    "2. Koh Pei Ling\n",
    "3. Song Yu Xiang\n",
    "4. Wong Jie Peng\n",
    "5. Guo Peng Yuan"
   ]
  },
  {
   "cell_type": "markdown",
   "metadata": {},
   "source": [
    "### Data Overview\n",
    "https://www.kaggle.com/datasets/pavansubhasht/ibm-hr-analytics-attrition-dataset\n",
    "\n",
    "<b>1460 observations</b> <br><br>\n",
    "<b>Attributes:</b> <br>\n",
    "<b>Dependent Variables:</b> Attrition <br>\n",
    "<b>Independent Variables:</b>\n",
    "<ul>\n",
    "    <li><b><i>Basic Information (6 attributes)</i></b>: Age, Education, Education Field, Gender, Marital Status, Distance From Home\n",
    "    <li><b><i>Work Information (8 attributes)</i></b>: Department, Job Role, Job Level, Over Time, Business Travel, Performance Rating, Stock Option Level,\n",
    "          Job Involvement\n",
    "    <li><b><i>Satisfaction (4 attributes)</i></b>: Work-Life Balance, Job Satisfaction, Relationship Satisfaction, Enviroment Satisfaction\n",
    "    <li><b><i>Salary Related (5 attributes)</i></b>: Monthly Income, Monthly Rate, Daily Rate, Hourly Rate, Percent Salary Hike\n",
    "    <li><b><i>Time Related (7 attributes)</i></b>: Total Working Years, Training Time Last Year, Years At Company, Years In Current Role, Years Since Last Promotion, \n",
    "           Years With Current Manager, Num Companies Worked\n",
    "</ul>"
   ]
  },
  {
   "cell_type": "markdown",
   "id": "7f1bc8f3",
   "metadata": {},
   "source": [
    "### 1. Import Libraries"
   ]
  },
  {
   "cell_type": "code",
   "execution_count": 413,
   "id": "dc853a11",
   "metadata": {},
   "outputs": [],
   "source": [
    "import pandas as pd\n",
    "import numpy as np\n",
    "import matplotlib.pyplot as plt\n",
    "import seaborn as sns\n",
    "\n",
    "from sklearn.model_selection import train_test_split\n",
    "from sklearn.model_selection import GridSearchCV\n",
    "from sklearn.model_selection import cross_val_score\n",
    "from sklearn.model_selection import KFold\n",
    "\n",
    "from sklearn.metrics import confusion_matrix\n",
    "from sklearn.metrics import classification_report\n",
    "from sklearn.metrics import accuracy_score\n",
    "from sklearn.metrics import roc_auc_score\n",
    "from sklearn.metrics import roc_curve\n",
    "\n",
    "from sklearn.preprocessing import StandardScaler, LabelEncoder \n",
    "\n",
    "#model\n",
    "from sklearn import tree\n",
    "from sklearn.linear_model import LogisticRegression\n",
    "from sklearn.tree import DecisionTreeClassifier\n",
    "from sklearn.ensemble import RandomForestClassifier\n",
    "from sklearn.naive_bayes import GaussianNB\n",
    "from sklearn.neighbors import KNeighborsClassifier\n",
    "from sklearn.ensemble import BaggingClassifier\n",
    "from sklearn.ensemble import AdaBoostClassifier\n",
    "from sklearn.ensemble import GradientBoostingClassifier\n",
    "from sklearn.ensemble import ExtraTreesClassifier\n",
    "from sklearn.svm import SVC\n",
    "from xgboost import XGBClassifier # pip install xgboost\n",
    "\n",
    "from imblearn.over_sampling import SMOTE # !pip install imblearn"
   ]
  },
  {
   "cell_type": "markdown",
   "id": "a40b6ec2",
   "metadata": {},
   "source": [
    "### 2. Import Dataset"
   ]
  },
  {
   "cell_type": "code",
   "execution_count": 414,
   "id": "306ca9d2",
   "metadata": {},
   "outputs": [
    {
     "data": {
      "text/plain": [
       "(1470, 35)"
      ]
     },
     "execution_count": 414,
     "metadata": {},
     "output_type": "execute_result"
    }
   ],
   "source": [
    "#https://www.kaggle.com/datasets/pavansubhasht/ibm-hr-analytics-attrition-dataset\n",
    "\n",
    "df = pd.read_csv(\"dataset.csv\") \n",
    "df.shape #1470 rows and 35 columns"
   ]
  },
  {
   "cell_type": "code",
   "execution_count": 415,
   "id": "fc841dc2",
   "metadata": {},
   "outputs": [
    {
     "data": {
      "text/html": [
       "<div>\n",
       "<style scoped>\n",
       "    .dataframe tbody tr th:only-of-type {\n",
       "        vertical-align: middle;\n",
       "    }\n",
       "\n",
       "    .dataframe tbody tr th {\n",
       "        vertical-align: top;\n",
       "    }\n",
       "\n",
       "    .dataframe thead th {\n",
       "        text-align: right;\n",
       "    }\n",
       "</style>\n",
       "<table border=\"1\" class=\"dataframe\">\n",
       "  <thead>\n",
       "    <tr style=\"text-align: right;\">\n",
       "      <th></th>\n",
       "      <th>Age</th>\n",
       "      <th>Attrition</th>\n",
       "      <th>BusinessTravel</th>\n",
       "      <th>DailyRate</th>\n",
       "      <th>Department</th>\n",
       "      <th>DistanceFromHome</th>\n",
       "      <th>Education</th>\n",
       "      <th>EducationField</th>\n",
       "      <th>EmployeeCount</th>\n",
       "      <th>EmployeeNumber</th>\n",
       "      <th>...</th>\n",
       "      <th>RelationshipSatisfaction</th>\n",
       "      <th>StandardHours</th>\n",
       "      <th>StockOptionLevel</th>\n",
       "      <th>TotalWorkingYears</th>\n",
       "      <th>TrainingTimesLastYear</th>\n",
       "      <th>WorkLifeBalance</th>\n",
       "      <th>YearsAtCompany</th>\n",
       "      <th>YearsInCurrentRole</th>\n",
       "      <th>YearsSinceLastPromotion</th>\n",
       "      <th>YearsWithCurrManager</th>\n",
       "    </tr>\n",
       "  </thead>\n",
       "  <tbody>\n",
       "    <tr>\n",
       "      <th>0</th>\n",
       "      <td>41</td>\n",
       "      <td>Yes</td>\n",
       "      <td>Travel_Rarely</td>\n",
       "      <td>1102</td>\n",
       "      <td>Sales</td>\n",
       "      <td>1</td>\n",
       "      <td>2</td>\n",
       "      <td>Life Sciences</td>\n",
       "      <td>1</td>\n",
       "      <td>1</td>\n",
       "      <td>...</td>\n",
       "      <td>1</td>\n",
       "      <td>80</td>\n",
       "      <td>0</td>\n",
       "      <td>8</td>\n",
       "      <td>0</td>\n",
       "      <td>1</td>\n",
       "      <td>6</td>\n",
       "      <td>4</td>\n",
       "      <td>0</td>\n",
       "      <td>5</td>\n",
       "    </tr>\n",
       "    <tr>\n",
       "      <th>1</th>\n",
       "      <td>49</td>\n",
       "      <td>No</td>\n",
       "      <td>Travel_Frequently</td>\n",
       "      <td>279</td>\n",
       "      <td>Research &amp; Development</td>\n",
       "      <td>8</td>\n",
       "      <td>1</td>\n",
       "      <td>Life Sciences</td>\n",
       "      <td>1</td>\n",
       "      <td>2</td>\n",
       "      <td>...</td>\n",
       "      <td>4</td>\n",
       "      <td>80</td>\n",
       "      <td>1</td>\n",
       "      <td>10</td>\n",
       "      <td>3</td>\n",
       "      <td>3</td>\n",
       "      <td>10</td>\n",
       "      <td>7</td>\n",
       "      <td>1</td>\n",
       "      <td>7</td>\n",
       "    </tr>\n",
       "    <tr>\n",
       "      <th>2</th>\n",
       "      <td>37</td>\n",
       "      <td>Yes</td>\n",
       "      <td>Travel_Rarely</td>\n",
       "      <td>1373</td>\n",
       "      <td>Research &amp; Development</td>\n",
       "      <td>2</td>\n",
       "      <td>2</td>\n",
       "      <td>Other</td>\n",
       "      <td>1</td>\n",
       "      <td>4</td>\n",
       "      <td>...</td>\n",
       "      <td>2</td>\n",
       "      <td>80</td>\n",
       "      <td>0</td>\n",
       "      <td>7</td>\n",
       "      <td>3</td>\n",
       "      <td>3</td>\n",
       "      <td>0</td>\n",
       "      <td>0</td>\n",
       "      <td>0</td>\n",
       "      <td>0</td>\n",
       "    </tr>\n",
       "    <tr>\n",
       "      <th>3</th>\n",
       "      <td>33</td>\n",
       "      <td>No</td>\n",
       "      <td>Travel_Frequently</td>\n",
       "      <td>1392</td>\n",
       "      <td>Research &amp; Development</td>\n",
       "      <td>3</td>\n",
       "      <td>4</td>\n",
       "      <td>Life Sciences</td>\n",
       "      <td>1</td>\n",
       "      <td>5</td>\n",
       "      <td>...</td>\n",
       "      <td>3</td>\n",
       "      <td>80</td>\n",
       "      <td>0</td>\n",
       "      <td>8</td>\n",
       "      <td>3</td>\n",
       "      <td>3</td>\n",
       "      <td>8</td>\n",
       "      <td>7</td>\n",
       "      <td>3</td>\n",
       "      <td>0</td>\n",
       "    </tr>\n",
       "    <tr>\n",
       "      <th>4</th>\n",
       "      <td>27</td>\n",
       "      <td>No</td>\n",
       "      <td>Travel_Rarely</td>\n",
       "      <td>591</td>\n",
       "      <td>Research &amp; Development</td>\n",
       "      <td>2</td>\n",
       "      <td>1</td>\n",
       "      <td>Medical</td>\n",
       "      <td>1</td>\n",
       "      <td>7</td>\n",
       "      <td>...</td>\n",
       "      <td>4</td>\n",
       "      <td>80</td>\n",
       "      <td>1</td>\n",
       "      <td>6</td>\n",
       "      <td>3</td>\n",
       "      <td>3</td>\n",
       "      <td>2</td>\n",
       "      <td>2</td>\n",
       "      <td>2</td>\n",
       "      <td>2</td>\n",
       "    </tr>\n",
       "  </tbody>\n",
       "</table>\n",
       "<p>5 rows × 35 columns</p>\n",
       "</div>"
      ],
      "text/plain": [
       "   Age Attrition     BusinessTravel  DailyRate              Department  \\\n",
       "0   41       Yes      Travel_Rarely       1102                   Sales   \n",
       "1   49        No  Travel_Frequently        279  Research & Development   \n",
       "2   37       Yes      Travel_Rarely       1373  Research & Development   \n",
       "3   33        No  Travel_Frequently       1392  Research & Development   \n",
       "4   27        No      Travel_Rarely        591  Research & Development   \n",
       "\n",
       "   DistanceFromHome  Education EducationField  EmployeeCount  EmployeeNumber  \\\n",
       "0                 1          2  Life Sciences              1               1   \n",
       "1                 8          1  Life Sciences              1               2   \n",
       "2                 2          2          Other              1               4   \n",
       "3                 3          4  Life Sciences              1               5   \n",
       "4                 2          1        Medical              1               7   \n",
       "\n",
       "   ...  RelationshipSatisfaction StandardHours  StockOptionLevel  \\\n",
       "0  ...                         1            80                 0   \n",
       "1  ...                         4            80                 1   \n",
       "2  ...                         2            80                 0   \n",
       "3  ...                         3            80                 0   \n",
       "4  ...                         4            80                 1   \n",
       "\n",
       "   TotalWorkingYears  TrainingTimesLastYear WorkLifeBalance  YearsAtCompany  \\\n",
       "0                  8                      0               1               6   \n",
       "1                 10                      3               3              10   \n",
       "2                  7                      3               3               0   \n",
       "3                  8                      3               3               8   \n",
       "4                  6                      3               3               2   \n",
       "\n",
       "  YearsInCurrentRole  YearsSinceLastPromotion  YearsWithCurrManager  \n",
       "0                  4                        0                     5  \n",
       "1                  7                        1                     7  \n",
       "2                  0                        0                     0  \n",
       "3                  7                        3                     0  \n",
       "4                  2                        2                     2  \n",
       "\n",
       "[5 rows x 35 columns]"
      ]
     },
     "execution_count": 415,
     "metadata": {},
     "output_type": "execute_result"
    }
   ],
   "source": [
    "df.head() #top 5 records, ensure data loaded properly"
   ]
  },
  {
   "cell_type": "markdown",
   "id": "087ff870",
   "metadata": {},
   "source": [
    "### 4. Exploratory Data Analysis"
   ]
  },
  {
   "cell_type": "markdown",
   "id": "fe281f01",
   "metadata": {},
   "source": [
    "##### Check for Null Values\n",
    "\n",
    "> no null value"
   ]
  },
  {
   "cell_type": "code",
   "execution_count": 416,
   "id": "7e5f3ee4",
   "metadata": {},
   "outputs": [
    {
     "data": {
      "text/plain": [
       "Age                         0\n",
       "Attrition                   0\n",
       "BusinessTravel              0\n",
       "DailyRate                   0\n",
       "Department                  0\n",
       "DistanceFromHome            0\n",
       "Education                   0\n",
       "EducationField              0\n",
       "EmployeeCount               0\n",
       "EmployeeNumber              0\n",
       "EnvironmentSatisfaction     0\n",
       "Gender                      0\n",
       "HourlyRate                  0\n",
       "JobInvolvement              0\n",
       "JobLevel                    0\n",
       "JobRole                     0\n",
       "JobSatisfaction             0\n",
       "MaritalStatus               0\n",
       "MonthlyIncome               0\n",
       "MonthlyRate                 0\n",
       "NumCompaniesWorked          0\n",
       "Over18                      0\n",
       "OverTime                    0\n",
       "PercentSalaryHike           0\n",
       "PerformanceRating           0\n",
       "RelationshipSatisfaction    0\n",
       "StandardHours               0\n",
       "StockOptionLevel            0\n",
       "TotalWorkingYears           0\n",
       "TrainingTimesLastYear       0\n",
       "WorkLifeBalance             0\n",
       "YearsAtCompany              0\n",
       "YearsInCurrentRole          0\n",
       "YearsSinceLastPromotion     0\n",
       "YearsWithCurrManager        0\n",
       "dtype: int64"
      ]
     },
     "execution_count": 416,
     "metadata": {},
     "output_type": "execute_result"
    }
   ],
   "source": [
    "df.isnull().sum() #no null value"
   ]
  },
  {
   "cell_type": "markdown",
   "id": "7448ba56",
   "metadata": {},
   "source": [
    "##### Check for Duplicates\n",
    "> no duplicated records"
   ]
  },
  {
   "cell_type": "code",
   "execution_count": 417,
   "id": "c25054c9",
   "metadata": {},
   "outputs": [
    {
     "data": {
      "text/plain": [
       "0"
      ]
     },
     "execution_count": 417,
     "metadata": {},
     "output_type": "execute_result"
    }
   ],
   "source": [
    "df.duplicated().sum()"
   ]
  },
  {
   "cell_type": "markdown",
   "id": "64a12e26",
   "metadata": {},
   "source": [
    "##### List of Attributes"
   ]
  },
  {
   "cell_type": "code",
   "execution_count": 418,
   "id": "fa365f44",
   "metadata": {},
   "outputs": [
    {
     "name": "stdout",
     "output_type": "stream",
     "text": [
      "<class 'pandas.core.frame.DataFrame'>\n",
      "RangeIndex: 1470 entries, 0 to 1469\n",
      "Data columns (total 35 columns):\n",
      " #   Column                    Non-Null Count  Dtype \n",
      "---  ------                    --------------  ----- \n",
      " 0   Age                       1470 non-null   int64 \n",
      " 1   Attrition                 1470 non-null   object\n",
      " 2   BusinessTravel            1470 non-null   object\n",
      " 3   DailyRate                 1470 non-null   int64 \n",
      " 4   Department                1470 non-null   object\n",
      " 5   DistanceFromHome          1470 non-null   int64 \n",
      " 6   Education                 1470 non-null   int64 \n",
      " 7   EducationField            1470 non-null   object\n",
      " 8   EmployeeCount             1470 non-null   int64 \n",
      " 9   EmployeeNumber            1470 non-null   int64 \n",
      " 10  EnvironmentSatisfaction   1470 non-null   int64 \n",
      " 11  Gender                    1470 non-null   object\n",
      " 12  HourlyRate                1470 non-null   int64 \n",
      " 13  JobInvolvement            1470 non-null   int64 \n",
      " 14  JobLevel                  1470 non-null   int64 \n",
      " 15  JobRole                   1470 non-null   object\n",
      " 16  JobSatisfaction           1470 non-null   int64 \n",
      " 17  MaritalStatus             1470 non-null   object\n",
      " 18  MonthlyIncome             1470 non-null   int64 \n",
      " 19  MonthlyRate               1470 non-null   int64 \n",
      " 20  NumCompaniesWorked        1470 non-null   int64 \n",
      " 21  Over18                    1470 non-null   object\n",
      " 22  OverTime                  1470 non-null   object\n",
      " 23  PercentSalaryHike         1470 non-null   int64 \n",
      " 24  PerformanceRating         1470 non-null   int64 \n",
      " 25  RelationshipSatisfaction  1470 non-null   int64 \n",
      " 26  StandardHours             1470 non-null   int64 \n",
      " 27  StockOptionLevel          1470 non-null   int64 \n",
      " 28  TotalWorkingYears         1470 non-null   int64 \n",
      " 29  TrainingTimesLastYear     1470 non-null   int64 \n",
      " 30  WorkLifeBalance           1470 non-null   int64 \n",
      " 31  YearsAtCompany            1470 non-null   int64 \n",
      " 32  YearsInCurrentRole        1470 non-null   int64 \n",
      " 33  YearsSinceLastPromotion   1470 non-null   int64 \n",
      " 34  YearsWithCurrManager      1470 non-null   int64 \n",
      "dtypes: int64(26), object(9)\n",
      "memory usage: 402.1+ KB\n"
     ]
    }
   ],
   "source": [
    "df.info()"
   ]
  },
  {
   "cell_type": "markdown",
   "id": "99f24ec3",
   "metadata": {},
   "source": [
    "##### Summary Statistic"
   ]
  },
  {
   "cell_type": "code",
   "execution_count": 419,
   "id": "5401816d",
   "metadata": {},
   "outputs": [
    {
     "data": {
      "text/html": [
       "<div>\n",
       "<style scoped>\n",
       "    .dataframe tbody tr th:only-of-type {\n",
       "        vertical-align: middle;\n",
       "    }\n",
       "\n",
       "    .dataframe tbody tr th {\n",
       "        vertical-align: top;\n",
       "    }\n",
       "\n",
       "    .dataframe thead th {\n",
       "        text-align: right;\n",
       "    }\n",
       "</style>\n",
       "<table border=\"1\" class=\"dataframe\">\n",
       "  <thead>\n",
       "    <tr style=\"text-align: right;\">\n",
       "      <th></th>\n",
       "      <th>Age</th>\n",
       "      <th>DailyRate</th>\n",
       "      <th>DistanceFromHome</th>\n",
       "      <th>Education</th>\n",
       "      <th>EmployeeCount</th>\n",
       "      <th>EmployeeNumber</th>\n",
       "      <th>EnvironmentSatisfaction</th>\n",
       "      <th>HourlyRate</th>\n",
       "      <th>JobInvolvement</th>\n",
       "      <th>JobLevel</th>\n",
       "      <th>...</th>\n",
       "      <th>RelationshipSatisfaction</th>\n",
       "      <th>StandardHours</th>\n",
       "      <th>StockOptionLevel</th>\n",
       "      <th>TotalWorkingYears</th>\n",
       "      <th>TrainingTimesLastYear</th>\n",
       "      <th>WorkLifeBalance</th>\n",
       "      <th>YearsAtCompany</th>\n",
       "      <th>YearsInCurrentRole</th>\n",
       "      <th>YearsSinceLastPromotion</th>\n",
       "      <th>YearsWithCurrManager</th>\n",
       "    </tr>\n",
       "  </thead>\n",
       "  <tbody>\n",
       "    <tr>\n",
       "      <th>count</th>\n",
       "      <td>1470.000000</td>\n",
       "      <td>1470.000000</td>\n",
       "      <td>1470.000000</td>\n",
       "      <td>1470.000000</td>\n",
       "      <td>1470.0</td>\n",
       "      <td>1470.000000</td>\n",
       "      <td>1470.000000</td>\n",
       "      <td>1470.000000</td>\n",
       "      <td>1470.000000</td>\n",
       "      <td>1470.000000</td>\n",
       "      <td>...</td>\n",
       "      <td>1470.000000</td>\n",
       "      <td>1470.0</td>\n",
       "      <td>1470.000000</td>\n",
       "      <td>1470.000000</td>\n",
       "      <td>1470.000000</td>\n",
       "      <td>1470.000000</td>\n",
       "      <td>1470.000000</td>\n",
       "      <td>1470.000000</td>\n",
       "      <td>1470.000000</td>\n",
       "      <td>1470.000000</td>\n",
       "    </tr>\n",
       "    <tr>\n",
       "      <th>mean</th>\n",
       "      <td>36.923810</td>\n",
       "      <td>802.485714</td>\n",
       "      <td>9.192517</td>\n",
       "      <td>2.912925</td>\n",
       "      <td>1.0</td>\n",
       "      <td>1024.865306</td>\n",
       "      <td>2.721769</td>\n",
       "      <td>65.891156</td>\n",
       "      <td>2.729932</td>\n",
       "      <td>2.063946</td>\n",
       "      <td>...</td>\n",
       "      <td>2.712245</td>\n",
       "      <td>80.0</td>\n",
       "      <td>0.793878</td>\n",
       "      <td>11.279592</td>\n",
       "      <td>2.799320</td>\n",
       "      <td>2.761224</td>\n",
       "      <td>7.008163</td>\n",
       "      <td>4.229252</td>\n",
       "      <td>2.187755</td>\n",
       "      <td>4.123129</td>\n",
       "    </tr>\n",
       "    <tr>\n",
       "      <th>std</th>\n",
       "      <td>9.135373</td>\n",
       "      <td>403.509100</td>\n",
       "      <td>8.106864</td>\n",
       "      <td>1.024165</td>\n",
       "      <td>0.0</td>\n",
       "      <td>602.024335</td>\n",
       "      <td>1.093082</td>\n",
       "      <td>20.329428</td>\n",
       "      <td>0.711561</td>\n",
       "      <td>1.106940</td>\n",
       "      <td>...</td>\n",
       "      <td>1.081209</td>\n",
       "      <td>0.0</td>\n",
       "      <td>0.852077</td>\n",
       "      <td>7.780782</td>\n",
       "      <td>1.289271</td>\n",
       "      <td>0.706476</td>\n",
       "      <td>6.126525</td>\n",
       "      <td>3.623137</td>\n",
       "      <td>3.222430</td>\n",
       "      <td>3.568136</td>\n",
       "    </tr>\n",
       "    <tr>\n",
       "      <th>min</th>\n",
       "      <td>18.000000</td>\n",
       "      <td>102.000000</td>\n",
       "      <td>1.000000</td>\n",
       "      <td>1.000000</td>\n",
       "      <td>1.0</td>\n",
       "      <td>1.000000</td>\n",
       "      <td>1.000000</td>\n",
       "      <td>30.000000</td>\n",
       "      <td>1.000000</td>\n",
       "      <td>1.000000</td>\n",
       "      <td>...</td>\n",
       "      <td>1.000000</td>\n",
       "      <td>80.0</td>\n",
       "      <td>0.000000</td>\n",
       "      <td>0.000000</td>\n",
       "      <td>0.000000</td>\n",
       "      <td>1.000000</td>\n",
       "      <td>0.000000</td>\n",
       "      <td>0.000000</td>\n",
       "      <td>0.000000</td>\n",
       "      <td>0.000000</td>\n",
       "    </tr>\n",
       "    <tr>\n",
       "      <th>25%</th>\n",
       "      <td>30.000000</td>\n",
       "      <td>465.000000</td>\n",
       "      <td>2.000000</td>\n",
       "      <td>2.000000</td>\n",
       "      <td>1.0</td>\n",
       "      <td>491.250000</td>\n",
       "      <td>2.000000</td>\n",
       "      <td>48.000000</td>\n",
       "      <td>2.000000</td>\n",
       "      <td>1.000000</td>\n",
       "      <td>...</td>\n",
       "      <td>2.000000</td>\n",
       "      <td>80.0</td>\n",
       "      <td>0.000000</td>\n",
       "      <td>6.000000</td>\n",
       "      <td>2.000000</td>\n",
       "      <td>2.000000</td>\n",
       "      <td>3.000000</td>\n",
       "      <td>2.000000</td>\n",
       "      <td>0.000000</td>\n",
       "      <td>2.000000</td>\n",
       "    </tr>\n",
       "    <tr>\n",
       "      <th>50%</th>\n",
       "      <td>36.000000</td>\n",
       "      <td>802.000000</td>\n",
       "      <td>7.000000</td>\n",
       "      <td>3.000000</td>\n",
       "      <td>1.0</td>\n",
       "      <td>1020.500000</td>\n",
       "      <td>3.000000</td>\n",
       "      <td>66.000000</td>\n",
       "      <td>3.000000</td>\n",
       "      <td>2.000000</td>\n",
       "      <td>...</td>\n",
       "      <td>3.000000</td>\n",
       "      <td>80.0</td>\n",
       "      <td>1.000000</td>\n",
       "      <td>10.000000</td>\n",
       "      <td>3.000000</td>\n",
       "      <td>3.000000</td>\n",
       "      <td>5.000000</td>\n",
       "      <td>3.000000</td>\n",
       "      <td>1.000000</td>\n",
       "      <td>3.000000</td>\n",
       "    </tr>\n",
       "    <tr>\n",
       "      <th>75%</th>\n",
       "      <td>43.000000</td>\n",
       "      <td>1157.000000</td>\n",
       "      <td>14.000000</td>\n",
       "      <td>4.000000</td>\n",
       "      <td>1.0</td>\n",
       "      <td>1555.750000</td>\n",
       "      <td>4.000000</td>\n",
       "      <td>83.750000</td>\n",
       "      <td>3.000000</td>\n",
       "      <td>3.000000</td>\n",
       "      <td>...</td>\n",
       "      <td>4.000000</td>\n",
       "      <td>80.0</td>\n",
       "      <td>1.000000</td>\n",
       "      <td>15.000000</td>\n",
       "      <td>3.000000</td>\n",
       "      <td>3.000000</td>\n",
       "      <td>9.000000</td>\n",
       "      <td>7.000000</td>\n",
       "      <td>3.000000</td>\n",
       "      <td>7.000000</td>\n",
       "    </tr>\n",
       "    <tr>\n",
       "      <th>max</th>\n",
       "      <td>60.000000</td>\n",
       "      <td>1499.000000</td>\n",
       "      <td>29.000000</td>\n",
       "      <td>5.000000</td>\n",
       "      <td>1.0</td>\n",
       "      <td>2068.000000</td>\n",
       "      <td>4.000000</td>\n",
       "      <td>100.000000</td>\n",
       "      <td>4.000000</td>\n",
       "      <td>5.000000</td>\n",
       "      <td>...</td>\n",
       "      <td>4.000000</td>\n",
       "      <td>80.0</td>\n",
       "      <td>3.000000</td>\n",
       "      <td>40.000000</td>\n",
       "      <td>6.000000</td>\n",
       "      <td>4.000000</td>\n",
       "      <td>40.000000</td>\n",
       "      <td>18.000000</td>\n",
       "      <td>15.000000</td>\n",
       "      <td>17.000000</td>\n",
       "    </tr>\n",
       "  </tbody>\n",
       "</table>\n",
       "<p>8 rows × 26 columns</p>\n",
       "</div>"
      ],
      "text/plain": [
       "               Age    DailyRate  DistanceFromHome    Education  EmployeeCount  \\\n",
       "count  1470.000000  1470.000000       1470.000000  1470.000000         1470.0   \n",
       "mean     36.923810   802.485714          9.192517     2.912925            1.0   \n",
       "std       9.135373   403.509100          8.106864     1.024165            0.0   \n",
       "min      18.000000   102.000000          1.000000     1.000000            1.0   \n",
       "25%      30.000000   465.000000          2.000000     2.000000            1.0   \n",
       "50%      36.000000   802.000000          7.000000     3.000000            1.0   \n",
       "75%      43.000000  1157.000000         14.000000     4.000000            1.0   \n",
       "max      60.000000  1499.000000         29.000000     5.000000            1.0   \n",
       "\n",
       "       EmployeeNumber  EnvironmentSatisfaction   HourlyRate  JobInvolvement  \\\n",
       "count     1470.000000              1470.000000  1470.000000     1470.000000   \n",
       "mean      1024.865306                 2.721769    65.891156        2.729932   \n",
       "std        602.024335                 1.093082    20.329428        0.711561   \n",
       "min          1.000000                 1.000000    30.000000        1.000000   \n",
       "25%        491.250000                 2.000000    48.000000        2.000000   \n",
       "50%       1020.500000                 3.000000    66.000000        3.000000   \n",
       "75%       1555.750000                 4.000000    83.750000        3.000000   \n",
       "max       2068.000000                 4.000000   100.000000        4.000000   \n",
       "\n",
       "          JobLevel  ...  RelationshipSatisfaction  StandardHours  \\\n",
       "count  1470.000000  ...               1470.000000         1470.0   \n",
       "mean      2.063946  ...                  2.712245           80.0   \n",
       "std       1.106940  ...                  1.081209            0.0   \n",
       "min       1.000000  ...                  1.000000           80.0   \n",
       "25%       1.000000  ...                  2.000000           80.0   \n",
       "50%       2.000000  ...                  3.000000           80.0   \n",
       "75%       3.000000  ...                  4.000000           80.0   \n",
       "max       5.000000  ...                  4.000000           80.0   \n",
       "\n",
       "       StockOptionLevel  TotalWorkingYears  TrainingTimesLastYear  \\\n",
       "count       1470.000000        1470.000000            1470.000000   \n",
       "mean           0.793878          11.279592               2.799320   \n",
       "std            0.852077           7.780782               1.289271   \n",
       "min            0.000000           0.000000               0.000000   \n",
       "25%            0.000000           6.000000               2.000000   \n",
       "50%            1.000000          10.000000               3.000000   \n",
       "75%            1.000000          15.000000               3.000000   \n",
       "max            3.000000          40.000000               6.000000   \n",
       "\n",
       "       WorkLifeBalance  YearsAtCompany  YearsInCurrentRole  \\\n",
       "count      1470.000000     1470.000000         1470.000000   \n",
       "mean          2.761224        7.008163            4.229252   \n",
       "std           0.706476        6.126525            3.623137   \n",
       "min           1.000000        0.000000            0.000000   \n",
       "25%           2.000000        3.000000            2.000000   \n",
       "50%           3.000000        5.000000            3.000000   \n",
       "75%           3.000000        9.000000            7.000000   \n",
       "max           4.000000       40.000000           18.000000   \n",
       "\n",
       "       YearsSinceLastPromotion  YearsWithCurrManager  \n",
       "count              1470.000000           1470.000000  \n",
       "mean                  2.187755              4.123129  \n",
       "std                   3.222430              3.568136  \n",
       "min                   0.000000              0.000000  \n",
       "25%                   0.000000              2.000000  \n",
       "50%                   1.000000              3.000000  \n",
       "75%                   3.000000              7.000000  \n",
       "max                  15.000000             17.000000  \n",
       "\n",
       "[8 rows x 26 columns]"
      ]
     },
     "execution_count": 419,
     "metadata": {},
     "output_type": "execute_result"
    }
   ],
   "source": [
    "df.describe()"
   ]
  },
  {
   "cell_type": "markdown",
   "id": "bd9b9071",
   "metadata": {},
   "source": [
    "##### check if any column has only  1 unique value\n",
    ">can consider dropping columns with only 1 unique value "
   ]
  },
  {
   "cell_type": "code",
   "execution_count": 420,
   "id": "5e947c18",
   "metadata": {
    "scrolled": true
   },
   "outputs": [
    {
     "data": {
      "text/plain": [
       "Index(['EmployeeCount', 'Over18', 'StandardHours'], dtype='object')"
      ]
     },
     "execution_count": 420,
     "metadata": {},
     "output_type": "execute_result"
    }
   ],
   "source": [
    "df.loc[:, df.nunique() == 1].columns"
   ]
  },
  {
   "cell_type": "code",
   "execution_count": 421,
   "id": "24611ee3",
   "metadata": {},
   "outputs": [],
   "source": [
    "col_to_drop = df.loc[:, df.nunique() == 1].columns"
   ]
  },
  {
   "cell_type": "markdown",
   "id": "1e2c42cd",
   "metadata": {},
   "source": [
    "##### Check if any column has all unique value which is likely to be a identifier variable"
   ]
  },
  {
   "cell_type": "code",
   "execution_count": 422,
   "id": "1d8fa879",
   "metadata": {},
   "outputs": [
    {
     "data": {
      "text/plain": [
       "Index(['EmployeeNumber'], dtype='object')"
      ]
     },
     "execution_count": 422,
     "metadata": {},
     "output_type": "execute_result"
    }
   ],
   "source": [
    "df.loc[:, df.nunique() == df.shape[0]].columns"
   ]
  },
  {
   "cell_type": "code",
   "execution_count": 423,
   "id": "a9cdcf05",
   "metadata": {},
   "outputs": [
    {
     "data": {
      "text/plain": [
       "Index(['EmployeeCount', 'Over18', 'StandardHours', 'EmployeeNumber'], dtype='object')"
      ]
     },
     "execution_count": 423,
     "metadata": {},
     "output_type": "execute_result"
    }
   ],
   "source": [
    "col_to_drop.append(df.loc[:, df.nunique() == df.shape[0]].columns)"
   ]
  },
  {
   "cell_type": "markdown",
   "id": "26742c8f",
   "metadata": {},
   "source": [
    "##### Distribution of each column \n",
    "> Normal Distribution - Age <br>\n",
    "Uniform Distribution - DailyRate, EmployeeNumber, HourlyRate, MonthlyRate"
   ]
  },
  {
   "cell_type": "code",
   "execution_count": 424,
   "id": "601e66b3",
   "metadata": {
    "collapsed": true
   },
   "outputs": [
    {
     "data": {
      "image/png": "[encoded data removed]",
      "text/plain": [
       "<Figure size 1152x864 with 30 Axes>"
      ]
     },
     "metadata": {
      "needs_background": "light"
     },
     "output_type": "display_data"
    }
   ],
   "source": [
    "df.hist(figsize=(16,12))\n",
    "plt.tight_layout()"
   ]
  },
  {
   "cell_type": "markdown",
   "id": "b7126b88",
   "metadata": {},
   "source": [
    "#### Target Variable - Attrition\n",
    "> Imbalanced Dataset"
   ]
  },
  {
   "cell_type": "code",
   "execution_count": 425,
   "id": "bc126868",
   "metadata": {},
   "outputs": [
    {
     "name": "stdout",
     "output_type": "stream",
     "text": [
      "0    1233\n",
      "1     237\n",
      "Name: Attrition, dtype: int64\n"
     ]
    },
    {
     "data": {
      "image/png": "[encoded data removed]",
      "text/plain": [
       "<Figure size 432x288 with 1 Axes>"
      ]
     },
     "metadata": {},
     "output_type": "display_data"
    }
   ],
   "source": [
    "# 0 - 'No' | 1 - 'Yes'\n",
    "dict_map = {\"No\": 0, \"Yes\": 1}\n",
    "df.Attrition = df['Attrition'].map(dict_map)  \n",
    "df['Attrition'].value_counts().plot(kind='pie',explode=[0.1,0.1],autopct='%1.1f%%',shadow=True,colors=['c','r'])\n",
    "print(df['Attrition'].value_counts())"
   ]
  },
  {
   "cell_type": "markdown",
   "id": "22d2b5fd",
   "metadata": {},
   "source": [
    "#### Gender vs Attrition"
   ]
  },
  {
   "cell_type": "markdown",
   "id": "defda9ee",
   "metadata": {},
   "source": [
    "\n",
    "> The ratio between numbers of males and females in the company are 1.5. <br>\n",
    "Approximately 6%, 10% of females and males respectively left the company. <br>\n",
    "The number of males which likely to leave the firm more than number of female."
   ]
  },
  {
   "cell_type": "code",
   "execution_count": 426,
   "id": "f424c6bd",
   "metadata": {},
   "outputs": [
    {
     "data": {
      "image/png": "[encoded data removed]",
      "text/plain": [
       "<Figure size 576x360 with 2 Axes>"
      ]
     },
     "metadata": {
      "needs_background": "light"
     },
     "output_type": "display_data"
    }
   ],
   "source": [
    "plt.figure(figsize=(8,5))\n",
    "total = float(len(df))\n",
    "plt.subplot(1,2,1)\n",
    "\n",
    "#% of Gender\n",
    "ay=sns.countplot(x=\"Gender\",data=df)\n",
    "for p in ay.patches:\n",
    "    percentage = '{:.1f}%'.format(100 * p.get_height()/total)\n",
    "    x = p.get_x() + p.get_width()\n",
    "    y = p.get_height()\n",
    "    ay.annotate(percentage, (x, y),ha='right')\n",
    "plt.subplot(1,2,2)\n",
    "\n",
    "#\n",
    "ax = sns.countplot(x=\"Gender\", hue=\"Attrition\", data=df)\n",
    "for p in ax.patches:\n",
    "    percentage = '{:.1f}%'.format(100 * p.get_height()/total)\n",
    "    x = p.get_x() + p.get_width()\n",
    "    y = p.get_height()\n",
    "    ax.annotate(percentage, (x, y),ha='right')\n",
    "plt.show()"
   ]
  },
  {
   "cell_type": "markdown",
   "id": "3b75eb7e",
   "metadata": {},
   "source": [
    "##### Age vs Attrition"
   ]
  },
  {
   "cell_type": "markdown",
   "id": "56f10561",
   "metadata": {},
   "source": [
    "> The majority of employee are between 28 - 36 years old, while the range of age are 18 - 60 <br>\n",
    "The Company seems to be highly depended on segment of employees younger than 40 years old <br>\n",
    "A close pattern can be identified where younger employees had higher chance of attrition up to around 35.\n"
   ]
  },
  {
   "cell_type": "code",
   "execution_count": 427,
   "id": "fedd935f",
   "metadata": {},
   "outputs": [
    {
     "data": {
      "text/plain": [
       "<AxesSubplot:xlabel='Age', ylabel='Count'>"
      ]
     },
     "execution_count": 427,
     "metadata": {},
     "output_type": "execute_result"
    },
    {
     "data": {
      "image/png": "[encoded data removed]",
      "text/plain": [
       "<Figure size 720x720 with 2 Axes>"
      ]
     },
     "metadata": {
      "needs_background": "light"
     },
     "output_type": "display_data"
    }
   ],
   "source": [
    "plt.figure(figsize = (10, 10))\n",
    "plt.subplot(2,1,1)\n",
    "sns.histplot(x = 'Age', data = df, kde=True )\n",
    "plt.subplot(2,1,2)\n",
    "sns.histplot(x = 'Age', hue = 'Attrition', data = df, kde=True )"
   ]
  },
  {
   "cell_type": "markdown",
   "id": "ffa34679",
   "metadata": {},
   "source": [
    "##### Distance from Home vs Attrition"
   ]
  },
  {
   "cell_type": "markdown",
   "id": "43b55bb4",
   "metadata": {},
   "source": [
    "> Most of our employees have a distance from home in range(1-10 km) <br>\n",
    "More employees tend to leave when the distance from home is more than 10 km"
   ]
  },
  {
   "cell_type": "code",
   "execution_count": 428,
   "id": "b43e7ab6",
   "metadata": {
    "collapsed": true
   },
   "outputs": [
    {
     "data": {
      "text/plain": [
       "<AxesSubplot:xlabel='DistanceFromHome', ylabel='count'>"
      ]
     },
     "execution_count": 428,
     "metadata": {},
     "output_type": "execute_result"
    },
    {
     "data": {
      "image/png": "[encoded data removed]",
      "text/plain": [
       "<Figure size 1440x720 with 2 Axes>"
      ]
     },
     "metadata": {
      "needs_background": "light"
     },
     "output_type": "display_data"
    }
   ],
   "source": [
    "plt.figure(figsize = (20 , 10))\n",
    "plt.subplot(2,1,1)\n",
    "sns.countplot(x= 'DistanceFromHome' ,data = df ,palette='winter_r')\n",
    "plt.title('Distance From Home')\n",
    "plt.subplot(2,1,2)\n",
    "sns.countplot(x= 'DistanceFromHome' ,data = df ,palette='winter_r'  ,hue = df['Attrition'])"
   ]
  },
  {
   "cell_type": "code",
   "execution_count": 429,
   "id": "67e0b9ef",
   "metadata": {},
   "outputs": [
    {
     "data": {
      "text/plain": [
       "0    1233\n",
       "1     237\n",
       "Name: Attrition, dtype: int64"
      ]
     },
     "execution_count": 429,
     "metadata": {},
     "output_type": "execute_result"
    }
   ],
   "source": [
    "df.Attrition.value_counts()"
   ]
  },
  {
   "cell_type": "code",
   "execution_count": 430,
   "id": "e1b738e3",
   "metadata": {},
   "outputs": [
    {
     "data": {
      "image/png": "[encoded data removed]",
      "text/plain": [
       "<Figure size 432x288 with 1 Axes>"
      ]
     },
     "metadata": {
      "needs_background": "light"
     },
     "output_type": "display_data"
    }
   ],
   "source": [
    "df_left=df[df['Attrition']==1]['DistanceFromHome'] \n",
    "df_stay=df[df['Attrition']==0]['DistanceFromHome'] \n",
    "\n",
    "sns.kdeplot(df_left, label = 'Employee left', shade = True, color = 'r' )\n",
    "sns.kdeplot(df_stay, label = 'Employee stay', shade = True, color = 'b')\n",
    "plt.legend()\n",
    "plt.show()"
   ]
  },
  {
   "cell_type": "markdown",
   "id": "ae42731a",
   "metadata": {},
   "source": [
    "##### Education vs Attrition\n",
    "1 - 'Below College' <br>\n",
    "2 -'College' <br>\n",
    "3 - 'Bachelor' <br>\n",
    "4 - 'Master' <br>\n",
    "5 - 'Doctor' "
   ]
  },
  {
   "cell_type": "code",
   "execution_count": 431,
   "id": "7a4401a6",
   "metadata": {},
   "outputs": [
    {
     "data": {
      "image/png": "[encoded data removed]",
      "text/plain": [
       "<Figure size 720x720 with 1 Axes>"
      ]
     },
     "metadata": {
      "needs_background": "light"
     },
     "output_type": "display_data"
    }
   ],
   "source": [
    "plt.figure(figsize=(10,10))\n",
    "df['Education'] = df['Education'].replace([1,2,3,4,5],['Below College','College', 'Bachelor', 'Master', 'Doctor'])\n",
    "sns.countplot(x = 'Education', data = df, palette = 'winter_r', hue = 'Attrition', order=['Below College','College', 'Bachelor', 'Master', 'Doctor'])\n",
    "plt.title('Education Vs Attrition')\n",
    "plt.show()"
   ]
  },
  {
   "cell_type": "markdown",
   "id": "4f174af3",
   "metadata": {},
   "source": [
    "##### Environment vs Attrition\n",
    "1 - 'Low' <br>\n",
    "2 - 'Medium' <br>\n",
    "3 - 'High' <br>\n",
    "4 - 'Very High'"
   ]
  },
  {
   "cell_type": "code",
   "execution_count": 432,
   "id": "5e322b40",
   "metadata": {},
   "outputs": [
    {
     "data": {
      "image/png": "[encoded data removed]",
      "text/plain": [
       "<Figure size 720x720 with 1 Axes>"
      ]
     },
     "metadata": {
      "needs_background": "light"
     },
     "output_type": "display_data"
    }
   ],
   "source": [
    "plt.figure(figsize=(10,10))\n",
    "df['EnvironmentSatisfaction'] = df['EnvironmentSatisfaction'].replace([1,2,3,4],['Low','Medium', 'High', 'Very High'])\n",
    "sns.countplot(x = 'EnvironmentSatisfaction', data = df, palette = 'winter_r', hue = 'Attrition', order=['Low','Medium', 'High', 'Very High'])\n",
    "plt.title('Environment Satisfaction Vs Attrition')\n",
    "plt.show()"
   ]
  },
  {
   "cell_type": "markdown",
   "id": "2f14758f",
   "metadata": {},
   "source": [
    "##### Job Involvement vs Attrition\n",
    "1 - 'Low' <br>\n",
    "2 - 'Medium' <br>\n",
    "3 - 'High' <br>\n",
    "4 - 'Very High'"
   ]
  },
  {
   "cell_type": "code",
   "execution_count": 433,
   "id": "e4bd8156",
   "metadata": {},
   "outputs": [
    {
     "data": {
      "image/png": "[encoded data removed]",
      "text/plain": [
       "<Figure size 720x720 with 1 Axes>"
      ]
     },
     "metadata": {
      "needs_background": "light"
     },
     "output_type": "display_data"
    }
   ],
   "source": [
    "plt.figure(figsize=(10,10))\n",
    "df['JobInvolvement'] = df['JobInvolvement'].replace([1,2,3,4],['Low','Medium', 'High', 'Very High'])\n",
    "sns.countplot(x = 'JobInvolvement', data = df, palette = 'winter_r', hue = 'Attrition', order=['Low','Medium', 'High', 'Very High'])\n",
    "plt.title('Job Involvement Vs Attrition')\n",
    "plt.show()"
   ]
  },
  {
   "cell_type": "markdown",
   "id": "71009eac",
   "metadata": {},
   "source": [
    "##### Job Satisfaction vs Attrition\n",
    "1 - 'Low' <br>\n",
    "2 - 'Medium' <br>\n",
    "3 - 'High' <br>\n",
    "4 - 'Very High'"
   ]
  },
  {
   "cell_type": "code",
   "execution_count": 434,
   "id": "f5f533e6",
   "metadata": {},
   "outputs": [
    {
     "data": {
      "image/png": "[encoded data removed]",
      "text/plain": [
       "<Figure size 720x720 with 1 Axes>"
      ]
     },
     "metadata": {
      "needs_background": "light"
     },
     "output_type": "display_data"
    }
   ],
   "source": [
    "plt.figure(figsize=(10,10))\n",
    "df['JobSatisfaction'] = df['JobSatisfaction'].replace([1,2,3,4],['Low','Medium', 'High', 'Very High'])\n",
    "sns.countplot(x = 'JobSatisfaction', data = df, palette = 'winter_r', hue = 'Attrition', order=['Low','Medium', 'High', 'Very High'])\n",
    "plt.title('Job Satisfaction Vs Attrition')\n",
    "plt.show()"
   ]
  },
  {
   "cell_type": "markdown",
   "id": "dffea21c",
   "metadata": {},
   "source": [
    "##### Performance Rating vs Attrition\n",
    "1 - 'Low' <br>\n",
    "2 - 'Good' <br>\n",
    "3 - 'Excellent' <br>\n",
    "4 - 'Outstanding'"
   ]
  },
  {
   "cell_type": "code",
   "execution_count": 435,
   "id": "ebf642ed",
   "metadata": {},
   "outputs": [
    {
     "data": {
      "image/png": "[encoded data removed]",
      "text/plain": [
       "<Figure size 720x720 with 1 Axes>"
      ]
     },
     "metadata": {
      "needs_background": "light"
     },
     "output_type": "display_data"
    }
   ],
   "source": [
    "plt.figure(figsize=(10,10))\n",
    "df['PerformanceRating'] = df['PerformanceRating'].replace([1,2,3,4],['Low','Good', 'Excellent', 'Outstanding'])\n",
    "sns.countplot(x = 'PerformanceRating', data = df, palette = 'winter_r', hue = 'Attrition', order=['Low','Good', 'Excellent', 'Outstanding'])\n",
    "plt.title('Performance Rating Vs Attrition')\n",
    "plt.show()"
   ]
  },
  {
   "cell_type": "markdown",
   "id": "545cde52",
   "metadata": {},
   "source": [
    "##### Relationship Satisfaction vs Attrition\n",
    "1 - 'Low' <br>\n",
    "2 - 'Medium' <br>\n",
    "3 - 'High' <br>\n",
    "4 - 'Very High'"
   ]
  },
  {
   "cell_type": "code",
   "execution_count": 436,
   "id": "45121556",
   "metadata": {},
   "outputs": [
    {
     "data": {
      "image/png": "[encoded data removed]",
      "text/plain": [
       "<Figure size 720x720 with 1 Axes>"
      ]
     },
     "metadata": {
      "needs_background": "light"
     },
     "output_type": "display_data"
    }
   ],
   "source": [
    "plt.figure(figsize=(10,10))\n",
    "df['RelationshipSatisfaction'] = df['RelationshipSatisfaction'].replace([1,2,3,4], ['Low','Medium', 'High', 'Very High'])\n",
    "sns.countplot(x = 'RelationshipSatisfaction', data = df, palette = 'winter_r', hue = 'Attrition', order=['Low','Medium', 'High', 'Very High'])\n",
    "plt.title('Relationship Satisfaction Vs Attrition')\n",
    "plt.show()"
   ]
  },
  {
   "cell_type": "markdown",
   "id": "750e7446",
   "metadata": {},
   "source": [
    "##### Worklife Balance vs Attrition\n",
    "1 - 'Bad' <br>\n",
    "2 - 'Good' <br>\n",
    "3 - 'Better' <br>\n",
    "4 - 'Best'"
   ]
  },
  {
   "cell_type": "code",
   "execution_count": 437,
   "id": "2a2a9a4b",
   "metadata": {},
   "outputs": [
    {
     "data": {
      "image/png": "[encoded data removed]",
      "text/plain": [
       "<Figure size 720x720 with 1 Axes>"
      ]
     },
     "metadata": {
      "needs_background": "light"
     },
     "output_type": "display_data"
    }
   ],
   "source": [
    "plt.figure(figsize=(10,10))\n",
    "df['WorkLifeBalance`'] = df['WorkLifeBalance'].replace([1,2,3,4], ['Bad','Good', 'Better', 'Best'])\n",
    "sns.countplot(x = 'WorkLifeBalance', data = df, palette = 'winter_r', hue = 'Attrition', order=['Bad','Good', 'Better', 'Best'])\n",
    "plt.title('Worklife Balance Vs Attrition')\n",
    "plt.show()"
   ]
  },
  {
   "cell_type": "markdown",
   "metadata": {},
   "source": [
    "##### Ratio between Male & Female"
   ]
  },
  {
   "cell_type": "code",
   "execution_count": 438,
   "id": "c249bdaf",
   "metadata": {},
   "outputs": [
    {
     "name": "stdout",
     "output_type": "stream",
     "text": [
      "Male      882\n",
      "Female    588\n",
      "Name: Gender, dtype: int64\n"
     ]
    },
    {
     "data": {
      "image/png": "[encoded data removed]",
      "text/plain": [
       "<Figure size 432x288 with 1 Axes>"
      ]
     },
     "metadata": {},
     "output_type": "display_data"
    }
   ],
   "source": [
    "df['Gender'].value_counts().plot(kind='pie',explode=[0.1,0.1],autopct='%1.1f%%',shadow=True,colors=['c','r'])\n",
    "print(df['Gender'].value_counts())"
   ]
  },
  {
   "cell_type": "code",
   "execution_count": null,
   "id": "44ea10e7",
   "metadata": {},
   "outputs": [],
   "source": []
  },
  {
   "cell_type": "code",
   "execution_count": null,
   "id": "f5402537",
   "metadata": {},
   "outputs": [],
   "source": []
  },
  {
   "cell_type": "code",
   "execution_count": null,
   "id": "4956d288",
   "metadata": {},
   "outputs": [],
   "source": []
  },
  {
   "cell_type": "code",
   "execution_count": null,
   "id": "40fb749b",
   "metadata": {},
   "outputs": [],
   "source": []
  },
  {
   "cell_type": "code",
   "execution_count": null,
   "id": "f56f14be",
   "metadata": {},
   "outputs": [],
   "source": []
  },
  {
   "cell_type": "code",
   "execution_count": null,
   "id": "ee5c7bc7",
   "metadata": {},
   "outputs": [],
   "source": []
  },
  {
   "cell_type": "markdown",
   "id": "a6b6f5bb",
   "metadata": {},
   "source": [
    "# <mark> Please ignore the codes below first </mark>"
   ]
  },
  {
   "cell_type": "code",
   "execution_count": 439,
   "id": "f70af3f1",
   "metadata": {},
   "outputs": [],
   "source": [
    "df.drop(columns=[\"StandardHours\", \"EmployeeNumber\", \"EmployeeCount\",\"Over18\"], inplace=True) \n",
    "#drop because values are the same for all employees, hence, redundanct for accruracy"
   ]
  },
  {
   "cell_type": "markdown",
   "id": "4ca61862",
   "metadata": {},
   "source": [
    "### Feature Engineering"
   ]
  },
  {
   "cell_type": "markdown",
   "id": "1882d992",
   "metadata": {},
   "source": [
    "###### Dropping columns with constant value and identifier columns"
   ]
  },
  {
   "cell_type": "code",
   "execution_count": 440,
   "id": "cc90510b",
   "metadata": {},
   "outputs": [
    {
     "data": {
      "text/plain": [
       "(1470, 32)"
      ]
     },
     "execution_count": 440,
     "metadata": {},
     "output_type": "execute_result"
    }
   ],
   "source": [
    "df.shape #35 - 4 = 31 remaining cols "
   ]
  },
  {
   "cell_type": "markdown",
   "id": "18ab74c3",
   "metadata": {},
   "source": [
    "###### Encoding the categorical type data \n"
   ]
  },
  {
   "cell_type": "code",
   "execution_count": 441,
   "id": "9fb69946",
   "metadata": {},
   "outputs": [],
   "source": [
    "le = LabelEncoder()"
   ]
  },
  {
   "cell_type": "code",
   "execution_count": 442,
   "id": "298b942e",
   "metadata": {},
   "outputs": [
    {
     "name": "stdout",
     "output_type": "stream",
     "text": [
      "3 columns were label encoded.\n"
     ]
    }
   ],
   "source": [
    "# Label Encoding will be used for columns with 2 or less unique values\n",
    "le_count = 0\n",
    "for col in df.columns[1:]:\n",
    "    if df[col].dtype == 'object':\n",
    "        if len(list(df[col].unique())) <= 2:\n",
    "            le.fit(df[col])\n",
    "            df[col] = le.transform(df[col])\n",
    "            le_count += 1\n",
    "print('{} columns were label encoded.'.format(le_count))"
   ]
  },
  {
   "cell_type": "code",
   "execution_count": 443,
   "id": "48d821e4",
   "metadata": {},
   "outputs": [],
   "source": [
    "# convert rest of categorical variable into dummy\n",
    "df = pd.get_dummies(df, drop_first=True)"
   ]
  },
  {
   "cell_type": "code",
   "execution_count": 444,
   "id": "e9cbd470",
   "metadata": {},
   "outputs": [
    {
     "data": {
      "text/html": [
       "<div>\n",
       "<style scoped>\n",
       "    .dataframe tbody tr th:only-of-type {\n",
       "        vertical-align: middle;\n",
       "    }\n",
       "\n",
       "    .dataframe tbody tr th {\n",
       "        vertical-align: top;\n",
       "    }\n",
       "\n",
       "    .dataframe thead th {\n",
       "        text-align: right;\n",
       "    }\n",
       "</style>\n",
       "<table border=\"1\" class=\"dataframe\">\n",
       "  <thead>\n",
       "    <tr style=\"text-align: right;\">\n",
       "      <th></th>\n",
       "      <th>Age</th>\n",
       "      <th>Attrition</th>\n",
       "      <th>DailyRate</th>\n",
       "      <th>DistanceFromHome</th>\n",
       "      <th>Gender</th>\n",
       "      <th>HourlyRate</th>\n",
       "      <th>JobLevel</th>\n",
       "      <th>MonthlyIncome</th>\n",
       "      <th>MonthlyRate</th>\n",
       "      <th>NumCompaniesWorked</th>\n",
       "      <th>...</th>\n",
       "      <th>JobSatisfaction_Medium</th>\n",
       "      <th>JobSatisfaction_Very High</th>\n",
       "      <th>MaritalStatus_Married</th>\n",
       "      <th>MaritalStatus_Single</th>\n",
       "      <th>RelationshipSatisfaction_Low</th>\n",
       "      <th>RelationshipSatisfaction_Medium</th>\n",
       "      <th>RelationshipSatisfaction_Very High</th>\n",
       "      <th>WorkLifeBalance`_Best</th>\n",
       "      <th>WorkLifeBalance`_Better</th>\n",
       "      <th>WorkLifeBalance`_Good</th>\n",
       "    </tr>\n",
       "  </thead>\n",
       "  <tbody>\n",
       "    <tr>\n",
       "      <th>0</th>\n",
       "      <td>2.738095</td>\n",
       "      <td>1.0</td>\n",
       "      <td>3.579098</td>\n",
       "      <td>0.000000</td>\n",
       "      <td>0.0</td>\n",
       "      <td>4.571429</td>\n",
       "      <td>1.25</td>\n",
       "      <td>1.312270</td>\n",
       "      <td>3.490263</td>\n",
       "      <td>4.444444</td>\n",
       "      <td>...</td>\n",
       "      <td>0.0</td>\n",
       "      <td>5.0</td>\n",
       "      <td>0.0</td>\n",
       "      <td>5.0</td>\n",
       "      <td>5.0</td>\n",
       "      <td>0.0</td>\n",
       "      <td>0.0</td>\n",
       "      <td>0.0</td>\n",
       "      <td>0.0</td>\n",
       "      <td>0.0</td>\n",
       "    </tr>\n",
       "    <tr>\n",
       "      <th>1</th>\n",
       "      <td>3.690476</td>\n",
       "      <td>0.0</td>\n",
       "      <td>0.633500</td>\n",
       "      <td>1.250000</td>\n",
       "      <td>5.0</td>\n",
       "      <td>2.214286</td>\n",
       "      <td>1.25</td>\n",
       "      <td>1.085045</td>\n",
       "      <td>4.580004</td>\n",
       "      <td>0.555556</td>\n",
       "      <td>...</td>\n",
       "      <td>5.0</td>\n",
       "      <td>0.0</td>\n",
       "      <td>5.0</td>\n",
       "      <td>0.0</td>\n",
       "      <td>0.0</td>\n",
       "      <td>0.0</td>\n",
       "      <td>5.0</td>\n",
       "      <td>0.0</td>\n",
       "      <td>5.0</td>\n",
       "      <td>0.0</td>\n",
       "    </tr>\n",
       "    <tr>\n",
       "      <th>2</th>\n",
       "      <td>2.261905</td>\n",
       "      <td>1.0</td>\n",
       "      <td>4.549034</td>\n",
       "      <td>0.178571</td>\n",
       "      <td>5.0</td>\n",
       "      <td>4.428571</td>\n",
       "      <td>0.00</td>\n",
       "      <td>0.284623</td>\n",
       "      <td>0.060630</td>\n",
       "      <td>3.333333</td>\n",
       "      <td>...</td>\n",
       "      <td>0.0</td>\n",
       "      <td>0.0</td>\n",
       "      <td>0.0</td>\n",
       "      <td>5.0</td>\n",
       "      <td>0.0</td>\n",
       "      <td>5.0</td>\n",
       "      <td>0.0</td>\n",
       "      <td>0.0</td>\n",
       "      <td>5.0</td>\n",
       "      <td>0.0</td>\n",
       "    </tr>\n",
       "    <tr>\n",
       "      <th>3</th>\n",
       "      <td>1.785714</td>\n",
       "      <td>0.0</td>\n",
       "      <td>4.617037</td>\n",
       "      <td>0.357143</td>\n",
       "      <td>0.0</td>\n",
       "      <td>1.857143</td>\n",
       "      <td>0.00</td>\n",
       "      <td>0.500263</td>\n",
       "      <td>4.229070</td>\n",
       "      <td>0.555556</td>\n",
       "      <td>...</td>\n",
       "      <td>0.0</td>\n",
       "      <td>0.0</td>\n",
       "      <td>5.0</td>\n",
       "      <td>0.0</td>\n",
       "      <td>0.0</td>\n",
       "      <td>0.0</td>\n",
       "      <td>0.0</td>\n",
       "      <td>0.0</td>\n",
       "      <td>5.0</td>\n",
       "      <td>0.0</td>\n",
       "    </tr>\n",
       "    <tr>\n",
       "      <th>4</th>\n",
       "      <td>1.071429</td>\n",
       "      <td>0.0</td>\n",
       "      <td>1.750179</td>\n",
       "      <td>0.178571</td>\n",
       "      <td>5.0</td>\n",
       "      <td>0.714286</td>\n",
       "      <td>0.00</td>\n",
       "      <td>0.647446</td>\n",
       "      <td>2.918691</td>\n",
       "      <td>5.000000</td>\n",
       "      <td>...</td>\n",
       "      <td>5.0</td>\n",
       "      <td>0.0</td>\n",
       "      <td>5.0</td>\n",
       "      <td>0.0</td>\n",
       "      <td>0.0</td>\n",
       "      <td>0.0</td>\n",
       "      <td>5.0</td>\n",
       "      <td>0.0</td>\n",
       "      <td>5.0</td>\n",
       "      <td>0.0</td>\n",
       "    </tr>\n",
       "  </tbody>\n",
       "</table>\n",
       "<p>5 rows × 59 columns</p>\n",
       "</div>"
      ],
      "text/plain": [
       "        Age  Attrition  DailyRate  DistanceFromHome  Gender  HourlyRate  \\\n",
       "0  2.738095        1.0   3.579098          0.000000     0.0    4.571429   \n",
       "1  3.690476        0.0   0.633500          1.250000     5.0    2.214286   \n",
       "2  2.261905        1.0   4.549034          0.178571     5.0    4.428571   \n",
       "3  1.785714        0.0   4.617037          0.357143     0.0    1.857143   \n",
       "4  1.071429        0.0   1.750179          0.178571     5.0    0.714286   \n",
       "\n",
       "   JobLevel  MonthlyIncome  MonthlyRate  NumCompaniesWorked  ...  \\\n",
       "0      1.25       1.312270     3.490263            4.444444  ...   \n",
       "1      1.25       1.085045     4.580004            0.555556  ...   \n",
       "2      0.00       0.284623     0.060630            3.333333  ...   \n",
       "3      0.00       0.500263     4.229070            0.555556  ...   \n",
       "4      0.00       0.647446     2.918691            5.000000  ...   \n",
       "\n",
       "   JobSatisfaction_Medium  JobSatisfaction_Very High  MaritalStatus_Married  \\\n",
       "0                     0.0                        5.0                    0.0   \n",
       "1                     5.0                        0.0                    5.0   \n",
       "2                     0.0                        0.0                    0.0   \n",
       "3                     0.0                        0.0                    5.0   \n",
       "4                     5.0                        0.0                    5.0   \n",
       "\n",
       "   MaritalStatus_Single  RelationshipSatisfaction_Low  \\\n",
       "0                   5.0                           5.0   \n",
       "1                   0.0                           0.0   \n",
       "2                   5.0                           0.0   \n",
       "3                   0.0                           0.0   \n",
       "4                   0.0                           0.0   \n",
       "\n",
       "   RelationshipSatisfaction_Medium  RelationshipSatisfaction_Very High  \\\n",
       "0                              0.0                                 0.0   \n",
       "1                              0.0                                 5.0   \n",
       "2                              5.0                                 0.0   \n",
       "3                              0.0                                 0.0   \n",
       "4                              0.0                                 5.0   \n",
       "\n",
       "   WorkLifeBalance`_Best  WorkLifeBalance`_Better  WorkLifeBalance`_Good  \n",
       "0                    0.0                      0.0                    0.0  \n",
       "1                    0.0                      5.0                    0.0  \n",
       "2                    0.0                      5.0                    0.0  \n",
       "3                    0.0                      5.0                    0.0  \n",
       "4                    0.0                      5.0                    0.0  \n",
       "\n",
       "[5 rows x 59 columns]"
      ]
     },
     "execution_count": 444,
     "metadata": {},
     "output_type": "execute_result"
    }
   ],
   "source": [
    "# import MinMaxScaler\n",
    "from sklearn.preprocessing import MinMaxScaler\n",
    "scaler = MinMaxScaler(feature_range=(0, 5))\n",
    "HR_col = list(df.columns)\n",
    "HR_col.remove('Attrition')\n",
    "for col in HR_col:\n",
    "    df[col] = df[col].astype(float)\n",
    "    df[[col]] = scaler.fit_transform(df[[col]])\n",
    "df['Attrition'] = pd.to_numeric(df['Attrition'], downcast='float')\n",
    "df.head()"
   ]
  },
  {
   "cell_type": "code",
   "execution_count": 445,
   "id": "f7c8a6be",
   "metadata": {},
   "outputs": [
    {
     "name": "stdout",
     "output_type": "stream",
     "text": [
      "<class 'pandas.core.frame.DataFrame'>\n",
      "RangeIndex: 1470 entries, 0 to 1469\n",
      "Data columns (total 59 columns):\n",
      " #   Column                              Non-Null Count  Dtype  \n",
      "---  ------                              --------------  -----  \n",
      " 0   Age                                 1470 non-null   float64\n",
      " 1   Attrition                           1470 non-null   float32\n",
      " 2   DailyRate                           1470 non-null   float64\n",
      " 3   DistanceFromHome                    1470 non-null   float64\n",
      " 4   Gender                              1470 non-null   float64\n",
      " 5   HourlyRate                          1470 non-null   float64\n",
      " 6   JobLevel                            1470 non-null   float64\n",
      " 7   MonthlyIncome                       1470 non-null   float64\n",
      " 8   MonthlyRate                         1470 non-null   float64\n",
      " 9   NumCompaniesWorked                  1470 non-null   float64\n",
      " 10  OverTime                            1470 non-null   float64\n",
      " 11  PercentSalaryHike                   1470 non-null   float64\n",
      " 12  PerformanceRating                   1470 non-null   float64\n",
      " 13  StockOptionLevel                    1470 non-null   float64\n",
      " 14  TotalWorkingYears                   1470 non-null   float64\n",
      " 15  TrainingTimesLastYear               1470 non-null   float64\n",
      " 16  WorkLifeBalance                     1470 non-null   float64\n",
      " 17  YearsAtCompany                      1470 non-null   float64\n",
      " 18  YearsInCurrentRole                  1470 non-null   float64\n",
      " 19  YearsSinceLastPromotion             1470 non-null   float64\n",
      " 20  YearsWithCurrManager                1470 non-null   float64\n",
      " 21  BusinessTravel_Travel_Frequently    1470 non-null   float64\n",
      " 22  BusinessTravel_Travel_Rarely        1470 non-null   float64\n",
      " 23  Department_Research & Development   1470 non-null   float64\n",
      " 24  Department_Sales                    1470 non-null   float64\n",
      " 25  Education_Below College             1470 non-null   float64\n",
      " 26  Education_College                   1470 non-null   float64\n",
      " 27  Education_Doctor                    1470 non-null   float64\n",
      " 28  Education_Master                    1470 non-null   float64\n",
      " 29  EducationField_Life Sciences        1470 non-null   float64\n",
      " 30  EducationField_Marketing            1470 non-null   float64\n",
      " 31  EducationField_Medical              1470 non-null   float64\n",
      " 32  EducationField_Other                1470 non-null   float64\n",
      " 33  EducationField_Technical Degree     1470 non-null   float64\n",
      " 34  EnvironmentSatisfaction_Low         1470 non-null   float64\n",
      " 35  EnvironmentSatisfaction_Medium      1470 non-null   float64\n",
      " 36  EnvironmentSatisfaction_Very High   1470 non-null   float64\n",
      " 37  JobInvolvement_Low                  1470 non-null   float64\n",
      " 38  JobInvolvement_Medium               1470 non-null   float64\n",
      " 39  JobInvolvement_Very High            1470 non-null   float64\n",
      " 40  JobRole_Human Resources             1470 non-null   float64\n",
      " 41  JobRole_Laboratory Technician       1470 non-null   float64\n",
      " 42  JobRole_Manager                     1470 non-null   float64\n",
      " 43  JobRole_Manufacturing Director      1470 non-null   float64\n",
      " 44  JobRole_Research Director           1470 non-null   float64\n",
      " 45  JobRole_Research Scientist          1470 non-null   float64\n",
      " 46  JobRole_Sales Executive             1470 non-null   float64\n",
      " 47  JobRole_Sales Representative        1470 non-null   float64\n",
      " 48  JobSatisfaction_Low                 1470 non-null   float64\n",
      " 49  JobSatisfaction_Medium              1470 non-null   float64\n",
      " 50  JobSatisfaction_Very High           1470 non-null   float64\n",
      " 51  MaritalStatus_Married               1470 non-null   float64\n",
      " 52  MaritalStatus_Single                1470 non-null   float64\n",
      " 53  RelationshipSatisfaction_Low        1470 non-null   float64\n",
      " 54  RelationshipSatisfaction_Medium     1470 non-null   float64\n",
      " 55  RelationshipSatisfaction_Very High  1470 non-null   float64\n",
      " 56  WorkLifeBalance`_Best               1470 non-null   float64\n",
      " 57  WorkLifeBalance`_Better             1470 non-null   float64\n",
      " 58  WorkLifeBalance`_Good               1470 non-null   float64\n",
      "dtypes: float32(1), float64(58)\n",
      "memory usage: 672.0 KB\n"
     ]
    }
   ],
   "source": [
    "df.info()"
   ]
  },
  {
   "cell_type": "markdown",
   "id": "7bd85bdc",
   "metadata": {},
   "source": [
    "### Generate training set and test set with SMOTE"
   ]
  },
  {
   "cell_type": "code",
   "execution_count": 446,
   "id": "1f80f1eb",
   "metadata": {
    "scrolled": true
   },
   "outputs": [],
   "source": [
    "# Separate input features and target\n",
    "y = df[\"Attrition\"]\n",
    "X = df.loc[:, df.columns != 'Attrition']\n",
    "\n",
    "# setting up testing and training sets\n",
    "X_train, X_test, y_train, y_test = train_test_split(X, y, test_size=0.25, random_state=123)\n",
    "\n",
    "\n",
    "sm = SMOTE(random_state = 0)\n",
    "X_train, y_train = sm.fit_resample(X_train, y_train)"
   ]
  },
  {
   "cell_type": "code",
   "execution_count": 447,
   "id": "686c79ae",
   "metadata": {},
   "outputs": [
    {
     "data": {
      "text/plain": [
       "0.0    913\n",
       "1.0    913\n",
       "Name: Attrition, dtype: int64"
      ]
     },
     "execution_count": 447,
     "metadata": {},
     "output_type": "execute_result"
    }
   ],
   "source": [
    "y_train.value_counts()"
   ]
  },
  {
   "cell_type": "markdown",
   "id": "d718f4fc",
   "metadata": {},
   "source": [
    "### Handling imbalance data with GAN"
   ]
  },
  {
   "cell_type": "code",
   "execution_count": 448,
   "id": "bd8999f0",
   "metadata": {},
   "outputs": [],
   "source": [
    "# setting up testing and training sets\n",
    "X_train1, X_test1, y_train1, y_test1 = train_test_split(X, y, test_size=0.25, random_state=123)"
   ]
  },
  {
   "cell_type": "code",
   "execution_count": 449,
   "id": "75da683f",
   "metadata": {},
   "outputs": [
    {
     "ename": "ModuleNotFoundError",
     "evalue": "No module named 'torch'",
     "output_type": "error",
     "traceback": [
      "\u001b[1;31m---------------------------------------------------------------------------\u001b[0m",
      "\u001b[1;31mModuleNotFoundError\u001b[0m                       Traceback (most recent call last)",
      "\u001b[1;32mc:\\Users\\Pei Ling\\Documents\\GitHub\\Predicting-the-Risk-of-Employee-Attrition-\\project model.ipynb Cell 77\u001b[0m in \u001b[0;36m<cell line: 1>\u001b[1;34m()\u001b[0m\n\u001b[1;32m----> <a href='vscode-notebook-cell:/c%3A/Users/Pei%20Ling/Documents/GitHub/Predicting-the-Risk-of-Employee-Attrition-/project%20model.ipynb#Y116sZmlsZQ%3D%3D?line=0'>1</a>\u001b[0m \u001b[39mimport\u001b[39;00m \u001b[39mtorch\u001b[39;00m\u001b[39m.\u001b[39;00m\u001b[39mnn\u001b[39;00m \u001b[39mas\u001b[39;00m \u001b[39mnn\u001b[39;00m\n\u001b[0;32m      <a href='vscode-notebook-cell:/c%3A/Users/Pei%20Ling/Documents/GitHub/Predicting-the-Risk-of-Employee-Attrition-/project%20model.ipynb#Y116sZmlsZQ%3D%3D?line=1'>2</a>\u001b[0m \u001b[39mimport\u001b[39;00m \u001b[39mtorch\u001b[39;00m\n\u001b[0;32m      <a href='vscode-notebook-cell:/c%3A/Users/Pei%20Ling/Documents/GitHub/Predicting-the-Risk-of-Employee-Attrition-/project%20model.ipynb#Y116sZmlsZQ%3D%3D?line=3'>4</a>\u001b[0m process \u001b[39m=\u001b[39m X_train1\u001b[39m.\u001b[39mcopy()\n",
      "\u001b[1;31mModuleNotFoundError\u001b[0m: No module named 'torch'"
     ]
    }
   ],
   "source": [
    "import torch.nn as nn\n",
    "import torch\n",
    "\n",
    "process = X_train1.copy()\n",
    "process['target'] = y_train1.copy()"
   ]
  },
  {
   "cell_type": "code",
   "execution_count": null,
   "id": "2cfe65fd",
   "metadata": {},
   "outputs": [],
   "source": [
    "process"
   ]
  },
  {
   "cell_type": "code",
   "execution_count": null,
   "id": "9dba97df",
   "metadata": {
    "scrolled": false
   },
   "outputs": [],
   "source": [
    "process.target.value_counts()"
   ]
  },
  {
   "cell_type": "code",
   "execution_count": null,
   "id": "47ba3a67",
   "metadata": {},
   "outputs": [],
   "source": [
    "X_for_generate = process.query(\"target == 1\").iloc[:,:-1].values\n",
    "X_non_default = process.query('target == 0').iloc[:,:-1].values\n",
    "X_for_generate = torch.tensor(X_for_generate).type(torch.FloatTensor)\n",
    "\n",
    "n_generate = X_non_default.shape[0] - X_for_generate.shape[0]"
   ]
  },
  {
   "cell_type": "code",
   "execution_count": null,
   "id": "5ff7e50c",
   "metadata": {},
   "outputs": [],
   "source": [
    "n_generate"
   ]
  },
  {
   "cell_type": "code",
   "execution_count": null,
   "id": "2656be01",
   "metadata": {},
   "outputs": [],
   "source": [
    "BATCH_SIZE = 50\n",
    "LR_G = 0.0001           \n",
    "LR_D = 0.0001           \n",
    "N_IDEAS = 20            # Initial idea for G generator (random inspiration)\n",
    "\n",
    "\n",
    "G = nn.Sequential(                      # generator\n",
    "    nn.Linear(N_IDEAS, 128),            \n",
    "    nn.ReLU(),\n",
    "    nn.Linear(128, 44),     \n",
    ")\n",
    "\n",
    "\n",
    "D = nn.Sequential(                      # discriminator\n",
    "    nn.Linear(44, 128),     \n",
    "    nn.ReLU(),\n",
    "    nn.Linear(128, 1),\n",
    "    nn.Sigmoid(),                       # 0-1\n",
    ")\n",
    "\n",
    "# optimizator\n",
    "opt_D = torch.optim.Adam(D.parameters(),lr=LR_D)\n",
    "opt_G = torch.optim.Adam(G.parameters(),lr=LR_G)\n"
   ]
  },
  {
   "cell_type": "code",
   "execution_count": null,
   "id": "9eaf8d89",
   "metadata": {},
   "outputs": [],
   "source": [
    "# GAN\n",
    "for step in range(3000):\n",
    "    # Randomly select BATCH real samples with label 1\n",
    "    chosen_data = np.random.choice((X_for_generate.shape[0]),size=(BATCH_SIZE),replace=False)\n",
    "    artist_paintings = X_for_generate[chosen_data,:]\n",
    "    # Generate fake samples using generators\n",
    "    G_ideas = torch.randn(BATCH_SIZE, N_IDEAS, requires_grad=True)           \n",
    "    G_paintings = G(G_ideas)                  \n",
    "    \n",
    "    prob_artist1 = D(G_paintings)               \n",
    "    # loss\n",
    "    G_loss = torch.mean(torch.log(1. - prob_artist1))\n",
    "    opt_G.zero_grad()\n",
    "    G_loss.backward()\n",
    "    opt_G.step()\n",
    "    \n",
    "    prob_artist0 = D(artist_paintings)\n",
    "    prob_artist1 = D(G_paintings.detach())\n",
    "    # loss\n",
    "    D_loss = - torch.mean(torch.log(prob_artist0) + torch.log(1. - prob_artist1))\n",
    "    opt_D.zero_grad()\n",
    "    D_loss.backward(retain_graph=True)\n",
    "    opt_D.step()"
   ]
  },
  {
   "cell_type": "code",
   "execution_count": null,
   "id": "72bb9777",
   "metadata": {},
   "outputs": [],
   "source": [
    "#GAN fake data\n",
    "fake_data = G(torch.randn(n_generate,N_IDEAS)).detach().numpy()\n",
    "\n",
    "X_default = pd.DataFrame(np.concatenate([X_for_generate,fake_data]))\n",
    "X_default['target'] = 1\n",
    "\n",
    "X_non_default = pd.DataFrame(X_non_default)\n",
    "X_non_default['target'] = 0\n",
    "train_data_gan = pd.concat([X_default,X_non_default])\n",
    "\n",
    "X_gan = train_data_gan.iloc[:,:-1]\n",
    "y_gan = train_data_gan.iloc[:,-1]\n",
    "\n",
    "print(X_gan.shape,y_gan.shape)"
   ]
  },
  {
   "cell_type": "code",
   "execution_count": null,
   "id": "bc9bc227",
   "metadata": {
    "scrolled": true
   },
   "outputs": [],
   "source": [
    "X_gan"
   ]
  },
  {
   "cell_type": "code",
   "execution_count": null,
   "id": "e2929c3f",
   "metadata": {},
   "outputs": [],
   "source": [
    "Y_gan.value_counts()"
   ]
  },
  {
   "cell_type": "markdown",
   "id": "72f375f2",
   "metadata": {},
   "source": [
    "### Modelling"
   ]
  },
  {
   "cell_type": "code",
   "execution_count": null,
   "id": "7b47a1b9",
   "metadata": {},
   "outputs": [],
   "source": [
    "#X_train,X_test,y_train,y_test = train_test_split(X,y,test_size=0.2,random_state=7)"
   ]
  },
  {
   "cell_type": "code",
   "execution_count": null,
   "id": "2756b3b8",
   "metadata": {},
   "outputs": [],
   "source": [
    "# selection of algorithms to consider and set performance measure\n",
    "models = []\n",
    "models.append(('Logistic Regression', LogisticRegression()))\n",
    "models.append(('Random Forest', RandomForestClassifier()))\n",
    "models.append(('SVM', svm.SVC(probability=True)))\n",
    "models.append(('KNN', KNeighborsClassifier()))\n",
    "models.append(('Decision Tree Classifier',DecisionTreeClassifier()))\n",
    "models.append(('Gaussian NB', GaussianNB()))\n",
    "models.append(('Adaboost', AdaBoostClassifier()))\n",
    "models.append((\"Gradientboost\", GradientBoostingClassifier()))\n",
    "models.append((\"BaggingClassifier\", BaggingClassifier()))\n",
    "models.append((\"ExtremeGradientBoost\", XGBClassifier()))\n",
    "models.append((\"ExtraTreesClassifier\", ExtraTreesClassifier()))"
   ]
  },
  {
   "cell_type": "code",
   "execution_count": null,
   "id": "7dfe5563",
   "metadata": {},
   "outputs": [],
   "source": [
    "train_acc_results = []\n",
    "test_acc_results = []\n",
    "#roc_auc_score = []\n",
    "names = []\n",
    "\n",
    "# set table to table to populate with performance results\n",
    "col = ['Algorithm','Train Accuracy Mean', 'Test Accuracy', \"Test ROC Score\"]\n",
    "df_results = pd.DataFrame(columns=col)\n",
    "i = 0\n",
    "# evaluate each model using cross-validation\n",
    "for name, model in models:\n",
    "    kfold = KFold(n_splits=10)  # 10-fold cross-validation\n",
    "\n",
    "    # cv accuracy scoring\n",
    "    cv_acc_results = cross_val_score(model, X_train, y_train, cv=kfold, scoring='accuracy')\n",
    "    train_acc_results.append(cv_acc_results)\n",
    "    \n",
    "    #test accuracy scoring\n",
    "    model.fit(X_train,y_train)\n",
    "    pred = model.predict(X_test)\n",
    "    test_accuracy = accuracy_score(y_test, pred)\n",
    "    test_acc_results.append(test_accuracy)\n",
    "    \n",
    "    #roc auc score\n",
    "    roc = roc_auc_score(y_test,model.predict_proba(X_test)[:,1])\n",
    "    #roc_auc_score.append(roc_auc_score(y_test,model.predict_proba(X_test)[:,1]))\n",
    "    \n",
    "    names.append(name)\n",
    "    df_results.loc[i] = [name, round(cv_acc_results.mean()*100, 2), round(test_accuracy*100,2), roc]\n",
    "    \n",
    "    i += 1"
   ]
  },
  {
   "cell_type": "code",
   "execution_count": null,
   "id": "1f6f369d",
   "metadata": {},
   "outputs": [],
   "source": [
    "df_results.sort_values(by=['Test Accuracy'], ascending=False)"
   ]
  },
  {
   "cell_type": "code",
   "execution_count": null,
   "id": "e74f1266",
   "metadata": {},
   "outputs": [],
   "source": [
    "train_acc_results = []\n",
    "test_acc_results = []\n",
    "#roc_auc_score = []\n",
    "names = []\n",
    "\n",
    "# set table to table to populate with performance results\n",
    "col = ['Algorithm','Train Accuracy Mean', 'Test Accuracy', \"Test ROC Score\"]\n",
    "df_results = pd.DataFrame(columns=col)\n",
    "i = 0\n",
    "# evaluate each model using cross-validation\n",
    "for name, model in models:\n",
    "    kfold = KFold(n_splits=10)  # 10-fold cross-validation\n",
    "\n",
    "    # cv accuracy scoring\n",
    "    cv_acc_results = cross_val_score(model, X_gan, y_gan, cv=kfold, scoring='accuracy')\n",
    "    train_acc_results.append(cv_acc_results)\n",
    "    \n",
    "    #test accuracy scoring\n",
    "    model.fit(X_train,y_train)\n",
    "    pred = model.predict(X_test)\n",
    "    test_accuracy = accuracy_score(y_test, pred)\n",
    "    test_acc_results.append(test_accuracy)\n",
    "    \n",
    "    #roc auc score\n",
    "    roc = roc_auc_score(y_test,model.predict_proba(X_test)[:,1])\n",
    "    #roc_auc_score.append(roc_auc_score(y_test,model.predict_proba(X_test)[:,1]))\n",
    "    \n",
    "    names.append(name)\n",
    "    df_results.loc[i] = [name, round(cv_acc_results.mean()*100, 2), round(test_accuracy*100,2), roc]\n",
    "    \n",
    "    i += 1"
   ]
  },
  {
   "cell_type": "code",
   "execution_count": null,
   "id": "01176f48",
   "metadata": {},
   "outputs": [],
   "source": [
    "df_results.sort_values(by=['Test Accuracy'], ascending=False)"
   ]
  },
  {
   "cell_type": "code",
   "execution_count": null,
   "id": "3e8f8e5a",
   "metadata": {},
   "outputs": [],
   "source": []
  },
  {
   "cell_type": "code",
   "execution_count": null,
   "id": "0ff8a9f4",
   "metadata": {},
   "outputs": [],
   "source": []
  },
  {
   "cell_type": "code",
   "execution_count": null,
   "id": "83ac9a33",
   "metadata": {},
   "outputs": [],
   "source": []
  },
  {
   "cell_type": "markdown",
   "id": "d46a3372",
   "metadata": {},
   "source": [
    "## Performance"
   ]
  },
  {
   "cell_type": "code",
   "execution_count": null,
   "id": "171c961b",
   "metadata": {},
   "outputs": [],
   "source": [
    "#To evakuate performances of all the models\n",
    "def performance(p,ytest,m,xtest):\n",
    "    print('Accuracy',np.round(accuracy_score(p,ytest),4))\n",
    "    print('AUC_ROC Score',np.round(roc_auc_score(ytest,m.predict_proba(xtest)[:,1]),4))\n",
    "    print('Confusion Matrix')\n",
    "    print(confusion_matrix(p,ytest))\n",
    "    print('Classification Report:')\n",
    "    print(classification_report(p,ytest))"
   ]
  },
  {
   "cell_type": "markdown",
   "id": "93dfc82c",
   "metadata": {},
   "source": [
    "## Random Forest"
   ]
  },
  {
   "cell_type": "code",
   "execution_count": null,
   "id": "4f2637eb",
   "metadata": {},
   "outputs": [],
   "source": [
    "params={'n_estimators':[100, 200, 300, 400, 500],\n",
    "            'criterion':['gini','entropy'],\n",
    "            'max_depth':[None,1,2,3,4,5,6,7,8,9,10],\n",
    "           'max_features':[\"sqrt\", \"log2\", None]}"
   ]
  },
  {
   "cell_type": "code",
   "execution_count": null,
   "id": "71025b0e",
   "metadata": {},
   "outputs": [],
   "source": [
    "g=GridSearchCV(RandomForestClassifier(),params,cv=5)"
   ]
  },
  {
   "cell_type": "code",
   "execution_count": null,
   "id": "34db8e27",
   "metadata": {},
   "outputs": [],
   "source": [
    "g.fit(X_train, y_train)"
   ]
  },
  {
   "cell_type": "code",
   "execution_count": null,
   "id": "a9af32c5",
   "metadata": {},
   "outputs": [],
   "source": [
    "print(f'Best Params: {g.best_params_}')\n",
    "print(f'Best Estimator: {g.best_estimator_}')\n",
    "print(f'Best Score: {g.best_score_}')"
   ]
  },
  {
   "cell_type": "code",
   "execution_count": null,
   "id": "9788ce64",
   "metadata": {},
   "outputs": [],
   "source": [
    "m=RandomForestClassifier(max_features='log2', n_estimators=500)\n",
    "m.fit(X_train,y_train)\n",
    "prediction=m.predict(X_test)"
   ]
  },
  {
   "cell_type": "code",
   "execution_count": null,
   "id": "02a9e572",
   "metadata": {},
   "outputs": [],
   "source": [
    "performance(prediction,y_test,m,X_test)"
   ]
  },
  {
   "cell_type": "markdown",
   "id": "70ec9ba3",
   "metadata": {},
   "source": [
    "## Gradient Boosting"
   ]
  },
  {
   "cell_type": "code",
   "execution_count": null,
   "id": "16c5b815",
   "metadata": {},
   "outputs": [],
   "source": [
    "params={'n_estimators':[100,200,300,400,500],\n",
    "      'learning_rate':[0.001,0.01,0.10,],\n",
    "      'subsample':[0.5,1],\n",
    "      'max_depth':[1,2,3,4,5,6,7,8,9,10]}"
   ]
  },
  {
   "cell_type": "code",
   "execution_count": null,
   "id": "75e45ead",
   "metadata": {},
   "outputs": [],
   "source": [
    "g=GridSearchCV(GradientBoostingClassifier(),params,cv=5)"
   ]
  },
  {
   "cell_type": "code",
   "execution_count": null,
   "id": "eca72be3",
   "metadata": {},
   "outputs": [],
   "source": [
    "g.fit(xtrain,ytrain)"
   ]
  },
  {
   "cell_type": "code",
   "execution_count": null,
   "id": "3d9a53f9",
   "metadata": {},
   "outputs": [],
   "source": [
    "print(f'Best Params: {g.best_params_}')\n",
    "print(f'Best Estimator: {g.best_estimator_}')\n",
    "print(f'Best Score: {g.best_score_}')"
   ]
  },
  {
   "cell_type": "code",
   "execution_count": null,
   "id": "521adf96",
   "metadata": {},
   "outputs": [],
   "source": []
  },
  {
   "cell_type": "code",
   "execution_count": null,
   "id": "8394917d",
   "metadata": {},
   "outputs": [],
   "source": []
  },
  {
   "cell_type": "code",
   "execution_count": null,
   "id": "0e6a3688",
   "metadata": {},
   "outputs": [],
   "source": [
    "fitted_models = {}\n",
    "for name, pipeline in pipelines.items():\n",
    "    model = GridSearchCV(pipeline, \n",
    "                         hyperparameters[name], \n",
    "                         cv=10, \n",
    "                         n_jobs=-1, scoring=\"accuracy\")\n",
    "    \n",
    "    model.fit(X_train, y_train)\n",
    "    \n",
    "    print(f'{name}: {model.best_estimator_}')\n",
    "    print(f'{name}: {model.best_params_}')\n",
    "    print(f'{name}: {model.best_score_}')\n",
    "    print(\"\\n\")\n",
    "    \n",
    "    \n",
    "    fitted_models[name] = model"
   ]
  },
  {
   "cell_type": "code",
   "execution_count": null,
   "id": "2b197147",
   "metadata": {},
   "outputs": [],
   "source": [
    "for name, model in fitted_models.items():\n",
    "    print('Results for:', name)\n",
    "    \n",
    "    # obtain predictions\n",
    "    pred = fitted_models[name].predict(X_test)\n",
    "\n",
    "    # accuracy score\n",
    "    print('Accuracy:', accuracy_score(y_test, pred))\n",
    "    \n",
    "    # precision\n",
    "    precision = cm[1][1]/(cm[0][1]+cm[1][1])\n",
    "    print('Precision:', precision)\n",
    "    \n",
    "    # recall\n",
    "    recall = cm[1][1]/(cm[1][0]+cm[1][1])\n",
    "    print('Recall:', recall)\n",
    "    print(\"\\n\")"
   ]
  },
  {
   "cell_type": "code",
   "execution_count": null,
   "id": "452a4271",
   "metadata": {},
   "outputs": [],
   "source": []
  }
 ],
 "metadata": {
  "kernelspec": {
   "display_name": "Python 3.9.12 ('base')",
   "language": "python",
   "name": "python3"
  },
  "language_info": {
   "codemirror_mode": {
    "name": "ipython",
    "version": 3
   },
   "file_extension": ".py",
   "mimetype": "text/x-python",
   "name": "python",
   "nbconvert_exporter": "python",
   "pygments_lexer": "ipython3",
   "version": "3.9.12"
  },
  "vscode": {
   "interpreter": {
    "hash": "ff0d67e8723c3355c9363b397586d133f46be37837c0820aefb71ad8c42fdb78"
   }
  }
 },
 "nbformat": 4,
 "nbformat_minor": 5
}
