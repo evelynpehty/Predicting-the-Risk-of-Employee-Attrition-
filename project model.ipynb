{
 "cells": [
  {
   "cell_type": "code",
   "execution_count": 10,
   "id": "dc853a11",
   "metadata": {},
   "outputs": [],
   "source": [
    "import pandas as pd\n",
    "import numpy as np\n",
    "import matplotlib.pyplot as plt\n",
    "import seaborn as sns\n",
    "\n",
    "from sklearn.model_selection import train_test_split\n",
    "from sklearn.model_selection import GridSearchCV\n",
    "from sklearn.model_selection import cross_val_score\n",
    "from sklearn.model_selection import KFold\n",
    "\n",
    "from sklearn.metrics import confusion_matrix\n",
    "from sklearn.metrics import classification_report\n",
    "from sklearn.metrics import accuracy_score\n",
    "from sklearn.metrics import roc_auc_score\n",
    "from sklearn.metrics import roc_curve\n",
    "\n",
    "from sklearn.preprocessing import LabelEncoder, OneHotEncoder\n",
    "from sklearn.pipeline import make_pipeline\n",
    "\n",
    "#model\n",
    "from sklearn import svm\n",
    "from sklearn import tree\n",
    "from sklearn.linear_model import LogisticRegression\n",
    "from sklearn.tree import DecisionTreeClassifier\n",
    "from sklearn.ensemble import RandomForestClassifier\n",
    "from sklearn.naive_bayes import GaussianNB\n",
    "from sklearn.neighbors import KNeighborsClassifier\n",
    "from sklearn.ensemble import BaggingClassifier\n",
    "from sklearn.ensemble import AdaBoostClassifier\n",
    "from sklearn.ensemble import GradientBoostingClassifier\n",
    "\n",
    "from sklearn.svm import SVC\n",
    "from sklearn.linear_model import LogisticRegression\n",
    "from xgboost import XGBClassifier # pip install xgboost\n",
    "\n",
    "from imblearn.over_sampling import SMOTE # !pip install imblearn\n",
    "\n",
    "#Using zscore method to remove outliers\n",
    "from scipy.stats import zscore"
   ]
  },
  {
   "cell_type": "code",
   "execution_count": 16,
   "id": "306ca9d2",
   "metadata": {},
   "outputs": [
    {
     "data": {
      "text/plain": [
       "(1470, 35)"
      ]
     },
     "execution_count": 16,
     "metadata": {},
     "output_type": "execute_result"
    }
   ],
   "source": [
    "df = pd.read_csv(\"dataset.csv\")\n",
    "df.shape"
   ]
  },
  {
   "cell_type": "code",
   "execution_count": 17,
   "id": "4ff93ea3",
   "metadata": {},
   "outputs": [
    {
     "name": "stdout",
     "output_type": "stream",
     "text": [
      "<class 'pandas.core.frame.DataFrame'>\n",
      "RangeIndex: 1470 entries, 0 to 1469\n",
      "Data columns (total 35 columns):\n",
      " #   Column                    Non-Null Count  Dtype \n",
      "---  ------                    --------------  ----- \n",
      " 0   Age                       1470 non-null   int64 \n",
      " 1   Attrition                 1470 non-null   object\n",
      " 2   BusinessTravel            1470 non-null   object\n",
      " 3   DailyRate                 1470 non-null   int64 \n",
      " 4   Department                1470 non-null   object\n",
      " 5   DistanceFromHome          1470 non-null   int64 \n",
      " 6   Education                 1470 non-null   int64 \n",
      " 7   EducationField            1470 non-null   object\n",
      " 8   EmployeeCount             1470 non-null   int64 \n",
      " 9   EmployeeNumber            1470 non-null   int64 \n",
      " 10  EnvironmentSatisfaction   1470 non-null   int64 \n",
      " 11  Gender                    1470 non-null   object\n",
      " 12  HourlyRate                1470 non-null   int64 \n",
      " 13  JobInvolvement            1470 non-null   int64 \n",
      " 14  JobLevel                  1470 non-null   int64 \n",
      " 15  JobRole                   1470 non-null   object\n",
      " 16  JobSatisfaction           1470 non-null   int64 \n",
      " 17  MaritalStatus             1470 non-null   object\n",
      " 18  MonthlyIncome             1470 non-null   int64 \n",
      " 19  MonthlyRate               1470 non-null   int64 \n",
      " 20  NumCompaniesWorked        1470 non-null   int64 \n",
      " 21  Over18                    1470 non-null   object\n",
      " 22  OverTime                  1470 non-null   object\n",
      " 23  PercentSalaryHike         1470 non-null   int64 \n",
      " 24  PerformanceRating         1470 non-null   int64 \n",
      " 25  RelationshipSatisfaction  1470 non-null   int64 \n",
      " 26  StandardHours             1470 non-null   int64 \n",
      " 27  StockOptionLevel          1470 non-null   int64 \n",
      " 28  TotalWorkingYears         1470 non-null   int64 \n",
      " 29  TrainingTimesLastYear     1470 non-null   int64 \n",
      " 30  WorkLifeBalance           1470 non-null   int64 \n",
      " 31  YearsAtCompany            1470 non-null   int64 \n",
      " 32  YearsInCurrentRole        1470 non-null   int64 \n",
      " 33  YearsSinceLastPromotion   1470 non-null   int64 \n",
      " 34  YearsWithCurrManager      1470 non-null   int64 \n",
      "dtypes: int64(26), object(9)\n",
      "memory usage: 402.1+ KB\n"
     ]
    }
   ],
   "source": [
    "df.info()"
   ]
  },
  {
   "cell_type": "code",
   "execution_count": 18,
   "id": "e4b7e77c",
   "metadata": {},
   "outputs": [
    {
     "data": {
      "text/html": [
       "<div>\n",
       "<style scoped>\n",
       "    .dataframe tbody tr th:only-of-type {\n",
       "        vertical-align: middle;\n",
       "    }\n",
       "\n",
       "    .dataframe tbody tr th {\n",
       "        vertical-align: top;\n",
       "    }\n",
       "\n",
       "    .dataframe thead th {\n",
       "        text-align: right;\n",
       "    }\n",
       "</style>\n",
       "<table border=\"1\" class=\"dataframe\">\n",
       "  <thead>\n",
       "    <tr style=\"text-align: right;\">\n",
       "      <th></th>\n",
       "      <th>Age</th>\n",
       "      <th>Attrition</th>\n",
       "      <th>BusinessTravel</th>\n",
       "      <th>DailyRate</th>\n",
       "      <th>Department</th>\n",
       "      <th>DistanceFromHome</th>\n",
       "      <th>Education</th>\n",
       "      <th>EducationField</th>\n",
       "      <th>EmployeeCount</th>\n",
       "      <th>EmployeeNumber</th>\n",
       "      <th>...</th>\n",
       "      <th>RelationshipSatisfaction</th>\n",
       "      <th>StandardHours</th>\n",
       "      <th>StockOptionLevel</th>\n",
       "      <th>TotalWorkingYears</th>\n",
       "      <th>TrainingTimesLastYear</th>\n",
       "      <th>WorkLifeBalance</th>\n",
       "      <th>YearsAtCompany</th>\n",
       "      <th>YearsInCurrentRole</th>\n",
       "      <th>YearsSinceLastPromotion</th>\n",
       "      <th>YearsWithCurrManager</th>\n",
       "    </tr>\n",
       "  </thead>\n",
       "  <tbody>\n",
       "    <tr>\n",
       "      <th>0</th>\n",
       "      <td>41</td>\n",
       "      <td>Yes</td>\n",
       "      <td>Travel_Rarely</td>\n",
       "      <td>1102</td>\n",
       "      <td>Sales</td>\n",
       "      <td>1</td>\n",
       "      <td>2</td>\n",
       "      <td>Life Sciences</td>\n",
       "      <td>1</td>\n",
       "      <td>1</td>\n",
       "      <td>...</td>\n",
       "      <td>1</td>\n",
       "      <td>80</td>\n",
       "      <td>0</td>\n",
       "      <td>8</td>\n",
       "      <td>0</td>\n",
       "      <td>1</td>\n",
       "      <td>6</td>\n",
       "      <td>4</td>\n",
       "      <td>0</td>\n",
       "      <td>5</td>\n",
       "    </tr>\n",
       "    <tr>\n",
       "      <th>1</th>\n",
       "      <td>49</td>\n",
       "      <td>No</td>\n",
       "      <td>Travel_Frequently</td>\n",
       "      <td>279</td>\n",
       "      <td>Research &amp; Development</td>\n",
       "      <td>8</td>\n",
       "      <td>1</td>\n",
       "      <td>Life Sciences</td>\n",
       "      <td>1</td>\n",
       "      <td>2</td>\n",
       "      <td>...</td>\n",
       "      <td>4</td>\n",
       "      <td>80</td>\n",
       "      <td>1</td>\n",
       "      <td>10</td>\n",
       "      <td>3</td>\n",
       "      <td>3</td>\n",
       "      <td>10</td>\n",
       "      <td>7</td>\n",
       "      <td>1</td>\n",
       "      <td>7</td>\n",
       "    </tr>\n",
       "    <tr>\n",
       "      <th>2</th>\n",
       "      <td>37</td>\n",
       "      <td>Yes</td>\n",
       "      <td>Travel_Rarely</td>\n",
       "      <td>1373</td>\n",
       "      <td>Research &amp; Development</td>\n",
       "      <td>2</td>\n",
       "      <td>2</td>\n",
       "      <td>Other</td>\n",
       "      <td>1</td>\n",
       "      <td>4</td>\n",
       "      <td>...</td>\n",
       "      <td>2</td>\n",
       "      <td>80</td>\n",
       "      <td>0</td>\n",
       "      <td>7</td>\n",
       "      <td>3</td>\n",
       "      <td>3</td>\n",
       "      <td>0</td>\n",
       "      <td>0</td>\n",
       "      <td>0</td>\n",
       "      <td>0</td>\n",
       "    </tr>\n",
       "    <tr>\n",
       "      <th>3</th>\n",
       "      <td>33</td>\n",
       "      <td>No</td>\n",
       "      <td>Travel_Frequently</td>\n",
       "      <td>1392</td>\n",
       "      <td>Research &amp; Development</td>\n",
       "      <td>3</td>\n",
       "      <td>4</td>\n",
       "      <td>Life Sciences</td>\n",
       "      <td>1</td>\n",
       "      <td>5</td>\n",
       "      <td>...</td>\n",
       "      <td>3</td>\n",
       "      <td>80</td>\n",
       "      <td>0</td>\n",
       "      <td>8</td>\n",
       "      <td>3</td>\n",
       "      <td>3</td>\n",
       "      <td>8</td>\n",
       "      <td>7</td>\n",
       "      <td>3</td>\n",
       "      <td>0</td>\n",
       "    </tr>\n",
       "    <tr>\n",
       "      <th>4</th>\n",
       "      <td>27</td>\n",
       "      <td>No</td>\n",
       "      <td>Travel_Rarely</td>\n",
       "      <td>591</td>\n",
       "      <td>Research &amp; Development</td>\n",
       "      <td>2</td>\n",
       "      <td>1</td>\n",
       "      <td>Medical</td>\n",
       "      <td>1</td>\n",
       "      <td>7</td>\n",
       "      <td>...</td>\n",
       "      <td>4</td>\n",
       "      <td>80</td>\n",
       "      <td>1</td>\n",
       "      <td>6</td>\n",
       "      <td>3</td>\n",
       "      <td>3</td>\n",
       "      <td>2</td>\n",
       "      <td>2</td>\n",
       "      <td>2</td>\n",
       "      <td>2</td>\n",
       "    </tr>\n",
       "  </tbody>\n",
       "</table>\n",
       "<p>5 rows × 35 columns</p>\n",
       "</div>"
      ],
      "text/plain": [
       "   Age Attrition     BusinessTravel  DailyRate              Department  \\\n",
       "0   41       Yes      Travel_Rarely       1102                   Sales   \n",
       "1   49        No  Travel_Frequently        279  Research & Development   \n",
       "2   37       Yes      Travel_Rarely       1373  Research & Development   \n",
       "3   33        No  Travel_Frequently       1392  Research & Development   \n",
       "4   27        No      Travel_Rarely        591  Research & Development   \n",
       "\n",
       "   DistanceFromHome  Education EducationField  EmployeeCount  EmployeeNumber  \\\n",
       "0                 1          2  Life Sciences              1               1   \n",
       "1                 8          1  Life Sciences              1               2   \n",
       "2                 2          2          Other              1               4   \n",
       "3                 3          4  Life Sciences              1               5   \n",
       "4                 2          1        Medical              1               7   \n",
       "\n",
       "   ...  RelationshipSatisfaction StandardHours  StockOptionLevel  \\\n",
       "0  ...                         1            80                 0   \n",
       "1  ...                         4            80                 1   \n",
       "2  ...                         2            80                 0   \n",
       "3  ...                         3            80                 0   \n",
       "4  ...                         4            80                 1   \n",
       "\n",
       "   TotalWorkingYears  TrainingTimesLastYear WorkLifeBalance  YearsAtCompany  \\\n",
       "0                  8                      0               1               6   \n",
       "1                 10                      3               3              10   \n",
       "2                  7                      3               3               0   \n",
       "3                  8                      3               3               8   \n",
       "4                  6                      3               3               2   \n",
       "\n",
       "  YearsInCurrentRole  YearsSinceLastPromotion  YearsWithCurrManager  \n",
       "0                  4                        0                     5  \n",
       "1                  7                        1                     7  \n",
       "2                  0                        0                     0  \n",
       "3                  7                        3                     0  \n",
       "4                  2                        2                     2  \n",
       "\n",
       "[5 rows x 35 columns]"
      ]
     },
     "execution_count": 18,
     "metadata": {},
     "output_type": "execute_result"
    }
   ],
   "source": [
    "df.head()"
   ]
  },
  {
   "cell_type": "code",
   "execution_count": 22,
   "id": "76a6026c",
   "metadata": {},
   "outputs": [
    {
     "data": {
      "text/plain": [
       "Age                         0\n",
       "Attrition                   0\n",
       "BusinessTravel              0\n",
       "DailyRate                   0\n",
       "Department                  0\n",
       "DistanceFromHome            0\n",
       "Education                   0\n",
       "EducationField              0\n",
       "EmployeeCount               0\n",
       "EmployeeNumber              0\n",
       "EnvironmentSatisfaction     0\n",
       "Gender                      0\n",
       "HourlyRate                  0\n",
       "JobInvolvement              0\n",
       "JobLevel                    0\n",
       "JobRole                     0\n",
       "JobSatisfaction             0\n",
       "MaritalStatus               0\n",
       "MonthlyIncome               0\n",
       "MonthlyRate                 0\n",
       "NumCompaniesWorked          0\n",
       "Over18                      0\n",
       "OverTime                    0\n",
       "PercentSalaryHike           0\n",
       "PerformanceRating           0\n",
       "RelationshipSatisfaction    0\n",
       "StandardHours               0\n",
       "StockOptionLevel            0\n",
       "TotalWorkingYears           0\n",
       "TrainingTimesLastYear       0\n",
       "WorkLifeBalance             0\n",
       "YearsAtCompany              0\n",
       "YearsInCurrentRole          0\n",
       "YearsSinceLastPromotion     0\n",
       "YearsWithCurrManager        0\n",
       "dtype: int64"
      ]
     },
     "execution_count": 22,
     "metadata": {},
     "output_type": "execute_result"
    }
   ],
   "source": [
    "df.isnull().sum()"
   ]
  },
  {
   "cell_type": "markdown",
   "id": "087ff870",
   "metadata": {},
   "source": [
    "## Exploratory Data Analysis"
   ]
  },
  {
   "cell_type": "markdown",
   "id": "190cd162",
   "metadata": {},
   "source": [
    "Difference between monthly rate and monthly income - https://www.kaggle.com/datasets/pavansubhasht/ibm-hr-analytics-attrition-dataset/discussion/139552\n",
    "- shortanswer: monthly rate is internal calculation, monthly income is what employee actually receive"
   ]
  },
  {
   "cell_type": "code",
   "execution_count": null,
   "id": "2d7428f9",
   "metadata": {},
   "outputs": [],
   "source": []
  },
  {
   "cell_type": "code",
   "execution_count": null,
   "id": "92dbe900",
   "metadata": {},
   "outputs": [],
   "source": []
  },
  {
   "cell_type": "code",
   "execution_count": null,
   "id": "fa365f44",
   "metadata": {},
   "outputs": [],
   "source": []
  },
  {
   "cell_type": "code",
   "execution_count": null,
   "id": "f62f716e",
   "metadata": {},
   "outputs": [],
   "source": []
  },
  {
   "cell_type": "markdown",
   "id": "4ca61862",
   "metadata": {},
   "source": [
    "# Feature Engineering"
   ]
  },
  {
   "cell_type": "markdown",
   "id": "1882d992",
   "metadata": {},
   "source": [
    "<mark> Dropping columns constant and identifier columns. </mark>"
   ]
  },
  {
   "cell_type": "code",
   "execution_count": 14,
   "id": "f70af3f1",
   "metadata": {},
   "outputs": [],
   "source": [
    "df.drop(columns=[\"StandardHours\", \"EmployeeNumber\", \"EmployeeCount\",\"Over18\"], inplace=True) \n",
    "#drop because values are the same for all employees, hence, redundanct for accruracy"
   ]
  },
  {
   "cell_type": "markdown",
   "id": "18ab74c3",
   "metadata": {},
   "source": [
    "<mark> Encoding the categorical type data </mark>\n"
   ]
  },
  {
   "cell_type": "code",
   "execution_count": 15,
   "id": "f3197676",
   "metadata": {},
   "outputs": [],
   "source": [
    "# Create a label encoder object\n",
    "le = LabelEncoder()"
   ]
  },
  {
   "cell_type": "code",
   "execution_count": null,
   "id": "133cb758",
   "metadata": {},
   "outputs": [],
   "source": [
    "df[\"Attrition\"] = le.fit_transform(df[\"Attrition\"])"
   ]
  },
  {
   "cell_type": "code",
   "execution_count": null,
   "id": "1444f75b",
   "metadata": {},
   "outputs": [],
   "source": [
    "le_count = 0\n",
    "for col in df.columns[1:]:\n",
    "    if df[col].dtype == 'object':\n",
    "        if len(list(df[col].unique())) <= 2:\n",
    "            le.fit(df[col])\n",
    "            df[col] = le.transform(df[col])\n",
    "            le_count += 1\n",
    "print('{} columns were label encoded.'.format(le_count))"
   ]
  },
  {
   "cell_type": "code",
   "execution_count": null,
   "id": "f651bfd1",
   "metadata": {},
   "outputs": [],
   "source": [
    "# convert rest of categorical variable into dummy\n",
    "df = pd.get_dummies(df, drop_first=True)"
   ]
  },
  {
   "cell_type": "code",
   "execution_count": null,
   "id": "6909a4d8",
   "metadata": {},
   "outputs": [],
   "source": [
    "df.shape"
   ]
  },
  {
   "cell_type": "markdown",
   "id": "7bd85bdc",
   "metadata": {},
   "source": [
    "<mark>Handling imbalance data</mark>"
   ]
  },
  {
   "cell_type": "code",
   "execution_count": null,
   "id": "59f0878e",
   "metadata": {},
   "outputs": [],
   "source": [
    "over=SMOTE()"
   ]
  },
  {
   "cell_type": "code",
   "execution_count": null,
   "id": "5852ca86",
   "metadata": {},
   "outputs": [],
   "source": [
    "X = df.loc[:, df.columns != 'Attrition']"
   ]
  },
  {
   "cell_type": "code",
   "execution_count": null,
   "id": "fc17ff40",
   "metadata": {},
   "outputs": [],
   "source": [
    "y = df[\"Attrition\"]"
   ]
  },
  {
   "cell_type": "code",
   "execution_count": null,
   "id": "217b46f2",
   "metadata": {},
   "outputs": [],
   "source": [
    "X,y=over.fit_resample(X,y)"
   ]
  },
  {
   "cell_type": "code",
   "execution_count": null,
   "id": "c0d6203f",
   "metadata": {
    "scrolled": true
   },
   "outputs": [],
   "source": [
    "plt.figure(figsize=(15,5))\n",
    "plt.subplot(1,2,1)\n",
    "y.value_counts().plot.pie(autopct='%1.1f%%')\n",
    "plt.subplot(1,2,2)\n",
    "sns.countplot(y)\n",
    "y.value_counts()"
   ]
  },
  {
   "cell_type": "markdown",
   "id": "92b6bfd5",
   "metadata": {},
   "source": [
    "<mark>scaling the data</mark>"
   ]
  },
  {
   "cell_type": "code",
   "execution_count": null,
   "id": "bb8adddf",
   "metadata": {},
   "outputs": [],
   "source": [
    "#Scaling the data using min max scaler\n",
    "from sklearn.preprocessing import MinMaxScaler\n",
    "scaler=MinMaxScaler()"
   ]
  },
  {
   "cell_type": "code",
   "execution_count": null,
   "id": "0405248d",
   "metadata": {},
   "outputs": [],
   "source": [
    "xd=scaler.fit_transform(X)\n",
    "X=pd.DataFrame(xd,columns=X.columns)"
   ]
  },
  {
   "cell_type": "markdown",
   "id": "72f375f2",
   "metadata": {},
   "source": [
    "# Modelling"
   ]
  },
  {
   "cell_type": "code",
   "execution_count": null,
   "id": "7b47a1b9",
   "metadata": {},
   "outputs": [],
   "source": [
    "X_train,X_test,y_train,y_test = train_test_split(X,y,test_size=0.2,random_state=7)"
   ]
  },
  {
   "cell_type": "code",
   "execution_count": null,
   "id": "2756b3b8",
   "metadata": {},
   "outputs": [],
   "source": [
    "# selection of algorithms to consider and set performance measure\n",
    "models = []\n",
    "models.append(('Logistic Regression', LogisticRegression()))\n",
    "models.append(('Random Forest', RandomForestClassifier()))\n",
    "models.append(('SVM', svm.SVC(probability=True)))\n",
    "models.append(('KNN', KNeighborsClassifier()))\n",
    "models.append(('Decision Tree Classifier',DecisionTreeClassifier()))\n",
    "models.append(('Gaussian NB', GaussianNB()))\n",
    "models.append(('Adaboost', AdaBoostClassifier()))\n",
    "models.append((\"Gradientboost\", GradientBoostingClassifier()))\n",
    "models.append((\"BaggingClassifier\", BaggingClassifier()))\n",
    "models.append((\"ExtremeGradientBoost\", XGBClassifier()))"
   ]
  },
  {
   "cell_type": "code",
   "execution_count": null,
   "id": "7dfe5563",
   "metadata": {
    "scrolled": false
   },
   "outputs": [],
   "source": [
    "train_acc_results = []\n",
    "test_acc_results = []\n",
    "#roc_auc_score = []\n",
    "names = []\n",
    "\n",
    "# set table to table to populate with performance results\n",
    "col = ['Algorithm','Train Accuracy Mean', 'Test Accuracy', \"Test ROC_Score\"]\n",
    "df_results = pd.DataFrame(columns=col)\n",
    "i = 0\n",
    "# evaluate each model using cross-validation\n",
    "for name, model in models:\n",
    "    kfold = KFold(n_splits=10)  # 10-fold cross-validation\n",
    "\n",
    "    # cv accuracy scoring\n",
    "    cv_acc_results = cross_val_score(model, X_train, y_train, cv=kfold, scoring='accuracy')\n",
    "    train_acc_results.append(cv_acc_results)\n",
    "    \n",
    "    #test accuracy scoring\n",
    "    model.fit(X_train,y_train)\n",
    "    pred = model.predict(X_test)\n",
    "    test_accuracy = accuracy_score(y_test, pred)\n",
    "    test_acc_results.append(test_accuracy)\n",
    "    \n",
    "    #roc auc score\n",
    "    roc = roc_auc_score(y_test,model.predict_proba(X_test)[:,1])\n",
    "    #roc_auc_score.append(roc_auc_score(y_test,model.predict_proba(X_test)[:,1]))\n",
    "    \n",
    "    names.append(name)\n",
    "    df_results.loc[i] = [name, round(cv_acc_results.mean()*100, 2), round(test_accuracy*100,2), roc]\n",
    "    \n",
    "    i += 1"
   ]
  },
  {
   "cell_type": "code",
   "execution_count": null,
   "id": "1f6f369d",
   "metadata": {},
   "outputs": [],
   "source": [
    "df_results.sort_values(by=['Test ROC_Score'], ascending=False)"
   ]
  },
  {
   "cell_type": "markdown",
   "id": "5e30e8c6",
   "metadata": {},
   "source": [
    "> Random Forest, Gradient Boost, SVM and Xtreme Gradient Boost are doing a good job. So lets perform Hyperparameter tuning on these models to see which model is performing the best."
   ]
  },
  {
   "cell_type": "markdown",
   "id": "d46a3372",
   "metadata": {},
   "source": [
    "## Performance"
   ]
  },
  {
   "cell_type": "code",
   "execution_count": null,
   "id": "171c961b",
   "metadata": {},
   "outputs": [],
   "source": [
    "#To evakuate performances of all the models\n",
    "def performance(p,ytest,m,xtest):\n",
    "    print('Accuracy',np.round(accuracy_score(p,ytest),4))\n",
    "    print('AUC_ROC Score',np.round(roc_auc_score(ytest,m.predict_proba(xtest)[:,1]),4))\n",
    "    print('Confusion Matrix')\n",
    "    print(confusion_matrix(p,ytest))\n",
    "    print('Classification Report:')\n",
    "    print(classification_report(p,ytest))"
   ]
  },
  {
   "cell_type": "markdown",
   "id": "93dfc82c",
   "metadata": {},
   "source": [
    "## Random Forest"
   ]
  },
  {
   "cell_type": "code",
   "execution_count": null,
   "id": "4f2637eb",
   "metadata": {},
   "outputs": [],
   "source": [
    "params={'n_estimators':[100, 200, 300, 400, 500],\n",
    "            'criterion':['gini','entropy'],\n",
    "            'max_depth':[None,1,2,3,4,5,6,7,8,9,10],\n",
    "           'max_features':[\"sqrt\", \"log2\", None]}"
   ]
  },
  {
   "cell_type": "code",
   "execution_count": null,
   "id": "71025b0e",
   "metadata": {},
   "outputs": [],
   "source": [
    "g=GridSearchCV(RandomForestClassifier(),params,cv=5)"
   ]
  },
  {
   "cell_type": "code",
   "execution_count": null,
   "id": "34db8e27",
   "metadata": {},
   "outputs": [],
   "source": [
    "g.fit(X_train, y_train)"
   ]
  },
  {
   "cell_type": "code",
   "execution_count": null,
   "id": "a9af32c5",
   "metadata": {},
   "outputs": [],
   "source": [
    "print(f'Best Params: {g.best_params_}')\n",
    "print(f'Best Estimator: {g.best_estimator_}')\n",
    "print(f'Best Score: {g.best_score_}')"
   ]
  },
  {
   "cell_type": "code",
   "execution_count": null,
   "id": "9788ce64",
   "metadata": {},
   "outputs": [],
   "source": [
    "m=RandomForestClassifier(max_features='log2', n_estimators=500)\n",
    "m.fit(X_train,y_train)\n",
    "prediction=m.predict(X_test)"
   ]
  },
  {
   "cell_type": "code",
   "execution_count": null,
   "id": "02a9e572",
   "metadata": {},
   "outputs": [],
   "source": [
    "performance(prediction,y_test,m,X_test)"
   ]
  },
  {
   "cell_type": "markdown",
   "id": "70ec9ba3",
   "metadata": {},
   "source": [
    "## Gradient Boosting"
   ]
  },
  {
   "cell_type": "code",
   "execution_count": null,
   "id": "16c5b815",
   "metadata": {},
   "outputs": [],
   "source": [
    "params={'n_estimators':[100,200,300,400,500],\n",
    "      'learning_rate':[0.001,0.01,0.10,],\n",
    "      'subsample':[0.5,1],\n",
    "      'max_depth':[1,2,3,4,5,6,7,8,9,10]}"
   ]
  },
  {
   "cell_type": "code",
   "execution_count": null,
   "id": "75e45ead",
   "metadata": {},
   "outputs": [],
   "source": [
    "g=GridSearchCV(GradientBoostingClassifier(),params,cv=5)"
   ]
  },
  {
   "cell_type": "code",
   "execution_count": null,
   "id": "eca72be3",
   "metadata": {},
   "outputs": [],
   "source": [
    "g.fit(xtrain,ytrain)"
   ]
  },
  {
   "cell_type": "code",
   "execution_count": null,
   "id": "3d9a53f9",
   "metadata": {},
   "outputs": [],
   "source": [
    "print(f'Best Params: {g.best_params_}')\n",
    "print(f'Best Estimator: {g.best_estimator_}')\n",
    "print(f'Best Score: {g.best_score_}')"
   ]
  },
  {
   "cell_type": "code",
   "execution_count": null,
   "id": "521adf96",
   "metadata": {},
   "outputs": [],
   "source": []
  },
  {
   "cell_type": "code",
   "execution_count": null,
   "id": "8394917d",
   "metadata": {},
   "outputs": [],
   "source": []
  },
  {
   "cell_type": "markdown",
   "id": "373d5ed4",
   "metadata": {},
   "source": [
    "## Modelling"
   ]
  },
  {
   "cell_type": "markdown",
   "id": "4dbe9cb1",
   "metadata": {},
   "source": [
    "https://machinelearningmastery.com/hyperparameters-for-classification-machine-learning-algorithms/"
   ]
  },
  {
   "cell_type": "markdown",
   "id": "1b8fc838",
   "metadata": {},
   "source": [
    "https://towardsdatascience.com/will-your-employee-leave-a-machine-learning-model-8484c2a6663e"
   ]
  },
  {
   "cell_type": "code",
   "execution_count": null,
   "id": "051e41a3",
   "metadata": {},
   "outputs": [],
   "source": [
    "pipelines = {\n",
    "       'rf': make_pipeline(\n",
    "             RandomForestClassifier(random_state=7)),\n",
    "       'gb': make_pipeline(\n",
    "             GradientBoostingClassifier(random_state=7)),\n",
    "       'ab': make_pipeline(\n",
    "             AdaBoostClassifier(random_state=7)),\n",
    "       'bc': make_pipeline(\n",
    "             BaggingClassifier(random_state=7)),\n",
    "            }"
   ]
  },
  {
   "cell_type": "code",
   "execution_count": null,
   "id": "e67e8dc8",
   "metadata": {},
   "outputs": [],
   "source": [
    "rf_hyperparameters = {\n",
    "    'randomforestclassifier__n_estimators' : [100, 200],\n",
    "    'randomforestclassifier__max_features' : ['auto', 'sqrt', 'log2'],\n",
    "    'randomforestclassifier__min_samples_leaf' : [1, 3, 5, 10]\n",
    "    }"
   ]
  },
  {
   "cell_type": "code",
   "execution_count": null,
   "id": "a530936a",
   "metadata": {},
   "outputs": [],
   "source": [
    "gb_hyperparameters = {\n",
    "    'gradientboostingclassifier__n_estimators' : [100,200],\n",
    "    'gradientboostingclassifier__learning_rate' : [0.001, 0.01, 0.1],\n",
    "    'gradientboostingclassifier__max_depth' : [3, 7, 9],\n",
    "    'gradientboostingclassifier__subsample' : [0.5, 0.7, 1.0]\n",
    "    }"
   ]
  },
  {
   "cell_type": "code",
   "execution_count": null,
   "id": "57fa0791",
   "metadata": {},
   "outputs": [],
   "source": [
    "ab_hyperparameters = {\n",
    "    'adaboostclassifier__n_estimators' : [100, 200],\n",
    "    'adaboostclassifier__learning_rate' : [0.05, 0.1, 0.2, 1],\n",
    "    }"
   ]
  },
  {
   "cell_type": "code",
   "execution_count": null,
   "id": "0213e156",
   "metadata": {},
   "outputs": [],
   "source": [
    "bc_hyperparameters = {\n",
    "    'baggingclassifier__n_estimators' : [100,200]\n",
    "    }"
   ]
  },
  {
   "cell_type": "code",
   "execution_count": null,
   "id": "90174048",
   "metadata": {},
   "outputs": [],
   "source": [
    "hyperparameters = {\n",
    "    'rf' : rf_hyperparameters,\n",
    "    'gb' : gb_hyperparameters,\n",
    "    'ab' : ab_hyperparameters,\n",
    "    'bc' : bc_hyperparameters\n",
    "    }"
   ]
  },
  {
   "cell_type": "code",
   "execution_count": null,
   "id": "0e6a3688",
   "metadata": {},
   "outputs": [],
   "source": [
    "fitted_models = {}\n",
    "for name, pipeline in pipelines.items():\n",
    "    model = GridSearchCV(pipeline, \n",
    "                         hyperparameters[name], \n",
    "                         cv=10, \n",
    "                         n_jobs=-1, scoring=\"accuracy\")\n",
    "    \n",
    "    model.fit(X_train, y_train)\n",
    "    \n",
    "    print(f'{name}: {model.best_estimator_}')\n",
    "    print(f'{name}: {model.best_params_}')\n",
    "    print(f'{name}: {model.best_score_}')\n",
    "    print(\"\\n\")\n",
    "    \n",
    "    \n",
    "    fitted_models[name] = model"
   ]
  },
  {
   "cell_type": "code",
   "execution_count": null,
   "id": "2b197147",
   "metadata": {},
   "outputs": [],
   "source": [
    "for name, model in fitted_models.items():\n",
    "    print('Results for:', name)\n",
    "    \n",
    "    # obtain predictions\n",
    "    pred = fitted_models[name].predict(X_test)\n",
    "\n",
    "    # accuracy score\n",
    "    print('Accuracy:', accuracy_score(y_test, pred))\n",
    "    \n",
    "    # precision\n",
    "    precision = cm[1][1]/(cm[0][1]+cm[1][1])\n",
    "    print('Precision:', precision)\n",
    "    \n",
    "    # recall\n",
    "    recall = cm[1][1]/(cm[1][0]+cm[1][1])\n",
    "    print('Recall:', recall)\n",
    "    print(\"\\n\")"
   ]
  },
  {
   "cell_type": "code",
   "execution_count": null,
   "id": "452a4271",
   "metadata": {},
   "outputs": [],
   "source": []
  }
 ],
 "metadata": {
  "kernelspec": {
   "display_name": "Python 3.10.7 64-bit",
   "language": "python",
   "name": "python3"
  },
  "language_info": {
   "codemirror_mode": {
    "name": "ipython",
    "version": 3
   },
   "file_extension": ".py",
   "mimetype": "text/x-python",
   "name": "python",
   "nbconvert_exporter": "python",
   "pygments_lexer": "ipython3",
   "version": "3.10.7"
  },
  "vscode": {
   "interpreter": {
    "hash": "be9c48b7f3984ad819d14f6f9e9ad00f762af4dd73407fbdba0e95c704d060ea"
   }
  }
 },
 "nbformat": 4,
 "nbformat_minor": 5
}
